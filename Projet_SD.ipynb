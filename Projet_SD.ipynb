{
  "nbformat": 4,
  "nbformat_minor": 0,
  "metadata": {
    "colab": {
      "provenance": [],
      "collapsed_sections": [
        "qIvBPaZd02Nv",
        "J13zgjzanjKH",
        "P0HMUMS6ZP0k",
        "7XjVeMX7ZJIv",
        "1rWR5p6Wo3k8",
        "UNnlo0AdZU7M",
        "0vx3M3BFRUXo"
      ]
    },
    "kernelspec": {
      "name": "python3",
      "display_name": "Python 3"
    },
    "language_info": {
      "name": "python"
    }
  },
  "cells": [
    {
      "cell_type": "markdown",
      "source": [
        "### Merge donnees"
      ],
      "metadata": {
        "id": "qIvBPaZd02Nv"
      }
    },
    {
      "cell_type": "code",
      "execution_count": null,
      "metadata": {
        "id": "-I1boRAcwD-1"
      },
      "outputs": [],
      "source": [
        "\"\"\"\n",
        "  Merge des donnees\n",
        "\"\"\"\n",
        "# import os\n",
        "# import glob\n",
        "# import pandas as pd\n",
        "\n",
        "# os.chdir(\"C:/Users/Harold/Documents/Universidad/gestion projects/Project/donnees\")\n",
        "\n",
        "# e = 'csv'\n",
        "# archivos = [i for i in glob.glob('*.{}'.format(e))]\n",
        "\n",
        "# merge_donnees = pd.concat([pd.read_csv(f) for f in archivos ])\n",
        "# merge_donnees.to_csv( \"merge_donnees.csv\", index=False, encoding='utf-8-sig')"
      ]
    },
    {
      "cell_type": "markdown",
      "source": [
        "# Projet SD"
      ],
      "metadata": {
        "id": "-B1jrUIU1cXI"
      }
    },
    {
      "cell_type": "code",
      "source": [
        "import numpy as np\n",
        "import pandas as pd\n",
        "import matplotlib.pyplot as plt\n",
        "import seaborn as sns\n",
        "\n",
        "data = pd.read_csv('/content/drive/MyDrive/Universite/Project SD/donnees/merge.csv', sep=\";\")\n",
        "# data = data.replace('None', np.nan)\n",
        "# data['code_type_local'] = data['code_type_local'].astype('float64')\n",
        "\n",
        "# headers = data.iloc[0,:].to_numpy()\n",
        "# data =data.drop([0],axis=0)\n",
        "# data= data.reset_index(drop=True)\n",
        "# data.columns=headers\n",
        "data.head()"
      ],
      "metadata": {
        "colab": {
          "base_uri": "https://localhost:8080/",
          "height": 352
        },
        "id": "nRAf8ul21cFj",
        "outputId": "ed7ff53f-0e8a-4a9f-aa11-e6af3806fd7b"
      },
      "execution_count": 2,
      "outputs": [
        {
          "output_type": "execute_result",
          "data": {
            "text/plain": [
              "    id_mutation date_mutation  numero_disposition nature_mutation  \\\n",
              "0   2022-360375    21/04/2022                   1           Vente   \n",
              "1   2022-360375    21/04/2022                   1           Vente   \n",
              "2  2021-1180016    10/05/2021                   1           Vente   \n",
              "3  2021-1177880    14/01/2021                   1           Vente   \n",
              "4  2021-1177880    14/01/2021                   1           Vente   \n",
              "\n",
              "   valeur_fonciere  adresse_numero adresse_suffixe      adresse_nom_voie  \\\n",
              "0         260000.0            26.0            None           RUE DELILLE   \n",
              "1         260000.0            26.0            None           RUE DELILLE   \n",
              "2         160000.0            13.0            None  RUE ALFRED DE MUSSET   \n",
              "3         174000.0            21.0            None     RUE PAUL VERLAINE   \n",
              "4         174000.0            21.0            None     RUE PAUL VERLAINE   \n",
              "\n",
              "  adresse_code_voie code_postal  ...  surface_reelle_bati  \\\n",
              "0               582       76800  ...                129.0   \n",
              "1               582       76800  ...                  NaN   \n",
              "2                40       76800  ...                 64.0   \n",
              "3              1920       76800  ...                 64.0   \n",
              "4              1920       76800  ...                  NaN   \n",
              "\n",
              "  nombre_pieces_principales  code_nature_culture nature_culture  \\\n",
              "0                       4.0                    S           sols   \n",
              "1                       0.0                    S           sols   \n",
              "2                       4.0                    S           sols   \n",
              "3                       4.0                    S           sols   \n",
              "4                       0.0                    S           sols   \n",
              "\n",
              "  code_nature_culture_speciale nature_culture_speciale surface_terrain  \\\n",
              "0                         None                    None           351.0   \n",
              "1                         None                    None           351.0   \n",
              "2                         None                    None           452.0   \n",
              "3                         None                    None           498.0   \n",
              "4                         None                    None           498.0   \n",
              "\n",
              "  longitude   latitude section_prefixe  \n",
              "0  1.071855  49.401886           000AB  \n",
              "1  1.071855  49.401886           000AB  \n",
              "2  1.070963  49.402764           000AB  \n",
              "3  1.070475  49.403622           000AB  \n",
              "4  1.070475  49.403622           000AB  \n",
              "\n",
              "[5 rows x 41 columns]"
            ],
            "text/html": [
              "\n",
              "  <div id=\"df-94d1fc5e-8739-49ec-af62-e54ca8378308\">\n",
              "    <div class=\"colab-df-container\">\n",
              "      <div>\n",
              "<style scoped>\n",
              "    .dataframe tbody tr th:only-of-type {\n",
              "        vertical-align: middle;\n",
              "    }\n",
              "\n",
              "    .dataframe tbody tr th {\n",
              "        vertical-align: top;\n",
              "    }\n",
              "\n",
              "    .dataframe thead th {\n",
              "        text-align: right;\n",
              "    }\n",
              "</style>\n",
              "<table border=\"1\" class=\"dataframe\">\n",
              "  <thead>\n",
              "    <tr style=\"text-align: right;\">\n",
              "      <th></th>\n",
              "      <th>id_mutation</th>\n",
              "      <th>date_mutation</th>\n",
              "      <th>numero_disposition</th>\n",
              "      <th>nature_mutation</th>\n",
              "      <th>valeur_fonciere</th>\n",
              "      <th>adresse_numero</th>\n",
              "      <th>adresse_suffixe</th>\n",
              "      <th>adresse_nom_voie</th>\n",
              "      <th>adresse_code_voie</th>\n",
              "      <th>code_postal</th>\n",
              "      <th>...</th>\n",
              "      <th>surface_reelle_bati</th>\n",
              "      <th>nombre_pieces_principales</th>\n",
              "      <th>code_nature_culture</th>\n",
              "      <th>nature_culture</th>\n",
              "      <th>code_nature_culture_speciale</th>\n",
              "      <th>nature_culture_speciale</th>\n",
              "      <th>surface_terrain</th>\n",
              "      <th>longitude</th>\n",
              "      <th>latitude</th>\n",
              "      <th>section_prefixe</th>\n",
              "    </tr>\n",
              "  </thead>\n",
              "  <tbody>\n",
              "    <tr>\n",
              "      <th>0</th>\n",
              "      <td>2022-360375</td>\n",
              "      <td>21/04/2022</td>\n",
              "      <td>1</td>\n",
              "      <td>Vente</td>\n",
              "      <td>260000.0</td>\n",
              "      <td>26.0</td>\n",
              "      <td>None</td>\n",
              "      <td>RUE DELILLE</td>\n",
              "      <td>582</td>\n",
              "      <td>76800</td>\n",
              "      <td>...</td>\n",
              "      <td>129.0</td>\n",
              "      <td>4.0</td>\n",
              "      <td>S</td>\n",
              "      <td>sols</td>\n",
              "      <td>None</td>\n",
              "      <td>None</td>\n",
              "      <td>351.0</td>\n",
              "      <td>1.071855</td>\n",
              "      <td>49.401886</td>\n",
              "      <td>000AB</td>\n",
              "    </tr>\n",
              "    <tr>\n",
              "      <th>1</th>\n",
              "      <td>2022-360375</td>\n",
              "      <td>21/04/2022</td>\n",
              "      <td>1</td>\n",
              "      <td>Vente</td>\n",
              "      <td>260000.0</td>\n",
              "      <td>26.0</td>\n",
              "      <td>None</td>\n",
              "      <td>RUE DELILLE</td>\n",
              "      <td>582</td>\n",
              "      <td>76800</td>\n",
              "      <td>...</td>\n",
              "      <td>NaN</td>\n",
              "      <td>0.0</td>\n",
              "      <td>S</td>\n",
              "      <td>sols</td>\n",
              "      <td>None</td>\n",
              "      <td>None</td>\n",
              "      <td>351.0</td>\n",
              "      <td>1.071855</td>\n",
              "      <td>49.401886</td>\n",
              "      <td>000AB</td>\n",
              "    </tr>\n",
              "    <tr>\n",
              "      <th>2</th>\n",
              "      <td>2021-1180016</td>\n",
              "      <td>10/05/2021</td>\n",
              "      <td>1</td>\n",
              "      <td>Vente</td>\n",
              "      <td>160000.0</td>\n",
              "      <td>13.0</td>\n",
              "      <td>None</td>\n",
              "      <td>RUE ALFRED DE MUSSET</td>\n",
              "      <td>40</td>\n",
              "      <td>76800</td>\n",
              "      <td>...</td>\n",
              "      <td>64.0</td>\n",
              "      <td>4.0</td>\n",
              "      <td>S</td>\n",
              "      <td>sols</td>\n",
              "      <td>None</td>\n",
              "      <td>None</td>\n",
              "      <td>452.0</td>\n",
              "      <td>1.070963</td>\n",
              "      <td>49.402764</td>\n",
              "      <td>000AB</td>\n",
              "    </tr>\n",
              "    <tr>\n",
              "      <th>3</th>\n",
              "      <td>2021-1177880</td>\n",
              "      <td>14/01/2021</td>\n",
              "      <td>1</td>\n",
              "      <td>Vente</td>\n",
              "      <td>174000.0</td>\n",
              "      <td>21.0</td>\n",
              "      <td>None</td>\n",
              "      <td>RUE PAUL VERLAINE</td>\n",
              "      <td>1920</td>\n",
              "      <td>76800</td>\n",
              "      <td>...</td>\n",
              "      <td>64.0</td>\n",
              "      <td>4.0</td>\n",
              "      <td>S</td>\n",
              "      <td>sols</td>\n",
              "      <td>None</td>\n",
              "      <td>None</td>\n",
              "      <td>498.0</td>\n",
              "      <td>1.070475</td>\n",
              "      <td>49.403622</td>\n",
              "      <td>000AB</td>\n",
              "    </tr>\n",
              "    <tr>\n",
              "      <th>4</th>\n",
              "      <td>2021-1177880</td>\n",
              "      <td>14/01/2021</td>\n",
              "      <td>1</td>\n",
              "      <td>Vente</td>\n",
              "      <td>174000.0</td>\n",
              "      <td>21.0</td>\n",
              "      <td>None</td>\n",
              "      <td>RUE PAUL VERLAINE</td>\n",
              "      <td>1920</td>\n",
              "      <td>76800</td>\n",
              "      <td>...</td>\n",
              "      <td>NaN</td>\n",
              "      <td>0.0</td>\n",
              "      <td>S</td>\n",
              "      <td>sols</td>\n",
              "      <td>None</td>\n",
              "      <td>None</td>\n",
              "      <td>498.0</td>\n",
              "      <td>1.070475</td>\n",
              "      <td>49.403622</td>\n",
              "      <td>000AB</td>\n",
              "    </tr>\n",
              "  </tbody>\n",
              "</table>\n",
              "<p>5 rows × 41 columns</p>\n",
              "</div>\n",
              "      <button class=\"colab-df-convert\" onclick=\"convertToInteractive('df-94d1fc5e-8739-49ec-af62-e54ca8378308')\"\n",
              "              title=\"Convert this dataframe to an interactive table.\"\n",
              "              style=\"display:none;\">\n",
              "        \n",
              "  <svg xmlns=\"http://www.w3.org/2000/svg\" height=\"24px\"viewBox=\"0 0 24 24\"\n",
              "       width=\"24px\">\n",
              "    <path d=\"M0 0h24v24H0V0z\" fill=\"none\"/>\n",
              "    <path d=\"M18.56 5.44l.94 2.06.94-2.06 2.06-.94-2.06-.94-.94-2.06-.94 2.06-2.06.94zm-11 1L8.5 8.5l.94-2.06 2.06-.94-2.06-.94L8.5 2.5l-.94 2.06-2.06.94zm10 10l.94 2.06.94-2.06 2.06-.94-2.06-.94-.94-2.06-.94 2.06-2.06.94z\"/><path d=\"M17.41 7.96l-1.37-1.37c-.4-.4-.92-.59-1.43-.59-.52 0-1.04.2-1.43.59L10.3 9.45l-7.72 7.72c-.78.78-.78 2.05 0 2.83L4 21.41c.39.39.9.59 1.41.59.51 0 1.02-.2 1.41-.59l7.78-7.78 2.81-2.81c.8-.78.8-2.07 0-2.86zM5.41 20L4 18.59l7.72-7.72 1.47 1.35L5.41 20z\"/>\n",
              "  </svg>\n",
              "      </button>\n",
              "      \n",
              "  <style>\n",
              "    .colab-df-container {\n",
              "      display:flex;\n",
              "      flex-wrap:wrap;\n",
              "      gap: 12px;\n",
              "    }\n",
              "\n",
              "    .colab-df-convert {\n",
              "      background-color: #E8F0FE;\n",
              "      border: none;\n",
              "      border-radius: 50%;\n",
              "      cursor: pointer;\n",
              "      display: none;\n",
              "      fill: #1967D2;\n",
              "      height: 32px;\n",
              "      padding: 0 0 0 0;\n",
              "      width: 32px;\n",
              "    }\n",
              "\n",
              "    .colab-df-convert:hover {\n",
              "      background-color: #E2EBFA;\n",
              "      box-shadow: 0px 1px 2px rgba(60, 64, 67, 0.3), 0px 1px 3px 1px rgba(60, 64, 67, 0.15);\n",
              "      fill: #174EA6;\n",
              "    }\n",
              "\n",
              "    [theme=dark] .colab-df-convert {\n",
              "      background-color: #3B4455;\n",
              "      fill: #D2E3FC;\n",
              "    }\n",
              "\n",
              "    [theme=dark] .colab-df-convert:hover {\n",
              "      background-color: #434B5C;\n",
              "      box-shadow: 0px 1px 3px 1px rgba(0, 0, 0, 0.15);\n",
              "      filter: drop-shadow(0px 1px 2px rgba(0, 0, 0, 0.3));\n",
              "      fill: #FFFFFF;\n",
              "    }\n",
              "  </style>\n",
              "\n",
              "      <script>\n",
              "        const buttonEl =\n",
              "          document.querySelector('#df-94d1fc5e-8739-49ec-af62-e54ca8378308 button.colab-df-convert');\n",
              "        buttonEl.style.display =\n",
              "          google.colab.kernel.accessAllowed ? 'block' : 'none';\n",
              "\n",
              "        async function convertToInteractive(key) {\n",
              "          const element = document.querySelector('#df-94d1fc5e-8739-49ec-af62-e54ca8378308');\n",
              "          const dataTable =\n",
              "            await google.colab.kernel.invokeFunction('convertToInteractive',\n",
              "                                                     [key], {});\n",
              "          if (!dataTable) return;\n",
              "\n",
              "          const docLinkHtml = 'Like what you see? Visit the ' +\n",
              "            '<a target=\"_blank\" href=https://colab.research.google.com/notebooks/data_table.ipynb>data table notebook</a>'\n",
              "            + ' to learn more about interactive tables.';\n",
              "          element.innerHTML = '';\n",
              "          dataTable['output_type'] = 'display_data';\n",
              "          await google.colab.output.renderOutput(dataTable, element);\n",
              "          const docLink = document.createElement('div');\n",
              "          docLink.innerHTML = docLinkHtml;\n",
              "          element.appendChild(docLink);\n",
              "        }\n",
              "      </script>\n",
              "    </div>\n",
              "  </div>\n",
              "  "
            ]
          },
          "metadata": {},
          "execution_count": 2
        }
      ]
    },
    {
      "cell_type": "code",
      "source": [
        "data.shape"
      ],
      "metadata": {
        "colab": {
          "base_uri": "https://localhost:8080/"
        },
        "id": "D8lMjy9P_fEu",
        "outputId": "8d41009b-a474-4dfa-81b6-dfce82c7b499"
      },
      "execution_count": 38,
      "outputs": [
        {
          "output_type": "execute_result",
          "data": {
            "text/plain": [
              "(2972, 41)"
            ]
          },
          "metadata": {},
          "execution_count": 38
        }
      ]
    },
    {
      "cell_type": "code",
      "source": [
        "data.info()"
      ],
      "metadata": {
        "colab": {
          "base_uri": "https://localhost:8080/"
        },
        "id": "4_fZArSu_2yh",
        "outputId": "14b4b62a-cd4b-428f-e819-ade9efb895f4"
      },
      "execution_count": 39,
      "outputs": [
        {
          "output_type": "stream",
          "name": "stdout",
          "text": [
            "<class 'pandas.core.frame.DataFrame'>\n",
            "RangeIndex: 2972 entries, 0 to 2971\n",
            "Data columns (total 41 columns):\n",
            " #   Column                        Non-Null Count  Dtype  \n",
            "---  ------                        --------------  -----  \n",
            " 0   id_mutation                   2972 non-null   object \n",
            " 1   date_mutation                 2972 non-null   object \n",
            " 2   numero_disposition            2972 non-null   int64  \n",
            " 3   nature_mutation               2972 non-null   object \n",
            " 4   valeur_fonciere               2922 non-null   float64\n",
            " 5   adresse_numero                2487 non-null   float64\n",
            " 6   adresse_suffixe               2972 non-null   object \n",
            " 7   adresse_nom_voie              2972 non-null   object \n",
            " 8   adresse_code_voie             2972 non-null   object \n",
            " 9   code_postal                   2972 non-null   object \n",
            " 10  code_commune                  2972 non-null   int64  \n",
            " 11  nom_commune                   2972 non-null   object \n",
            " 12  code_departement              2972 non-null   int64  \n",
            " 13  ancien_code_commune           2972 non-null   object \n",
            " 14  ancien_nom_commune            2972 non-null   object \n",
            " 15  id_parcelle                   2972 non-null   object \n",
            " 16  ancien_id_parcelle            2972 non-null   object \n",
            " 17  numero_volume                 2972 non-null   object \n",
            " 18  lot1_numero                   2972 non-null   object \n",
            " 19  lot1_surface_carrez           1298 non-null   object \n",
            " 20  lot2_numero                   2972 non-null   object \n",
            " 21  lot2_surface_carrez           2264 non-null   object \n",
            " 22  lot3_numero                   2972 non-null   object \n",
            " 23  lot3_surface_carrez           2502 non-null   object \n",
            " 24  lot4_numero                   2972 non-null   object \n",
            " 25  lot4_surface_carrez           2972 non-null   object \n",
            " 26  lot5_numero                   2972 non-null   object \n",
            " 27  lot5_surface_carrez           2972 non-null   object \n",
            " 28  nombre_lots                   2972 non-null   int64  \n",
            " 29  code_type_local               2972 non-null   object \n",
            " 30  type_local                    2972 non-null   object \n",
            " 31  surface_reelle_bati           1613 non-null   float64\n",
            " 32  nombre_pieces_principales     2197 non-null   float64\n",
            " 33  code_nature_culture           2972 non-null   object \n",
            " 34  nature_culture                2972 non-null   object \n",
            " 35  code_nature_culture_speciale  2972 non-null   object \n",
            " 36  nature_culture_speciale       2972 non-null   object \n",
            " 37  surface_terrain               2515 non-null   float64\n",
            " 38  longitude                     2945 non-null   float64\n",
            " 39  latitude                      2945 non-null   float64\n",
            " 40  section_prefixe               2972 non-null   object \n",
            "dtypes: float64(7), int64(4), object(30)\n",
            "memory usage: 952.1+ KB\n"
          ]
        }
      ]
    },
    {
      "cell_type": "code",
      "source": [
        "data.isnull().sum()"
      ],
      "metadata": {
        "id": "xbZRnpCgWOEU",
        "colab": {
          "base_uri": "https://localhost:8080/"
        },
        "outputId": "ef234e51-9354-4ab9-ba14-629c4b0ec909"
      },
      "execution_count": 40,
      "outputs": [
        {
          "output_type": "execute_result",
          "data": {
            "text/plain": [
              "id_mutation                        0\n",
              "date_mutation                      0\n",
              "numero_disposition                 0\n",
              "nature_mutation                    0\n",
              "valeur_fonciere                   50\n",
              "adresse_numero                   485\n",
              "adresse_suffixe                    0\n",
              "adresse_nom_voie                   0\n",
              "adresse_code_voie                  0\n",
              "code_postal                        0\n",
              "code_commune                       0\n",
              "nom_commune                        0\n",
              "code_departement                   0\n",
              "ancien_code_commune                0\n",
              "ancien_nom_commune                 0\n",
              "id_parcelle                        0\n",
              "ancien_id_parcelle                 0\n",
              "numero_volume                      0\n",
              "lot1_numero                        0\n",
              "lot1_surface_carrez             1674\n",
              "lot2_numero                        0\n",
              "lot2_surface_carrez              708\n",
              "lot3_numero                        0\n",
              "lot3_surface_carrez              470\n",
              "lot4_numero                        0\n",
              "lot4_surface_carrez                0\n",
              "lot5_numero                        0\n",
              "lot5_surface_carrez                0\n",
              "nombre_lots                        0\n",
              "code_type_local                    0\n",
              "type_local                         0\n",
              "surface_reelle_bati             1359\n",
              "nombre_pieces_principales        775\n",
              "code_nature_culture                0\n",
              "nature_culture                     0\n",
              "code_nature_culture_speciale       0\n",
              "nature_culture_speciale            0\n",
              "surface_terrain                  457\n",
              "longitude                         27\n",
              "latitude                          27\n",
              "section_prefixe                    0\n",
              "dtype: int64"
            ]
          },
          "metadata": {},
          "execution_count": 40
        }
      ]
    },
    {
      "cell_type": "code",
      "source": [
        "data['nature_culture'].value_counts()"
      ],
      "metadata": {
        "colab": {
          "base_uri": "https://localhost:8080/"
        },
        "id": "V90G_FeEHPkP",
        "outputId": "31a1aaca-52b3-4af4-9188-f115c803198b"
      },
      "execution_count": null,
      "outputs": [
        {
          "output_type": "execute_result",
          "data": {
            "text/plain": [
              "sols                   2058\n",
              "None                    457\n",
              "Terrain à bâtir         277\n",
              "terrains d'agrément     110\n",
              "jardins                  45\n",
              "landes                   10\n",
              "terres                    4\n",
              "prés                      4\n",
              "taillis simples           4\n",
              "chemin de fer             3\n",
              "Name: nature_culture, dtype: int64"
            ]
          },
          "metadata": {},
          "execution_count": 236
        }
      ]
    },
    {
      "cell_type": "code",
      "source": [
        "array_delete = ['id_mutation', 'date_mutation', 'adresse_suffixe', 'code_postal', 'code_commune', 'nom_commune', 'code_departement', 'ancien_code_commune', 'ancien_nom_commune', 'id_parcelle', 'ancien_id_parcelle', 'numero_volume', 'lot1_numero', 'lot1_surface_carrez', 'lot2_numero', 'lot2_surface_carrez', 'lot3_numero', 'lot3_surface_carrez', 'lot4_numero', 'lot4_surface_carrez', 'lot5_numero', 'lot5_surface_carrez', 'code_nature_culture_speciale', 'nature_culture_speciale', 'section_prefixe', 'numero_disposition', 'nature_mutation', 'adresse_numero', 'adresse_nom_voie', 'adresse_code_voie', 'nombre_lots', 'type_local', 'code_nature_culture', 'nature_culture', 'longitude','latitude']\n",
        "longitude = data['longitude'].to_numpy()\n",
        "latitude = data['latitude'].to_numpy()\n",
        "data.drop(columns = array_delete, inplace = True)"
      ],
      "metadata": {
        "id": "cT3UBbQuFJ8z"
      },
      "execution_count": 3,
      "outputs": []
    },
    {
      "cell_type": "code",
      "source": [
        "data"
      ],
      "metadata": {
        "colab": {
          "base_uri": "https://localhost:8080/",
          "height": 424
        },
        "id": "0iE6sJL6M0dm",
        "outputId": "bf4535bf-24d8-49d5-c85c-98d34bef6e74"
      },
      "execution_count": 18,
      "outputs": [
        {
          "output_type": "execute_result",
          "data": {
            "text/plain": [
              "      valeur_fonciere code_type_local  surface_reelle_bati  \\\n",
              "0            260000.0               1                129.0   \n",
              "1            260000.0               3                  NaN   \n",
              "2            160000.0               1                 64.0   \n",
              "3            174000.0               1                 64.0   \n",
              "4            174000.0               3                  NaN   \n",
              "...               ...             ...                  ...   \n",
              "2967          56460.0               4              11002.0   \n",
              "2968        1000000.0               2                 87.0   \n",
              "2969        1000000.0               4               1048.0   \n",
              "2970         165600.0             NaN                  NaN   \n",
              "2971         665000.0               4                600.0   \n",
              "\n",
              "      nombre_pieces_principales  surface_terrain  \n",
              "0                           4.0            351.0  \n",
              "1                           0.0            351.0  \n",
              "2                           4.0            452.0  \n",
              "3                           4.0            498.0  \n",
              "4                           0.0            498.0  \n",
              "...                         ...              ...  \n",
              "2967                        0.0          29103.0  \n",
              "2968                        3.0           3973.0  \n",
              "2969                        0.0           3973.0  \n",
              "2970                        NaN           1465.0  \n",
              "2971                        0.0           2112.0  \n",
              "\n",
              "[2972 rows x 5 columns]"
            ],
            "text/html": [
              "\n",
              "  <div id=\"df-8ecae43a-ede6-4f83-8b5b-1ce2ddb75e0a\">\n",
              "    <div class=\"colab-df-container\">\n",
              "      <div>\n",
              "<style scoped>\n",
              "    .dataframe tbody tr th:only-of-type {\n",
              "        vertical-align: middle;\n",
              "    }\n",
              "\n",
              "    .dataframe tbody tr th {\n",
              "        vertical-align: top;\n",
              "    }\n",
              "\n",
              "    .dataframe thead th {\n",
              "        text-align: right;\n",
              "    }\n",
              "</style>\n",
              "<table border=\"1\" class=\"dataframe\">\n",
              "  <thead>\n",
              "    <tr style=\"text-align: right;\">\n",
              "      <th></th>\n",
              "      <th>valeur_fonciere</th>\n",
              "      <th>code_type_local</th>\n",
              "      <th>surface_reelle_bati</th>\n",
              "      <th>nombre_pieces_principales</th>\n",
              "      <th>surface_terrain</th>\n",
              "    </tr>\n",
              "  </thead>\n",
              "  <tbody>\n",
              "    <tr>\n",
              "      <th>0</th>\n",
              "      <td>260000.0</td>\n",
              "      <td>1</td>\n",
              "      <td>129.0</td>\n",
              "      <td>4.0</td>\n",
              "      <td>351.0</td>\n",
              "    </tr>\n",
              "    <tr>\n",
              "      <th>1</th>\n",
              "      <td>260000.0</td>\n",
              "      <td>3</td>\n",
              "      <td>NaN</td>\n",
              "      <td>0.0</td>\n",
              "      <td>351.0</td>\n",
              "    </tr>\n",
              "    <tr>\n",
              "      <th>2</th>\n",
              "      <td>160000.0</td>\n",
              "      <td>1</td>\n",
              "      <td>64.0</td>\n",
              "      <td>4.0</td>\n",
              "      <td>452.0</td>\n",
              "    </tr>\n",
              "    <tr>\n",
              "      <th>3</th>\n",
              "      <td>174000.0</td>\n",
              "      <td>1</td>\n",
              "      <td>64.0</td>\n",
              "      <td>4.0</td>\n",
              "      <td>498.0</td>\n",
              "    </tr>\n",
              "    <tr>\n",
              "      <th>4</th>\n",
              "      <td>174000.0</td>\n",
              "      <td>3</td>\n",
              "      <td>NaN</td>\n",
              "      <td>0.0</td>\n",
              "      <td>498.0</td>\n",
              "    </tr>\n",
              "    <tr>\n",
              "      <th>...</th>\n",
              "      <td>...</td>\n",
              "      <td>...</td>\n",
              "      <td>...</td>\n",
              "      <td>...</td>\n",
              "      <td>...</td>\n",
              "    </tr>\n",
              "    <tr>\n",
              "      <th>2967</th>\n",
              "      <td>56460.0</td>\n",
              "      <td>4</td>\n",
              "      <td>11002.0</td>\n",
              "      <td>0.0</td>\n",
              "      <td>29103.0</td>\n",
              "    </tr>\n",
              "    <tr>\n",
              "      <th>2968</th>\n",
              "      <td>1000000.0</td>\n",
              "      <td>2</td>\n",
              "      <td>87.0</td>\n",
              "      <td>3.0</td>\n",
              "      <td>3973.0</td>\n",
              "    </tr>\n",
              "    <tr>\n",
              "      <th>2969</th>\n",
              "      <td>1000000.0</td>\n",
              "      <td>4</td>\n",
              "      <td>1048.0</td>\n",
              "      <td>0.0</td>\n",
              "      <td>3973.0</td>\n",
              "    </tr>\n",
              "    <tr>\n",
              "      <th>2970</th>\n",
              "      <td>165600.0</td>\n",
              "      <td>NaN</td>\n",
              "      <td>NaN</td>\n",
              "      <td>NaN</td>\n",
              "      <td>1465.0</td>\n",
              "    </tr>\n",
              "    <tr>\n",
              "      <th>2971</th>\n",
              "      <td>665000.0</td>\n",
              "      <td>4</td>\n",
              "      <td>600.0</td>\n",
              "      <td>0.0</td>\n",
              "      <td>2112.0</td>\n",
              "    </tr>\n",
              "  </tbody>\n",
              "</table>\n",
              "<p>2972 rows × 5 columns</p>\n",
              "</div>\n",
              "      <button class=\"colab-df-convert\" onclick=\"convertToInteractive('df-8ecae43a-ede6-4f83-8b5b-1ce2ddb75e0a')\"\n",
              "              title=\"Convert this dataframe to an interactive table.\"\n",
              "              style=\"display:none;\">\n",
              "        \n",
              "  <svg xmlns=\"http://www.w3.org/2000/svg\" height=\"24px\"viewBox=\"0 0 24 24\"\n",
              "       width=\"24px\">\n",
              "    <path d=\"M0 0h24v24H0V0z\" fill=\"none\"/>\n",
              "    <path d=\"M18.56 5.44l.94 2.06.94-2.06 2.06-.94-2.06-.94-.94-2.06-.94 2.06-2.06.94zm-11 1L8.5 8.5l.94-2.06 2.06-.94-2.06-.94L8.5 2.5l-.94 2.06-2.06.94zm10 10l.94 2.06.94-2.06 2.06-.94-2.06-.94-.94-2.06-.94 2.06-2.06.94z\"/><path d=\"M17.41 7.96l-1.37-1.37c-.4-.4-.92-.59-1.43-.59-.52 0-1.04.2-1.43.59L10.3 9.45l-7.72 7.72c-.78.78-.78 2.05 0 2.83L4 21.41c.39.39.9.59 1.41.59.51 0 1.02-.2 1.41-.59l7.78-7.78 2.81-2.81c.8-.78.8-2.07 0-2.86zM5.41 20L4 18.59l7.72-7.72 1.47 1.35L5.41 20z\"/>\n",
              "  </svg>\n",
              "      </button>\n",
              "      \n",
              "  <style>\n",
              "    .colab-df-container {\n",
              "      display:flex;\n",
              "      flex-wrap:wrap;\n",
              "      gap: 12px;\n",
              "    }\n",
              "\n",
              "    .colab-df-convert {\n",
              "      background-color: #E8F0FE;\n",
              "      border: none;\n",
              "      border-radius: 50%;\n",
              "      cursor: pointer;\n",
              "      display: none;\n",
              "      fill: #1967D2;\n",
              "      height: 32px;\n",
              "      padding: 0 0 0 0;\n",
              "      width: 32px;\n",
              "    }\n",
              "\n",
              "    .colab-df-convert:hover {\n",
              "      background-color: #E2EBFA;\n",
              "      box-shadow: 0px 1px 2px rgba(60, 64, 67, 0.3), 0px 1px 3px 1px rgba(60, 64, 67, 0.15);\n",
              "      fill: #174EA6;\n",
              "    }\n",
              "\n",
              "    [theme=dark] .colab-df-convert {\n",
              "      background-color: #3B4455;\n",
              "      fill: #D2E3FC;\n",
              "    }\n",
              "\n",
              "    [theme=dark] .colab-df-convert:hover {\n",
              "      background-color: #434B5C;\n",
              "      box-shadow: 0px 1px 3px 1px rgba(0, 0, 0, 0.15);\n",
              "      filter: drop-shadow(0px 1px 2px rgba(0, 0, 0, 0.3));\n",
              "      fill: #FFFFFF;\n",
              "    }\n",
              "  </style>\n",
              "\n",
              "      <script>\n",
              "        const buttonEl =\n",
              "          document.querySelector('#df-8ecae43a-ede6-4f83-8b5b-1ce2ddb75e0a button.colab-df-convert');\n",
              "        buttonEl.style.display =\n",
              "          google.colab.kernel.accessAllowed ? 'block' : 'none';\n",
              "\n",
              "        async function convertToInteractive(key) {\n",
              "          const element = document.querySelector('#df-8ecae43a-ede6-4f83-8b5b-1ce2ddb75e0a');\n",
              "          const dataTable =\n",
              "            await google.colab.kernel.invokeFunction('convertToInteractive',\n",
              "                                                     [key], {});\n",
              "          if (!dataTable) return;\n",
              "\n",
              "          const docLinkHtml = 'Like what you see? Visit the ' +\n",
              "            '<a target=\"_blank\" href=https://colab.research.google.com/notebooks/data_table.ipynb>data table notebook</a>'\n",
              "            + ' to learn more about interactive tables.';\n",
              "          element.innerHTML = '';\n",
              "          dataTable['output_type'] = 'display_data';\n",
              "          await google.colab.output.renderOutput(dataTable, element);\n",
              "          const docLink = document.createElement('div');\n",
              "          docLink.innerHTML = docLinkHtml;\n",
              "          element.appendChild(docLink);\n",
              "        }\n",
              "      </script>\n",
              "    </div>\n",
              "  </div>\n",
              "  "
            ]
          },
          "metadata": {},
          "execution_count": 18
        }
      ]
    },
    {
      "cell_type": "code",
      "source": [
        "data.isnull().sum()"
      ],
      "metadata": {
        "colab": {
          "base_uri": "https://localhost:8080/"
        },
        "id": "JTr_tktAVoNW",
        "outputId": "5062d6dd-3031-4d2c-94cc-78da4a464564"
      },
      "execution_count": 42,
      "outputs": [
        {
          "output_type": "execute_result",
          "data": {
            "text/plain": [
              "valeur_fonciere                50\n",
              "code_type_local                 0\n",
              "surface_reelle_bati          1359\n",
              "nombre_pieces_principales     775\n",
              "surface_terrain               457\n",
              "dtype: int64"
            ]
          },
          "metadata": {},
          "execution_count": 42
        }
      ]
    },
    {
      "cell_type": "code",
      "source": [
        "# print(data['code_type_local'].value_counts())\n",
        "# print(data['type_local'].value_counts())"
      ],
      "metadata": {
        "colab": {
          "base_uri": "https://localhost:8080/"
        },
        "id": "B-8NAcNOEc1a",
        "outputId": "c648062b-2c49-4b45-be95-f064326b1d84"
      },
      "execution_count": 11,
      "outputs": [
        {
          "output_type": "stream",
          "name": "stdout",
          "text": [
            "1.0    1077\n",
            "3.0     569\n",
            "2.0     401\n",
            "4.0     152\n",
            "Name: code_type_local, dtype: int64\n",
            "Maison                                      1077\n",
            "Dépendance                                   569\n",
            "Appartement                                  401\n",
            "Local industriel. commercial ou assimilé     152\n",
            "Name: type_local, dtype: int64\n"
          ]
        }
      ]
    },
    {
      "cell_type": "code",
      "source": [
        "data_1 = data.copy()\n",
        "data_1 = data_1.dropna()"
      ],
      "metadata": {
        "id": "MKtNb1FLMMQi"
      },
      "execution_count": 4,
      "outputs": []
    },
    {
      "cell_type": "code",
      "source": [
        "data_1['code_type_local'] = data_1['code_type_local'].astype('float64')\n",
        "data_1"
      ],
      "metadata": {
        "colab": {
          "base_uri": "https://localhost:8080/",
          "height": 424
        },
        "id": "x8_lcy8dMRwS",
        "outputId": "286d7204-ed13-4a32-ab73-3a1187a286c3"
      },
      "execution_count": 5,
      "outputs": [
        {
          "output_type": "execute_result",
          "data": {
            "text/plain": [
              "      valeur_fonciere  code_type_local  surface_reelle_bati  \\\n",
              "0            260000.0              1.0                129.0   \n",
              "2            160000.0              1.0                 64.0   \n",
              "3            174000.0              1.0                 64.0   \n",
              "5            200000.0              2.0                 18.0   \n",
              "6            200000.0              4.0                 68.0   \n",
              "...               ...              ...                  ...   \n",
              "2966          56460.0              4.0                919.0   \n",
              "2967          56460.0              4.0              11002.0   \n",
              "2968        1000000.0              2.0                 87.0   \n",
              "2969        1000000.0              4.0               1048.0   \n",
              "2971         665000.0              4.0                600.0   \n",
              "\n",
              "      nombre_pieces_principales  surface_terrain  \n",
              "0                           4.0            351.0  \n",
              "2                           4.0            452.0  \n",
              "3                           4.0            498.0  \n",
              "5                           1.0            105.0  \n",
              "6                           0.0            105.0  \n",
              "...                         ...              ...  \n",
              "2966                        0.0          29103.0  \n",
              "2967                        0.0          29103.0  \n",
              "2968                        3.0           3973.0  \n",
              "2969                        0.0           3973.0  \n",
              "2971                        0.0           2112.0  \n",
              "\n",
              "[1332 rows x 5 columns]"
            ],
            "text/html": [
              "\n",
              "  <div id=\"df-5c7640cb-dfd7-419d-b8b7-61ab011fde38\">\n",
              "    <div class=\"colab-df-container\">\n",
              "      <div>\n",
              "<style scoped>\n",
              "    .dataframe tbody tr th:only-of-type {\n",
              "        vertical-align: middle;\n",
              "    }\n",
              "\n",
              "    .dataframe tbody tr th {\n",
              "        vertical-align: top;\n",
              "    }\n",
              "\n",
              "    .dataframe thead th {\n",
              "        text-align: right;\n",
              "    }\n",
              "</style>\n",
              "<table border=\"1\" class=\"dataframe\">\n",
              "  <thead>\n",
              "    <tr style=\"text-align: right;\">\n",
              "      <th></th>\n",
              "      <th>valeur_fonciere</th>\n",
              "      <th>code_type_local</th>\n",
              "      <th>surface_reelle_bati</th>\n",
              "      <th>nombre_pieces_principales</th>\n",
              "      <th>surface_terrain</th>\n",
              "    </tr>\n",
              "  </thead>\n",
              "  <tbody>\n",
              "    <tr>\n",
              "      <th>0</th>\n",
              "      <td>260000.0</td>\n",
              "      <td>1.0</td>\n",
              "      <td>129.0</td>\n",
              "      <td>4.0</td>\n",
              "      <td>351.0</td>\n",
              "    </tr>\n",
              "    <tr>\n",
              "      <th>2</th>\n",
              "      <td>160000.0</td>\n",
              "      <td>1.0</td>\n",
              "      <td>64.0</td>\n",
              "      <td>4.0</td>\n",
              "      <td>452.0</td>\n",
              "    </tr>\n",
              "    <tr>\n",
              "      <th>3</th>\n",
              "      <td>174000.0</td>\n",
              "      <td>1.0</td>\n",
              "      <td>64.0</td>\n",
              "      <td>4.0</td>\n",
              "      <td>498.0</td>\n",
              "    </tr>\n",
              "    <tr>\n",
              "      <th>5</th>\n",
              "      <td>200000.0</td>\n",
              "      <td>2.0</td>\n",
              "      <td>18.0</td>\n",
              "      <td>1.0</td>\n",
              "      <td>105.0</td>\n",
              "    </tr>\n",
              "    <tr>\n",
              "      <th>6</th>\n",
              "      <td>200000.0</td>\n",
              "      <td>4.0</td>\n",
              "      <td>68.0</td>\n",
              "      <td>0.0</td>\n",
              "      <td>105.0</td>\n",
              "    </tr>\n",
              "    <tr>\n",
              "      <th>...</th>\n",
              "      <td>...</td>\n",
              "      <td>...</td>\n",
              "      <td>...</td>\n",
              "      <td>...</td>\n",
              "      <td>...</td>\n",
              "    </tr>\n",
              "    <tr>\n",
              "      <th>2966</th>\n",
              "      <td>56460.0</td>\n",
              "      <td>4.0</td>\n",
              "      <td>919.0</td>\n",
              "      <td>0.0</td>\n",
              "      <td>29103.0</td>\n",
              "    </tr>\n",
              "    <tr>\n",
              "      <th>2967</th>\n",
              "      <td>56460.0</td>\n",
              "      <td>4.0</td>\n",
              "      <td>11002.0</td>\n",
              "      <td>0.0</td>\n",
              "      <td>29103.0</td>\n",
              "    </tr>\n",
              "    <tr>\n",
              "      <th>2968</th>\n",
              "      <td>1000000.0</td>\n",
              "      <td>2.0</td>\n",
              "      <td>87.0</td>\n",
              "      <td>3.0</td>\n",
              "      <td>3973.0</td>\n",
              "    </tr>\n",
              "    <tr>\n",
              "      <th>2969</th>\n",
              "      <td>1000000.0</td>\n",
              "      <td>4.0</td>\n",
              "      <td>1048.0</td>\n",
              "      <td>0.0</td>\n",
              "      <td>3973.0</td>\n",
              "    </tr>\n",
              "    <tr>\n",
              "      <th>2971</th>\n",
              "      <td>665000.0</td>\n",
              "      <td>4.0</td>\n",
              "      <td>600.0</td>\n",
              "      <td>0.0</td>\n",
              "      <td>2112.0</td>\n",
              "    </tr>\n",
              "  </tbody>\n",
              "</table>\n",
              "<p>1332 rows × 5 columns</p>\n",
              "</div>\n",
              "      <button class=\"colab-df-convert\" onclick=\"convertToInteractive('df-5c7640cb-dfd7-419d-b8b7-61ab011fde38')\"\n",
              "              title=\"Convert this dataframe to an interactive table.\"\n",
              "              style=\"display:none;\">\n",
              "        \n",
              "  <svg xmlns=\"http://www.w3.org/2000/svg\" height=\"24px\"viewBox=\"0 0 24 24\"\n",
              "       width=\"24px\">\n",
              "    <path d=\"M0 0h24v24H0V0z\" fill=\"none\"/>\n",
              "    <path d=\"M18.56 5.44l.94 2.06.94-2.06 2.06-.94-2.06-.94-.94-2.06-.94 2.06-2.06.94zm-11 1L8.5 8.5l.94-2.06 2.06-.94-2.06-.94L8.5 2.5l-.94 2.06-2.06.94zm10 10l.94 2.06.94-2.06 2.06-.94-2.06-.94-.94-2.06-.94 2.06-2.06.94z\"/><path d=\"M17.41 7.96l-1.37-1.37c-.4-.4-.92-.59-1.43-.59-.52 0-1.04.2-1.43.59L10.3 9.45l-7.72 7.72c-.78.78-.78 2.05 0 2.83L4 21.41c.39.39.9.59 1.41.59.51 0 1.02-.2 1.41-.59l7.78-7.78 2.81-2.81c.8-.78.8-2.07 0-2.86zM5.41 20L4 18.59l7.72-7.72 1.47 1.35L5.41 20z\"/>\n",
              "  </svg>\n",
              "      </button>\n",
              "      \n",
              "  <style>\n",
              "    .colab-df-container {\n",
              "      display:flex;\n",
              "      flex-wrap:wrap;\n",
              "      gap: 12px;\n",
              "    }\n",
              "\n",
              "    .colab-df-convert {\n",
              "      background-color: #E8F0FE;\n",
              "      border: none;\n",
              "      border-radius: 50%;\n",
              "      cursor: pointer;\n",
              "      display: none;\n",
              "      fill: #1967D2;\n",
              "      height: 32px;\n",
              "      padding: 0 0 0 0;\n",
              "      width: 32px;\n",
              "    }\n",
              "\n",
              "    .colab-df-convert:hover {\n",
              "      background-color: #E2EBFA;\n",
              "      box-shadow: 0px 1px 2px rgba(60, 64, 67, 0.3), 0px 1px 3px 1px rgba(60, 64, 67, 0.15);\n",
              "      fill: #174EA6;\n",
              "    }\n",
              "\n",
              "    [theme=dark] .colab-df-convert {\n",
              "      background-color: #3B4455;\n",
              "      fill: #D2E3FC;\n",
              "    }\n",
              "\n",
              "    [theme=dark] .colab-df-convert:hover {\n",
              "      background-color: #434B5C;\n",
              "      box-shadow: 0px 1px 3px 1px rgba(0, 0, 0, 0.15);\n",
              "      filter: drop-shadow(0px 1px 2px rgba(0, 0, 0, 0.3));\n",
              "      fill: #FFFFFF;\n",
              "    }\n",
              "  </style>\n",
              "\n",
              "      <script>\n",
              "        const buttonEl =\n",
              "          document.querySelector('#df-5c7640cb-dfd7-419d-b8b7-61ab011fde38 button.colab-df-convert');\n",
              "        buttonEl.style.display =\n",
              "          google.colab.kernel.accessAllowed ? 'block' : 'none';\n",
              "\n",
              "        async function convertToInteractive(key) {\n",
              "          const element = document.querySelector('#df-5c7640cb-dfd7-419d-b8b7-61ab011fde38');\n",
              "          const dataTable =\n",
              "            await google.colab.kernel.invokeFunction('convertToInteractive',\n",
              "                                                     [key], {});\n",
              "          if (!dataTable) return;\n",
              "\n",
              "          const docLinkHtml = 'Like what you see? Visit the ' +\n",
              "            '<a target=\"_blank\" href=https://colab.research.google.com/notebooks/data_table.ipynb>data table notebook</a>'\n",
              "            + ' to learn more about interactive tables.';\n",
              "          element.innerHTML = '';\n",
              "          dataTable['output_type'] = 'display_data';\n",
              "          await google.colab.output.renderOutput(dataTable, element);\n",
              "          const docLink = document.createElement('div');\n",
              "          docLink.innerHTML = docLinkHtml;\n",
              "          element.appendChild(docLink);\n",
              "        }\n",
              "      </script>\n",
              "    </div>\n",
              "  </div>\n",
              "  "
            ]
          },
          "metadata": {},
          "execution_count": 5
        }
      ]
    },
    {
      "cell_type": "code",
      "source": [
        "data_1.info()"
      ],
      "metadata": {
        "colab": {
          "base_uri": "https://localhost:8080/"
        },
        "id": "WFiCe5njQM6e",
        "outputId": "c0bc8f47-ebfc-4bc1-8704-2c3aa298fefc"
      },
      "execution_count": 45,
      "outputs": [
        {
          "output_type": "stream",
          "name": "stdout",
          "text": [
            "<class 'pandas.core.frame.DataFrame'>\n",
            "Int64Index: 1332 entries, 0 to 2971\n",
            "Data columns (total 5 columns):\n",
            " #   Column                     Non-Null Count  Dtype  \n",
            "---  ------                     --------------  -----  \n",
            " 0   valeur_fonciere            1332 non-null   float64\n",
            " 1   code_type_local            1332 non-null   float64\n",
            " 2   surface_reelle_bati        1332 non-null   float64\n",
            " 3   nombre_pieces_principales  1332 non-null   float64\n",
            " 4   surface_terrain            1332 non-null   float64\n",
            "dtypes: float64(5)\n",
            "memory usage: 62.4 KB\n"
          ]
        }
      ]
    },
    {
      "cell_type": "code",
      "source": [
        "sns.pairplot(data_1)"
      ],
      "metadata": {
        "colab": {
          "base_uri": "https://localhost:8080/",
          "height": 920
        },
        "id": "td9EoRXLIDZ7",
        "outputId": "b3eaa0ad-cf46-4fc1-dec1-2bbebe152042"
      },
      "execution_count": 46,
      "outputs": [
        {
          "output_type": "execute_result",
          "data": {
            "text/plain": [
              "<seaborn.axisgrid.PairGrid at 0x7f727c6e7670>"
            ]
          },
          "metadata": {},
          "execution_count": 46
        },
        {
          "output_type": "display_data",
          "data": {
            "text/plain": [
              "<Figure size 900x900 with 30 Axes>"
            ],
            "image/png": "[encoded data removed]"
          },
          "metadata": {
            "needs_background": "light"
          }
        }
      ]
    },
    {
      "cell_type": "code",
      "source": [
        "data_1.corr()"
      ],
      "metadata": {
        "colab": {
          "base_uri": "https://localhost:8080/",
          "height": 206
        },
        "id": "hIULfNWxJ-DK",
        "outputId": "f34dfa23-76a9-45e6-cefa-20c4e9a2ee33"
      },
      "execution_count": 47,
      "outputs": [
        {
          "output_type": "execute_result",
          "data": {
            "text/plain": [
              "                           valeur_fonciere  code_type_local  \\\n",
              "valeur_fonciere                   1.000000         0.374402   \n",
              "code_type_local                   0.374402         1.000000   \n",
              "surface_reelle_bati               0.701945         0.410757   \n",
              "nombre_pieces_principales        -0.233490        -0.695117   \n",
              "surface_terrain                   0.543219         0.353222   \n",
              "\n",
              "                           surface_reelle_bati  nombre_pieces_principales  \\\n",
              "valeur_fonciere                       0.701945                  -0.233490   \n",
              "code_type_local                       0.410757                  -0.695117   \n",
              "surface_reelle_bati                   1.000000                  -0.256508   \n",
              "nombre_pieces_principales            -0.256508                   1.000000   \n",
              "surface_terrain                       0.627933                  -0.232401   \n",
              "\n",
              "                           surface_terrain  \n",
              "valeur_fonciere                   0.543219  \n",
              "code_type_local                   0.353222  \n",
              "surface_reelle_bati               0.627933  \n",
              "nombre_pieces_principales        -0.232401  \n",
              "surface_terrain                   1.000000  "
            ],
            "text/html": [
              "\n",
              "  <div id=\"df-85b25cff-5345-4808-8d03-99b2f70df1e4\">\n",
              "    <div class=\"colab-df-container\">\n",
              "      <div>\n",
              "<style scoped>\n",
              "    .dataframe tbody tr th:only-of-type {\n",
              "        vertical-align: middle;\n",
              "    }\n",
              "\n",
              "    .dataframe tbody tr th {\n",
              "        vertical-align: top;\n",
              "    }\n",
              "\n",
              "    .dataframe thead th {\n",
              "        text-align: right;\n",
              "    }\n",
              "</style>\n",
              "<table border=\"1\" class=\"dataframe\">\n",
              "  <thead>\n",
              "    <tr style=\"text-align: right;\">\n",
              "      <th></th>\n",
              "      <th>valeur_fonciere</th>\n",
              "      <th>code_type_local</th>\n",
              "      <th>surface_reelle_bati</th>\n",
              "      <th>nombre_pieces_principales</th>\n",
              "      <th>surface_terrain</th>\n",
              "    </tr>\n",
              "  </thead>\n",
              "  <tbody>\n",
              "    <tr>\n",
              "      <th>valeur_fonciere</th>\n",
              "      <td>1.000000</td>\n",
              "      <td>0.374402</td>\n",
              "      <td>0.701945</td>\n",
              "      <td>-0.233490</td>\n",
              "      <td>0.543219</td>\n",
              "    </tr>\n",
              "    <tr>\n",
              "      <th>code_type_local</th>\n",
              "      <td>0.374402</td>\n",
              "      <td>1.000000</td>\n",
              "      <td>0.410757</td>\n",
              "      <td>-0.695117</td>\n",
              "      <td>0.353222</td>\n",
              "    </tr>\n",
              "    <tr>\n",
              "      <th>surface_reelle_bati</th>\n",
              "      <td>0.701945</td>\n",
              "      <td>0.410757</td>\n",
              "      <td>1.000000</td>\n",
              "      <td>-0.256508</td>\n",
              "      <td>0.627933</td>\n",
              "    </tr>\n",
              "    <tr>\n",
              "      <th>nombre_pieces_principales</th>\n",
              "      <td>-0.233490</td>\n",
              "      <td>-0.695117</td>\n",
              "      <td>-0.256508</td>\n",
              "      <td>1.000000</td>\n",
              "      <td>-0.232401</td>\n",
              "    </tr>\n",
              "    <tr>\n",
              "      <th>surface_terrain</th>\n",
              "      <td>0.543219</td>\n",
              "      <td>0.353222</td>\n",
              "      <td>0.627933</td>\n",
              "      <td>-0.232401</td>\n",
              "      <td>1.000000</td>\n",
              "    </tr>\n",
              "  </tbody>\n",
              "</table>\n",
              "</div>\n",
              "      <button class=\"colab-df-convert\" onclick=\"convertToInteractive('df-85b25cff-5345-4808-8d03-99b2f70df1e4')\"\n",
              "              title=\"Convert this dataframe to an interactive table.\"\n",
              "              style=\"display:none;\">\n",
              "        \n",
              "  <svg xmlns=\"http://www.w3.org/2000/svg\" height=\"24px\"viewBox=\"0 0 24 24\"\n",
              "       width=\"24px\">\n",
              "    <path d=\"M0 0h24v24H0V0z\" fill=\"none\"/>\n",
              "    <path d=\"M18.56 5.44l.94 2.06.94-2.06 2.06-.94-2.06-.94-.94-2.06-.94 2.06-2.06.94zm-11 1L8.5 8.5l.94-2.06 2.06-.94-2.06-.94L8.5 2.5l-.94 2.06-2.06.94zm10 10l.94 2.06.94-2.06 2.06-.94-2.06-.94-.94-2.06-.94 2.06-2.06.94z\"/><path d=\"M17.41 7.96l-1.37-1.37c-.4-.4-.92-.59-1.43-.59-.52 0-1.04.2-1.43.59L10.3 9.45l-7.72 7.72c-.78.78-.78 2.05 0 2.83L4 21.41c.39.39.9.59 1.41.59.51 0 1.02-.2 1.41-.59l7.78-7.78 2.81-2.81c.8-.78.8-2.07 0-2.86zM5.41 20L4 18.59l7.72-7.72 1.47 1.35L5.41 20z\"/>\n",
              "  </svg>\n",
              "      </button>\n",
              "      \n",
              "  <style>\n",
              "    .colab-df-container {\n",
              "      display:flex;\n",
              "      flex-wrap:wrap;\n",
              "      gap: 12px;\n",
              "    }\n",
              "\n",
              "    .colab-df-convert {\n",
              "      background-color: #E8F0FE;\n",
              "      border: none;\n",
              "      border-radius: 50%;\n",
              "      cursor: pointer;\n",
              "      display: none;\n",
              "      fill: #1967D2;\n",
              "      height: 32px;\n",
              "      padding: 0 0 0 0;\n",
              "      width: 32px;\n",
              "    }\n",
              "\n",
              "    .colab-df-convert:hover {\n",
              "      background-color: #E2EBFA;\n",
              "      box-shadow: 0px 1px 2px rgba(60, 64, 67, 0.3), 0px 1px 3px 1px rgba(60, 64, 67, 0.15);\n",
              "      fill: #174EA6;\n",
              "    }\n",
              "\n",
              "    [theme=dark] .colab-df-convert {\n",
              "      background-color: #3B4455;\n",
              "      fill: #D2E3FC;\n",
              "    }\n",
              "\n",
              "    [theme=dark] .colab-df-convert:hover {\n",
              "      background-color: #434B5C;\n",
              "      box-shadow: 0px 1px 3px 1px rgba(0, 0, 0, 0.15);\n",
              "      filter: drop-shadow(0px 1px 2px rgba(0, 0, 0, 0.3));\n",
              "      fill: #FFFFFF;\n",
              "    }\n",
              "  </style>\n",
              "\n",
              "      <script>\n",
              "        const buttonEl =\n",
              "          document.querySelector('#df-85b25cff-5345-4808-8d03-99b2f70df1e4 button.colab-df-convert');\n",
              "        buttonEl.style.display =\n",
              "          google.colab.kernel.accessAllowed ? 'block' : 'none';\n",
              "\n",
              "        async function convertToInteractive(key) {\n",
              "          const element = document.querySelector('#df-85b25cff-5345-4808-8d03-99b2f70df1e4');\n",
              "          const dataTable =\n",
              "            await google.colab.kernel.invokeFunction('convertToInteractive',\n",
              "                                                     [key], {});\n",
              "          if (!dataTable) return;\n",
              "\n",
              "          const docLinkHtml = 'Like what you see? Visit the ' +\n",
              "            '<a target=\"_blank\" href=https://colab.research.google.com/notebooks/data_table.ipynb>data table notebook</a>'\n",
              "            + ' to learn more about interactive tables.';\n",
              "          element.innerHTML = '';\n",
              "          dataTable['output_type'] = 'display_data';\n",
              "          await google.colab.output.renderOutput(dataTable, element);\n",
              "          const docLink = document.createElement('div');\n",
              "          docLink.innerHTML = docLinkHtml;\n",
              "          element.appendChild(docLink);\n",
              "        }\n",
              "      </script>\n",
              "    </div>\n",
              "  </div>\n",
              "  "
            ]
          },
          "metadata": {},
          "execution_count": 47
        }
      ]
    },
    {
      "cell_type": "code",
      "source": [
        "plt.figure(figsize=(10,7))\n",
        "sns.heatmap(data_1.corr(),annot=True,linewidths=2)"
      ],
      "metadata": {
        "colab": {
          "base_uri": "https://localhost:8080/",
          "height": 574
        },
        "id": "v212nMb3Kdb0",
        "outputId": "6a2d8a45-7d56-47b3-8035-fcfd72440359"
      },
      "execution_count": 48,
      "outputs": [
        {
          "output_type": "execute_result",
          "data": {
            "text/plain": [
              "<matplotlib.axes._subplots.AxesSubplot at 0x7f727425d7c0>"
            ]
          },
          "metadata": {},
          "execution_count": 48
        },
        {
          "output_type": "display_data",
          "data": {
            "text/plain": [
              "<Figure size 720x504 with 2 Axes>"
            ],
            "image/png": "[encoded data removed]"
          },
          "metadata": {
            "needs_background": "light"
          }
        }
      ]
    },
    {
      "cell_type": "code",
      "source": [
        "features_ = ['code_type_local', 'surface_reelle_bati', 'nombre_pieces_principales', 'surface_terrain']"
      ],
      "metadata": {
        "id": "iQBd2SkCv_Xb"
      },
      "execution_count": 7,
      "outputs": []
    },
    {
      "cell_type": "code",
      "source": [
        "data_1.describe()"
      ],
      "metadata": {
        "colab": {
          "base_uri": "https://localhost:8080/",
          "height": 300
        },
        "id": "y9sfGFHWUAjY",
        "outputId": "09ed312b-80ff-433d-d987-c5db5bf62e09"
      },
      "execution_count": 50,
      "outputs": [
        {
          "output_type": "execute_result",
          "data": {
            "text/plain": [
              "       valeur_fonciere  code_type_local  surface_reelle_bati  \\\n",
              "count     1.332000e+03      1332.000000          1332.000000   \n",
              "mean      2.536535e+05         1.327327           205.201201   \n",
              "std       5.569614e+05         0.785521          1012.042427   \n",
              "min       1.500000e-01         1.000000             8.000000   \n",
              "25%       1.242625e+05         1.000000            64.000000   \n",
              "50%       1.695250e+05         1.000000            80.000000   \n",
              "75%       2.260000e+05         1.000000            99.000000   \n",
              "max       1.372000e+07         4.000000         16673.000000   \n",
              "\n",
              "       nombre_pieces_principales  surface_terrain  \n",
              "count                1332.000000      1332.000000  \n",
              "mean                    3.716216      1214.577327  \n",
              "std                     1.659780      4182.077100  \n",
              "min                     0.000000        14.000000  \n",
              "25%                     3.000000       222.750000  \n",
              "50%                     4.000000       385.000000  \n",
              "75%                     5.000000       549.250000  \n",
              "max                    22.000000     65177.000000  "
            ],
            "text/html": [
              "\n",
              "  <div id=\"df-67556a22-6e3d-403e-b2a9-a657a28c31af\">\n",
              "    <div class=\"colab-df-container\">\n",
              "      <div>\n",
              "<style scoped>\n",
              "    .dataframe tbody tr th:only-of-type {\n",
              "        vertical-align: middle;\n",
              "    }\n",
              "\n",
              "    .dataframe tbody tr th {\n",
              "        vertical-align: top;\n",
              "    }\n",
              "\n",
              "    .dataframe thead th {\n",
              "        text-align: right;\n",
              "    }\n",
              "</style>\n",
              "<table border=\"1\" class=\"dataframe\">\n",
              "  <thead>\n",
              "    <tr style=\"text-align: right;\">\n",
              "      <th></th>\n",
              "      <th>valeur_fonciere</th>\n",
              "      <th>code_type_local</th>\n",
              "      <th>surface_reelle_bati</th>\n",
              "      <th>nombre_pieces_principales</th>\n",
              "      <th>surface_terrain</th>\n",
              "    </tr>\n",
              "  </thead>\n",
              "  <tbody>\n",
              "    <tr>\n",
              "      <th>count</th>\n",
              "      <td>1.332000e+03</td>\n",
              "      <td>1332.000000</td>\n",
              "      <td>1332.000000</td>\n",
              "      <td>1332.000000</td>\n",
              "      <td>1332.000000</td>\n",
              "    </tr>\n",
              "    <tr>\n",
              "      <th>mean</th>\n",
              "      <td>2.536535e+05</td>\n",
              "      <td>1.327327</td>\n",
              "      <td>205.201201</td>\n",
              "      <td>3.716216</td>\n",
              "      <td>1214.577327</td>\n",
              "    </tr>\n",
              "    <tr>\n",
              "      <th>std</th>\n",
              "      <td>5.569614e+05</td>\n",
              "      <td>0.785521</td>\n",
              "      <td>1012.042427</td>\n",
              "      <td>1.659780</td>\n",
              "      <td>4182.077100</td>\n",
              "    </tr>\n",
              "    <tr>\n",
              "      <th>min</th>\n",
              "      <td>1.500000e-01</td>\n",
              "      <td>1.000000</td>\n",
              "      <td>8.000000</td>\n",
              "      <td>0.000000</td>\n",
              "      <td>14.000000</td>\n",
              "    </tr>\n",
              "    <tr>\n",
              "      <th>25%</th>\n",
              "      <td>1.242625e+05</td>\n",
              "      <td>1.000000</td>\n",
              "      <td>64.000000</td>\n",
              "      <td>3.000000</td>\n",
              "      <td>222.750000</td>\n",
              "    </tr>\n",
              "    <tr>\n",
              "      <th>50%</th>\n",
              "      <td>1.695250e+05</td>\n",
              "      <td>1.000000</td>\n",
              "      <td>80.000000</td>\n",
              "      <td>4.000000</td>\n",
              "      <td>385.000000</td>\n",
              "    </tr>\n",
              "    <tr>\n",
              "      <th>75%</th>\n",
              "      <td>2.260000e+05</td>\n",
              "      <td>1.000000</td>\n",
              "      <td>99.000000</td>\n",
              "      <td>5.000000</td>\n",
              "      <td>549.250000</td>\n",
              "    </tr>\n",
              "    <tr>\n",
              "      <th>max</th>\n",
              "      <td>1.372000e+07</td>\n",
              "      <td>4.000000</td>\n",
              "      <td>16673.000000</td>\n",
              "      <td>22.000000</td>\n",
              "      <td>65177.000000</td>\n",
              "    </tr>\n",
              "  </tbody>\n",
              "</table>\n",
              "</div>\n",
              "      <button class=\"colab-df-convert\" onclick=\"convertToInteractive('df-67556a22-6e3d-403e-b2a9-a657a28c31af')\"\n",
              "              title=\"Convert this dataframe to an interactive table.\"\n",
              "              style=\"display:none;\">\n",
              "        \n",
              "  <svg xmlns=\"http://www.w3.org/2000/svg\" height=\"24px\"viewBox=\"0 0 24 24\"\n",
              "       width=\"24px\">\n",
              "    <path d=\"M0 0h24v24H0V0z\" fill=\"none\"/>\n",
              "    <path d=\"M18.56 5.44l.94 2.06.94-2.06 2.06-.94-2.06-.94-.94-2.06-.94 2.06-2.06.94zm-11 1L8.5 8.5l.94-2.06 2.06-.94-2.06-.94L8.5 2.5l-.94 2.06-2.06.94zm10 10l.94 2.06.94-2.06 2.06-.94-2.06-.94-.94-2.06-.94 2.06-2.06.94z\"/><path d=\"M17.41 7.96l-1.37-1.37c-.4-.4-.92-.59-1.43-.59-.52 0-1.04.2-1.43.59L10.3 9.45l-7.72 7.72c-.78.78-.78 2.05 0 2.83L4 21.41c.39.39.9.59 1.41.59.51 0 1.02-.2 1.41-.59l7.78-7.78 2.81-2.81c.8-.78.8-2.07 0-2.86zM5.41 20L4 18.59l7.72-7.72 1.47 1.35L5.41 20z\"/>\n",
              "  </svg>\n",
              "      </button>\n",
              "      \n",
              "  <style>\n",
              "    .colab-df-container {\n",
              "      display:flex;\n",
              "      flex-wrap:wrap;\n",
              "      gap: 12px;\n",
              "    }\n",
              "\n",
              "    .colab-df-convert {\n",
              "      background-color: #E8F0FE;\n",
              "      border: none;\n",
              "      border-radius: 50%;\n",
              "      cursor: pointer;\n",
              "      display: none;\n",
              "      fill: #1967D2;\n",
              "      height: 32px;\n",
              "      padding: 0 0 0 0;\n",
              "      width: 32px;\n",
              "    }\n",
              "\n",
              "    .colab-df-convert:hover {\n",
              "      background-color: #E2EBFA;\n",
              "      box-shadow: 0px 1px 2px rgba(60, 64, 67, 0.3), 0px 1px 3px 1px rgba(60, 64, 67, 0.15);\n",
              "      fill: #174EA6;\n",
              "    }\n",
              "\n",
              "    [theme=dark] .colab-df-convert {\n",
              "      background-color: #3B4455;\n",
              "      fill: #D2E3FC;\n",
              "    }\n",
              "\n",
              "    [theme=dark] .colab-df-convert:hover {\n",
              "      background-color: #434B5C;\n",
              "      box-shadow: 0px 1px 3px 1px rgba(0, 0, 0, 0.15);\n",
              "      filter: drop-shadow(0px 1px 2px rgba(0, 0, 0, 0.3));\n",
              "      fill: #FFFFFF;\n",
              "    }\n",
              "  </style>\n",
              "\n",
              "      <script>\n",
              "        const buttonEl =\n",
              "          document.querySelector('#df-67556a22-6e3d-403e-b2a9-a657a28c31af button.colab-df-convert');\n",
              "        buttonEl.style.display =\n",
              "          google.colab.kernel.accessAllowed ? 'block' : 'none';\n",
              "\n",
              "        async function convertToInteractive(key) {\n",
              "          const element = document.querySelector('#df-67556a22-6e3d-403e-b2a9-a657a28c31af');\n",
              "          const dataTable =\n",
              "            await google.colab.kernel.invokeFunction('convertToInteractive',\n",
              "                                                     [key], {});\n",
              "          if (!dataTable) return;\n",
              "\n",
              "          const docLinkHtml = 'Like what you see? Visit the ' +\n",
              "            '<a target=\"_blank\" href=https://colab.research.google.com/notebooks/data_table.ipynb>data table notebook</a>'\n",
              "            + ' to learn more about interactive tables.';\n",
              "          element.innerHTML = '';\n",
              "          dataTable['output_type'] = 'display_data';\n",
              "          await google.colab.output.renderOutput(dataTable, element);\n",
              "          const docLink = document.createElement('div');\n",
              "          docLink.innerHTML = docLinkHtml;\n",
              "          element.appendChild(docLink);\n",
              "        }\n",
              "      </script>\n",
              "    </div>\n",
              "  </div>\n",
              "  "
            ]
          },
          "metadata": {},
          "execution_count": 50
        }
      ]
    },
    {
      "cell_type": "markdown",
      "source": [
        "## Outliers"
      ],
      "metadata": {
        "id": "J13zgjzanjKH"
      }
    },
    {
      "cell_type": "code",
      "source": [
        "for column in features_:\n",
        "  plt.title(column)\n",
        "  plt.hist(data_1[column])\n",
        "  plt.show()"
      ],
      "metadata": {
        "id": "dIuAteCdW84N"
      },
      "execution_count": null,
      "outputs": []
    },
    {
      "cell_type": "code",
      "source": [
        "for column in features_:\n",
        "  print(data_1[column].value_counts())\n",
        "  data_1[column].plot.box(figsize=(8,4), vert=False)\n",
        "  plt.show()"
      ],
      "metadata": {
        "id": "ZuIybuLKU819"
      },
      "execution_count": null,
      "outputs": []
    },
    {
      "cell_type": "code",
      "source": [
        "Q1 = data_1['surface_reelle_bati'].quantile(0.25)\n",
        "print(Q1)\n",
        "Q3 = data_1['surface_reelle_bati'].quantile(0.75)\n",
        "print(Q3)\n",
        "\n",
        "IQR = Q3 - Q1\n",
        "print(IQR)\n",
        "\n",
        "mediana = data_1['surface_reelle_bati'].median()\n",
        "print(mediana)\n",
        "min = data_1['surface_reelle_bati'].min()\n",
        "print(min)\n",
        "max = data_1['surface_reelle_bati'].max()\n",
        "print(max)\n",
        "\n",
        "# upper = np.where(data_1['surface_reelle_bati'] >= (Q3+1.5*IQR))\n",
        "# lower = np.where(data_1['surface_reelle_bati'] <= (Q1-1.5*IQR))\n",
        "upper = Q3+1.5*IQR\n",
        "lower = Q1-1.5*IQR\n",
        "# print(upper, lower)\n",
        "position = (data_1['surface_reelle_bati'] < lower) | (data_1['surface_reelle_bati'] > upper)\n",
        "otuliers = data_1[position]\n",
        "\n",
        "position_not_outliers = (data_1['surface_reelle_bati'] >= lower) & (data_1['surface_reelle_bati'] <= upper)\n",
        "not_outliers = data_1[position_not_outliers]\n",
        "print(not_outliers['surface_reelle_bati'], len(otuliers))"
      ],
      "metadata": {
        "colab": {
          "base_uri": "https://localhost:8080/"
        },
        "id": "zwelCi_GYBsD",
        "outputId": "e856f40d-efbe-450a-ce73-7685eb86e82a"
      },
      "execution_count": 168,
      "outputs": [
        {
          "output_type": "stream",
          "name": "stdout",
          "text": [
            "64.0\n",
            "99.0\n",
            "35.0\n",
            "80.0\n",
            "8.0\n",
            "16673.0\n",
            "0       129.0\n",
            "2        64.0\n",
            "3        64.0\n",
            "5        18.0\n",
            "6        68.0\n",
            "        ...  \n",
            "2948     74.0\n",
            "2949    102.0\n",
            "2950     64.0\n",
            "2951     80.0\n",
            "2968     87.0\n",
            "Name: surface_reelle_bati, Length: 1233, dtype: float64 99\n"
          ]
        }
      ]
    },
    {
      "cell_type": "code",
      "source": [
        "Q1 = not_outliers['nombre_pieces_principales'].quantile(0.25)\n",
        "print(Q1)\n",
        "Q3 = not_outliers['nombre_pieces_principales'].quantile(0.75)\n",
        "print(Q3)\n",
        "\n",
        "IQR = Q3 - Q1\n",
        "print(IQR)\n",
        "\n",
        "mediana = not_outliers['nombre_pieces_principales'].median()\n",
        "print(mediana)\n",
        "min = not_outliers['nombre_pieces_principales'].min()\n",
        "print(min)\n",
        "max = not_outliers['nombre_pieces_principales'].max()\n",
        "print(max)\n",
        "\n",
        "# upper = np.where(not_outliers['nombre_pieces_principales'] >= (Q3+1.5*IQR))\n",
        "# lower = np.where(not_outliers['nombre_pieces_principales'] <= (Q1-1.5*IQR))\n",
        "upper = Q3+1.5*IQR\n",
        "lower = Q1-1.5*IQR\n",
        "# print(upper, lower)\n",
        "position = (not_outliers['nombre_pieces_principales'] < lower) | (not_outliers['nombre_pieces_principales'] > upper)\n",
        "otuliers = not_outliers[position]\n",
        "\n",
        "position_not_outliers = (not_outliers['nombre_pieces_principales'] >= lower) & (not_outliers['nombre_pieces_principales'] <= upper)\n",
        "not_outliers = not_outliers[position_not_outliers]\n",
        "print(not_outliers['nombre_pieces_principales'], len(otuliers))"
      ],
      "metadata": {
        "colab": {
          "base_uri": "https://localhost:8080/"
        },
        "id": "T9Tij8wLu-Ru",
        "outputId": "cc30be51-325c-4884-9d96-28a73607c1b2"
      },
      "execution_count": 169,
      "outputs": [
        {
          "output_type": "stream",
          "name": "stdout",
          "text": [
            "3.0\n",
            "5.0\n",
            "2.0\n",
            "4.0\n",
            "0.0\n",
            "22.0\n",
            "0       4.0\n",
            "2       4.0\n",
            "3       4.0\n",
            "5       1.0\n",
            "6       0.0\n",
            "       ... \n",
            "2948    5.0\n",
            "2949    5.0\n",
            "2950    4.0\n",
            "2951    4.0\n",
            "2968    3.0\n",
            "Name: nombre_pieces_principales, Length: 1232, dtype: float64 1\n"
          ]
        }
      ]
    },
    {
      "cell_type": "code",
      "source": [
        "Q1 = not_outliers['surface_terrain'].quantile(0.25)\n",
        "print(Q1)\n",
        "Q3 = not_outliers['surface_terrain'].quantile(0.75)\n",
        "print(Q3)\n",
        "\n",
        "IQR = Q3 - Q1\n",
        "print(IQR)\n",
        "\n",
        "mediana = not_outliers['surface_terrain'].median()\n",
        "print(mediana)\n",
        "min = not_outliers['surface_terrain'].min()\n",
        "print(min)\n",
        "max = not_outliers['surface_terrain'].max()\n",
        "print(max)\n",
        "\n",
        "# upper = np.where(not_outliers['surface_terrain'] >= (Q3+1.5*IQR))\n",
        "# lower = np.where(not_outliers['surface_terrain'] <= (Q1-1.5*IQR))\n",
        "upper = Q3+1.5*IQR\n",
        "lower = Q1-1.5*IQR\n",
        "# print(upper, lower)\n",
        "position = (not_outliers['surface_terrain'] < lower) | (not_outliers['surface_terrain'] > upper)\n",
        "otuliers = not_outliers[position]\n",
        "\n",
        "position_not_outliers = (not_outliers['surface_terrain'] >= lower) & (not_outliers['surface_terrain'] <= upper)\n",
        "not_outliers = not_outliers[position_not_outliers]\n",
        "print(not_outliers['surface_terrain'], len(otuliers))"
      ],
      "metadata": {
        "colab": {
          "base_uri": "https://localhost:8080/"
        },
        "id": "W-TgF2DBvVM4",
        "outputId": "83dcf291-5b86-4175-bd05-3c21b53836a3"
      },
      "execution_count": 170,
      "outputs": [
        {
          "output_type": "stream",
          "name": "stdout",
          "text": [
            "207.0\n",
            "505.25\n",
            "298.25\n",
            "370.0\n",
            "14.0\n",
            "18847.0\n",
            "0       351.0\n",
            "2       452.0\n",
            "3       498.0\n",
            "5       105.0\n",
            "6       105.0\n",
            "        ...  \n",
            "2945    406.0\n",
            "2948    374.0\n",
            "2949    434.0\n",
            "2950    369.0\n",
            "2951    354.0\n",
            "Name: surface_terrain, Length: 1145, dtype: float64 87\n"
          ]
        }
      ]
    },
    {
      "cell_type": "code",
      "source": [
        "Q1 = not_outliers['code_type_local'].quantile(0.25)\n",
        "print(Q1)\n",
        "Q3 = not_outliers['code_type_local'].quantile(0.75)\n",
        "print(Q3)\n",
        "\n",
        "IQR = Q3 - Q1\n",
        "print(IQR)\n",
        "\n",
        "mediana = not_outliers['code_type_local'].median()\n",
        "print(mediana)\n",
        "min = not_outliers['code_type_local'].min()\n",
        "print(min)\n",
        "max = not_outliers['code_type_local'].max()\n",
        "print(max)\n",
        "\n",
        "# upper = np.where(not_outliers['code_type_local'] >= (Q3+1.5*IQR))\n",
        "# lower = np.where(not_outliers['code_type_local'] <= (Q1-1.5*IQR))\n",
        "upper = Q3+1.5*IQR\n",
        "lower = Q1-1.5*IQR\n",
        "# print(upper, lower)\n",
        "position = (not_outliers['code_type_local'] < lower) | (not_outliers['code_type_local'] > upper)\n",
        "otuliers = not_outliers[position]\n",
        "\n",
        "position_not_outliers = (not_outliers['code_type_local'] >= lower) & (not_outliers['code_type_local'] <= upper)\n",
        "not_outliers = not_outliers[position_not_outliers]\n",
        "print(not_outliers['code_type_local'], len(otuliers))"
      ],
      "metadata": {
        "colab": {
          "base_uri": "https://localhost:8080/"
        },
        "id": "K0lpphqzRa2v",
        "outputId": "04d6ed4c-3f20-4293-de50-d4611ffe6e2a"
      },
      "execution_count": 171,
      "outputs": [
        {
          "output_type": "stream",
          "name": "stdout",
          "text": [
            "1.0\n",
            "1.0\n",
            "0.0\n",
            "1.0\n",
            "1.0\n",
            "4.0\n",
            "0       1.0\n",
            "2       1.0\n",
            "3       1.0\n",
            "7       1.0\n",
            "8       1.0\n",
            "       ... \n",
            "2945    1.0\n",
            "2948    1.0\n",
            "2949    1.0\n",
            "2950    1.0\n",
            "2951    1.0\n",
            "Name: code_type_local, Length: 1001, dtype: float64 144\n"
          ]
        }
      ]
    },
    {
      "cell_type": "code",
      "source": [
        "sns.pairplot(not_outliers)"
      ],
      "metadata": {
        "colab": {
          "base_uri": "https://localhost:8080/",
          "height": 920
        },
        "id": "5rqGBoKUUFB2",
        "outputId": "89a04ea8-5845-45ac-97e4-9a594b5dd0c1"
      },
      "execution_count": 149,
      "outputs": [
        {
          "output_type": "execute_result",
          "data": {
            "text/plain": [
              "<seaborn.axisgrid.PairGrid at 0x7f82d6313490>"
            ]
          },
          "metadata": {},
          "execution_count": 149
        },
        {
          "output_type": "display_data",
          "data": {
            "text/plain": [
              "<Figure size 900x900 with 30 Axes>"
            ],
            "image/png": "[encoded data removed]"
          },
          "metadata": {
            "needs_background": "light"
          }
        }
      ]
    },
    {
      "cell_type": "code",
      "source": [
        "for column in features_:\n",
        "  print(not_outliers[column].value_counts())\n",
        "  not_outliers[column].plot.box(figsize=(8,4), vert=False)\n",
        "  plt.show()"
      ],
      "metadata": {
        "colab": {
          "base_uri": "https://localhost:8080/",
          "height": 1000
        },
        "id": "MMfc4pTAhfh_",
        "outputId": "a91037ee-4b9f-4b57-d925-b5bca1926fbd"
      },
      "execution_count": 480,
      "outputs": [
        {
          "output_type": "stream",
          "name": "stdout",
          "text": [
            "1.0    1001\n",
            "Name: code_type_local, dtype: int64\n"
          ]
        },
        {
          "output_type": "display_data",
          "data": {
            "text/plain": [
              "<Figure size 576x288 with 1 Axes>"
            ],
            "image/png": "[encoded data removed]"
          },
          "metadata": {
            "needs_background": "light"
          }
        },
        {
          "output_type": "stream",
          "name": "stdout",
          "text": [
            "80.0     111\n",
            "78.0      39\n",
            "90.0      34\n",
            "70.0      32\n",
            "60.0      27\n",
            "        ... \n",
            "37.0       1\n",
            "119.0      1\n",
            "131.0      1\n",
            "135.0      1\n",
            "41.0       1\n",
            "Name: surface_reelle_bati, Length: 116, dtype: int64\n"
          ]
        },
        {
          "output_type": "display_data",
          "data": {
            "text/plain": [
              "<Figure size 576x288 with 1 Axes>"
            ],
            "image/png": "[encoded data removed]"
          },
          "metadata": {
            "needs_background": "light"
          }
        },
        {
          "output_type": "stream",
          "name": "stdout",
          "text": [
            "4.0    399\n",
            "5.0    280\n",
            "3.0    191\n",
            "6.0     62\n",
            "2.0     44\n",
            "7.0     15\n",
            "1.0      9\n",
            "8.0      1\n",
            "Name: nombre_pieces_principales, dtype: int64\n"
          ]
        },
        {
          "output_type": "display_data",
          "data": {
            "text/plain": [
              "<Figure size 576x288 with 1 Axes>"
            ],
            "image/png": "[encoded data removed]"
          },
          "metadata": {
            "needs_background": "light"
          }
        },
        {
          "output_type": "stream",
          "name": "stdout",
          "text": [
            "95.0     10\n",
            "243.0     9\n",
            "245.0     7\n",
            "500.0     7\n",
            "473.0     7\n",
            "         ..\n",
            "331.0     1\n",
            "549.0     1\n",
            "646.0     1\n",
            "295.0     1\n",
            "613.0     1\n",
            "Name: surface_terrain, Length: 523, dtype: int64\n"
          ]
        },
        {
          "output_type": "display_data",
          "data": {
            "text/plain": [
              "<Figure size 576x288 with 1 Axes>"
            ],
            "image/png": "[encoded data removed]"
          },
          "metadata": {
            "needs_background": "light"
          }
        }
      ]
    },
    {
      "cell_type": "code",
      "source": [
        "not_outliers.shape"
      ],
      "metadata": {
        "colab": {
          "base_uri": "https://localhost:8080/"
        },
        "id": "IlbI_e8hvhGK",
        "outputId": "faf37f3d-b1e1-497f-dcc3-f85e39a9fda1"
      },
      "execution_count": 481,
      "outputs": [
        {
          "output_type": "execute_result",
          "data": {
            "text/plain": [
              "(1001, 5)"
            ]
          },
          "metadata": {},
          "execution_count": 481
        }
      ]
    },
    {
      "cell_type": "code",
      "source": [
        "not_outliers.corr()"
      ],
      "metadata": {
        "colab": {
          "base_uri": "https://localhost:8080/",
          "height": 206
        },
        "id": "ASdBaTLdjbqq",
        "outputId": "0500b638-f0a7-48c4-ce5c-1f3951c2c2a6"
      },
      "execution_count": 152,
      "outputs": [
        {
          "output_type": "execute_result",
          "data": {
            "text/plain": [
              "                           valeur_fonciere  code_type_local  \\\n",
              "valeur_fonciere                   1.000000              NaN   \n",
              "code_type_local                        NaN              NaN   \n",
              "surface_reelle_bati               0.600072              NaN   \n",
              "nombre_pieces_principales         0.400571              NaN   \n",
              "surface_terrain                   0.455356              NaN   \n",
              "\n",
              "                           surface_reelle_bati  nombre_pieces_principales  \\\n",
              "valeur_fonciere                       0.600072                   0.400571   \n",
              "code_type_local                            NaN                        NaN   \n",
              "surface_reelle_bati                   1.000000                   0.670200   \n",
              "nombre_pieces_principales             0.670200                   1.000000   \n",
              "surface_terrain                       0.364454                   0.280070   \n",
              "\n",
              "                           surface_terrain  \n",
              "valeur_fonciere                   0.455356  \n",
              "code_type_local                        NaN  \n",
              "surface_reelle_bati               0.364454  \n",
              "nombre_pieces_principales         0.280070  \n",
              "surface_terrain                   1.000000  "
            ],
            "text/html": [
              "\n",
              "  <div id=\"df-f5d9efb0-4660-48e0-9e4f-e897e8769e91\">\n",
              "    <div class=\"colab-df-container\">\n",
              "      <div>\n",
              "<style scoped>\n",
              "    .dataframe tbody tr th:only-of-type {\n",
              "        vertical-align: middle;\n",
              "    }\n",
              "\n",
              "    .dataframe tbody tr th {\n",
              "        vertical-align: top;\n",
              "    }\n",
              "\n",
              "    .dataframe thead th {\n",
              "        text-align: right;\n",
              "    }\n",
              "</style>\n",
              "<table border=\"1\" class=\"dataframe\">\n",
              "  <thead>\n",
              "    <tr style=\"text-align: right;\">\n",
              "      <th></th>\n",
              "      <th>valeur_fonciere</th>\n",
              "      <th>code_type_local</th>\n",
              "      <th>surface_reelle_bati</th>\n",
              "      <th>nombre_pieces_principales</th>\n",
              "      <th>surface_terrain</th>\n",
              "    </tr>\n",
              "  </thead>\n",
              "  <tbody>\n",
              "    <tr>\n",
              "      <th>valeur_fonciere</th>\n",
              "      <td>1.000000</td>\n",
              "      <td>NaN</td>\n",
              "      <td>0.600072</td>\n",
              "      <td>0.400571</td>\n",
              "      <td>0.455356</td>\n",
              "    </tr>\n",
              "    <tr>\n",
              "      <th>code_type_local</th>\n",
              "      <td>NaN</td>\n",
              "      <td>NaN</td>\n",
              "      <td>NaN</td>\n",
              "      <td>NaN</td>\n",
              "      <td>NaN</td>\n",
              "    </tr>\n",
              "    <tr>\n",
              "      <th>surface_reelle_bati</th>\n",
              "      <td>0.600072</td>\n",
              "      <td>NaN</td>\n",
              "      <td>1.000000</td>\n",
              "      <td>0.670200</td>\n",
              "      <td>0.364454</td>\n",
              "    </tr>\n",
              "    <tr>\n",
              "      <th>nombre_pieces_principales</th>\n",
              "      <td>0.400571</td>\n",
              "      <td>NaN</td>\n",
              "      <td>0.670200</td>\n",
              "      <td>1.000000</td>\n",
              "      <td>0.280070</td>\n",
              "    </tr>\n",
              "    <tr>\n",
              "      <th>surface_terrain</th>\n",
              "      <td>0.455356</td>\n",
              "      <td>NaN</td>\n",
              "      <td>0.364454</td>\n",
              "      <td>0.280070</td>\n",
              "      <td>1.000000</td>\n",
              "    </tr>\n",
              "  </tbody>\n",
              "</table>\n",
              "</div>\n",
              "      <button class=\"colab-df-convert\" onclick=\"convertToInteractive('df-f5d9efb0-4660-48e0-9e4f-e897e8769e91')\"\n",
              "              title=\"Convert this dataframe to an interactive table.\"\n",
              "              style=\"display:none;\">\n",
              "        \n",
              "  <svg xmlns=\"http://www.w3.org/2000/svg\" height=\"24px\"viewBox=\"0 0 24 24\"\n",
              "       width=\"24px\">\n",
              "    <path d=\"M0 0h24v24H0V0z\" fill=\"none\"/>\n",
              "    <path d=\"M18.56 5.44l.94 2.06.94-2.06 2.06-.94-2.06-.94-.94-2.06-.94 2.06-2.06.94zm-11 1L8.5 8.5l.94-2.06 2.06-.94-2.06-.94L8.5 2.5l-.94 2.06-2.06.94zm10 10l.94 2.06.94-2.06 2.06-.94-2.06-.94-.94-2.06-.94 2.06-2.06.94z\"/><path d=\"M17.41 7.96l-1.37-1.37c-.4-.4-.92-.59-1.43-.59-.52 0-1.04.2-1.43.59L10.3 9.45l-7.72 7.72c-.78.78-.78 2.05 0 2.83L4 21.41c.39.39.9.59 1.41.59.51 0 1.02-.2 1.41-.59l7.78-7.78 2.81-2.81c.8-.78.8-2.07 0-2.86zM5.41 20L4 18.59l7.72-7.72 1.47 1.35L5.41 20z\"/>\n",
              "  </svg>\n",
              "      </button>\n",
              "      \n",
              "  <style>\n",
              "    .colab-df-container {\n",
              "      display:flex;\n",
              "      flex-wrap:wrap;\n",
              "      gap: 12px;\n",
              "    }\n",
              "\n",
              "    .colab-df-convert {\n",
              "      background-color: #E8F0FE;\n",
              "      border: none;\n",
              "      border-radius: 50%;\n",
              "      cursor: pointer;\n",
              "      display: none;\n",
              "      fill: #1967D2;\n",
              "      height: 32px;\n",
              "      padding: 0 0 0 0;\n",
              "      width: 32px;\n",
              "    }\n",
              "\n",
              "    .colab-df-convert:hover {\n",
              "      background-color: #E2EBFA;\n",
              "      box-shadow: 0px 1px 2px rgba(60, 64, 67, 0.3), 0px 1px 3px 1px rgba(60, 64, 67, 0.15);\n",
              "      fill: #174EA6;\n",
              "    }\n",
              "\n",
              "    [theme=dark] .colab-df-convert {\n",
              "      background-color: #3B4455;\n",
              "      fill: #D2E3FC;\n",
              "    }\n",
              "\n",
              "    [theme=dark] .colab-df-convert:hover {\n",
              "      background-color: #434B5C;\n",
              "      box-shadow: 0px 1px 3px 1px rgba(0, 0, 0, 0.15);\n",
              "      filter: drop-shadow(0px 1px 2px rgba(0, 0, 0, 0.3));\n",
              "      fill: #FFFFFF;\n",
              "    }\n",
              "  </style>\n",
              "\n",
              "      <script>\n",
              "        const buttonEl =\n",
              "          document.querySelector('#df-f5d9efb0-4660-48e0-9e4f-e897e8769e91 button.colab-df-convert');\n",
              "        buttonEl.style.display =\n",
              "          google.colab.kernel.accessAllowed ? 'block' : 'none';\n",
              "\n",
              "        async function convertToInteractive(key) {\n",
              "          const element = document.querySelector('#df-f5d9efb0-4660-48e0-9e4f-e897e8769e91');\n",
              "          const dataTable =\n",
              "            await google.colab.kernel.invokeFunction('convertToInteractive',\n",
              "                                                     [key], {});\n",
              "          if (!dataTable) return;\n",
              "\n",
              "          const docLinkHtml = 'Like what you see? Visit the ' +\n",
              "            '<a target=\"_blank\" href=https://colab.research.google.com/notebooks/data_table.ipynb>data table notebook</a>'\n",
              "            + ' to learn more about interactive tables.';\n",
              "          element.innerHTML = '';\n",
              "          dataTable['output_type'] = 'display_data';\n",
              "          await google.colab.output.renderOutput(dataTable, element);\n",
              "          const docLink = document.createElement('div');\n",
              "          docLink.innerHTML = docLinkHtml;\n",
              "          element.appendChild(docLink);\n",
              "        }\n",
              "      </script>\n",
              "    </div>\n",
              "  </div>\n",
              "  "
            ]
          },
          "metadata": {},
          "execution_count": 152
        }
      ]
    },
    {
      "cell_type": "markdown",
      "source": [
        "## Model"
      ],
      "metadata": {
        "id": "WM0rmIeOntZy"
      }
    },
    {
      "cell_type": "code",
      "source": [
        "X = data_1[features_]\n",
        "y = data_1[\"valeur_fonciere\"]"
      ],
      "metadata": {
        "id": "OBO5aIyCwJ21"
      },
      "execution_count": 8,
      "outputs": []
    },
    {
      "cell_type": "code",
      "source": [
        "from sklearn.model_selection import train_test_split\n",
        "X_train, X_test, y_train, y_test = train_test_split(X, y, test_size=0.25, random_state=18)\n",
        "\n",
        "print(\"X_train:\",X_train.shape)\n",
        "print(\"X_test:\",X_test.shape)\n",
        "print(\"y_train:\",y_train.shape)\n",
        "print(\"y_test:\",y_test.shape)\n",
        "X"
      ],
      "metadata": {
        "colab": {
          "base_uri": "https://localhost:8080/",
          "height": 493
        },
        "id": "Wc8nwsCqxjzO",
        "outputId": "0e460203-efbf-475b-d316-2359ff8f22aa"
      },
      "execution_count": 9,
      "outputs": [
        {
          "output_type": "stream",
          "name": "stdout",
          "text": [
            "X_train: (999, 4)\n",
            "X_test: (333, 4)\n",
            "y_train: (999,)\n",
            "y_test: (333,)\n"
          ]
        },
        {
          "output_type": "execute_result",
          "data": {
            "text/plain": [
              "      code_type_local  surface_reelle_bati  nombre_pieces_principales  \\\n",
              "0                 1.0                129.0                        4.0   \n",
              "2                 1.0                 64.0                        4.0   \n",
              "3                 1.0                 64.0                        4.0   \n",
              "5                 2.0                 18.0                        1.0   \n",
              "6                 4.0                 68.0                        0.0   \n",
              "...               ...                  ...                        ...   \n",
              "2966              4.0                919.0                        0.0   \n",
              "2967              4.0              11002.0                        0.0   \n",
              "2968              2.0                 87.0                        3.0   \n",
              "2969              4.0               1048.0                        0.0   \n",
              "2971              4.0                600.0                        0.0   \n",
              "\n",
              "      surface_terrain  \n",
              "0               351.0  \n",
              "2               452.0  \n",
              "3               498.0  \n",
              "5               105.0  \n",
              "6               105.0  \n",
              "...               ...  \n",
              "2966          29103.0  \n",
              "2967          29103.0  \n",
              "2968           3973.0  \n",
              "2969           3973.0  \n",
              "2971           2112.0  \n",
              "\n",
              "[1332 rows x 4 columns]"
            ],
            "text/html": [
              "\n",
              "  <div id=\"df-7aebbc08-a5c2-4245-ab70-dba94aed95f9\">\n",
              "    <div class=\"colab-df-container\">\n",
              "      <div>\n",
              "<style scoped>\n",
              "    .dataframe tbody tr th:only-of-type {\n",
              "        vertical-align: middle;\n",
              "    }\n",
              "\n",
              "    .dataframe tbody tr th {\n",
              "        vertical-align: top;\n",
              "    }\n",
              "\n",
              "    .dataframe thead th {\n",
              "        text-align: right;\n",
              "    }\n",
              "</style>\n",
              "<table border=\"1\" class=\"dataframe\">\n",
              "  <thead>\n",
              "    <tr style=\"text-align: right;\">\n",
              "      <th></th>\n",
              "      <th>code_type_local</th>\n",
              "      <th>surface_reelle_bati</th>\n",
              "      <th>nombre_pieces_principales</th>\n",
              "      <th>surface_terrain</th>\n",
              "    </tr>\n",
              "  </thead>\n",
              "  <tbody>\n",
              "    <tr>\n",
              "      <th>0</th>\n",
              "      <td>1.0</td>\n",
              "      <td>129.0</td>\n",
              "      <td>4.0</td>\n",
              "      <td>351.0</td>\n",
              "    </tr>\n",
              "    <tr>\n",
              "      <th>2</th>\n",
              "      <td>1.0</td>\n",
              "      <td>64.0</td>\n",
              "      <td>4.0</td>\n",
              "      <td>452.0</td>\n",
              "    </tr>\n",
              "    <tr>\n",
              "      <th>3</th>\n",
              "      <td>1.0</td>\n",
              "      <td>64.0</td>\n",
              "      <td>4.0</td>\n",
              "      <td>498.0</td>\n",
              "    </tr>\n",
              "    <tr>\n",
              "      <th>5</th>\n",
              "      <td>2.0</td>\n",
              "      <td>18.0</td>\n",
              "      <td>1.0</td>\n",
              "      <td>105.0</td>\n",
              "    </tr>\n",
              "    <tr>\n",
              "      <th>6</th>\n",
              "      <td>4.0</td>\n",
              "      <td>68.0</td>\n",
              "      <td>0.0</td>\n",
              "      <td>105.0</td>\n",
              "    </tr>\n",
              "    <tr>\n",
              "      <th>...</th>\n",
              "      <td>...</td>\n",
              "      <td>...</td>\n",
              "      <td>...</td>\n",
              "      <td>...</td>\n",
              "    </tr>\n",
              "    <tr>\n",
              "      <th>2966</th>\n",
              "      <td>4.0</td>\n",
              "      <td>919.0</td>\n",
              "      <td>0.0</td>\n",
              "      <td>29103.0</td>\n",
              "    </tr>\n",
              "    <tr>\n",
              "      <th>2967</th>\n",
              "      <td>4.0</td>\n",
              "      <td>11002.0</td>\n",
              "      <td>0.0</td>\n",
              "      <td>29103.0</td>\n",
              "    </tr>\n",
              "    <tr>\n",
              "      <th>2968</th>\n",
              "      <td>2.0</td>\n",
              "      <td>87.0</td>\n",
              "      <td>3.0</td>\n",
              "      <td>3973.0</td>\n",
              "    </tr>\n",
              "    <tr>\n",
              "      <th>2969</th>\n",
              "      <td>4.0</td>\n",
              "      <td>1048.0</td>\n",
              "      <td>0.0</td>\n",
              "      <td>3973.0</td>\n",
              "    </tr>\n",
              "    <tr>\n",
              "      <th>2971</th>\n",
              "      <td>4.0</td>\n",
              "      <td>600.0</td>\n",
              "      <td>0.0</td>\n",
              "      <td>2112.0</td>\n",
              "    </tr>\n",
              "  </tbody>\n",
              "</table>\n",
              "<p>1332 rows × 4 columns</p>\n",
              "</div>\n",
              "      <button class=\"colab-df-convert\" onclick=\"convertToInteractive('df-7aebbc08-a5c2-4245-ab70-dba94aed95f9')\"\n",
              "              title=\"Convert this dataframe to an interactive table.\"\n",
              "              style=\"display:none;\">\n",
              "        \n",
              "  <svg xmlns=\"http://www.w3.org/2000/svg\" height=\"24px\"viewBox=\"0 0 24 24\"\n",
              "       width=\"24px\">\n",
              "    <path d=\"M0 0h24v24H0V0z\" fill=\"none\"/>\n",
              "    <path d=\"M18.56 5.44l.94 2.06.94-2.06 2.06-.94-2.06-.94-.94-2.06-.94 2.06-2.06.94zm-11 1L8.5 8.5l.94-2.06 2.06-.94-2.06-.94L8.5 2.5l-.94 2.06-2.06.94zm10 10l.94 2.06.94-2.06 2.06-.94-2.06-.94-.94-2.06-.94 2.06-2.06.94z\"/><path d=\"M17.41 7.96l-1.37-1.37c-.4-.4-.92-.59-1.43-.59-.52 0-1.04.2-1.43.59L10.3 9.45l-7.72 7.72c-.78.78-.78 2.05 0 2.83L4 21.41c.39.39.9.59 1.41.59.51 0 1.02-.2 1.41-.59l7.78-7.78 2.81-2.81c.8-.78.8-2.07 0-2.86zM5.41 20L4 18.59l7.72-7.72 1.47 1.35L5.41 20z\"/>\n",
              "  </svg>\n",
              "      </button>\n",
              "      \n",
              "  <style>\n",
              "    .colab-df-container {\n",
              "      display:flex;\n",
              "      flex-wrap:wrap;\n",
              "      gap: 12px;\n",
              "    }\n",
              "\n",
              "    .colab-df-convert {\n",
              "      background-color: #E8F0FE;\n",
              "      border: none;\n",
              "      border-radius: 50%;\n",
              "      cursor: pointer;\n",
              "      display: none;\n",
              "      fill: #1967D2;\n",
              "      height: 32px;\n",
              "      padding: 0 0 0 0;\n",
              "      width: 32px;\n",
              "    }\n",
              "\n",
              "    .colab-df-convert:hover {\n",
              "      background-color: #E2EBFA;\n",
              "      box-shadow: 0px 1px 2px rgba(60, 64, 67, 0.3), 0px 1px 3px 1px rgba(60, 64, 67, 0.15);\n",
              "      fill: #174EA6;\n",
              "    }\n",
              "\n",
              "    [theme=dark] .colab-df-convert {\n",
              "      background-color: #3B4455;\n",
              "      fill: #D2E3FC;\n",
              "    }\n",
              "\n",
              "    [theme=dark] .colab-df-convert:hover {\n",
              "      background-color: #434B5C;\n",
              "      box-shadow: 0px 1px 3px 1px rgba(0, 0, 0, 0.15);\n",
              "      filter: drop-shadow(0px 1px 2px rgba(0, 0, 0, 0.3));\n",
              "      fill: #FFFFFF;\n",
              "    }\n",
              "  </style>\n",
              "\n",
              "      <script>\n",
              "        const buttonEl =\n",
              "          document.querySelector('#df-7aebbc08-a5c2-4245-ab70-dba94aed95f9 button.colab-df-convert');\n",
              "        buttonEl.style.display =\n",
              "          google.colab.kernel.accessAllowed ? 'block' : 'none';\n",
              "\n",
              "        async function convertToInteractive(key) {\n",
              "          const element = document.querySelector('#df-7aebbc08-a5c2-4245-ab70-dba94aed95f9');\n",
              "          const dataTable =\n",
              "            await google.colab.kernel.invokeFunction('convertToInteractive',\n",
              "                                                     [key], {});\n",
              "          if (!dataTable) return;\n",
              "\n",
              "          const docLinkHtml = 'Like what you see? Visit the ' +\n",
              "            '<a target=\"_blank\" href=https://colab.research.google.com/notebooks/data_table.ipynb>data table notebook</a>'\n",
              "            + ' to learn more about interactive tables.';\n",
              "          element.innerHTML = '';\n",
              "          dataTable['output_type'] = 'display_data';\n",
              "          await google.colab.output.renderOutput(dataTable, element);\n",
              "          const docLink = document.createElement('div');\n",
              "          docLink.innerHTML = docLinkHtml;\n",
              "          element.appendChild(docLink);\n",
              "        }\n",
              "      </script>\n",
              "    </div>\n",
              "  </div>\n",
              "  "
            ]
          },
          "metadata": {},
          "execution_count": 9
        }
      ]
    },
    {
      "cell_type": "code",
      "source": [
        "from sklearn.linear_model import LinearRegression\n",
        "from sklearn import metrics  \n",
        "\n",
        "lm = LinearRegression()\n",
        "lm.fit(X_train,y_train)\n",
        "\n",
        "cdf = pd.DataFrame(data=lm.coef_, index=X_train.columns, columns=[\"Coefficients\"])\n",
        "cdf"
      ],
      "metadata": {
        "colab": {
          "base_uri": "https://localhost:8080/",
          "height": 175
        },
        "id": "XQUNz8fWx599",
        "outputId": "e2d2406b-73b7-4f74-e026-b563205d29ba"
      },
      "execution_count": 10,
      "outputs": [
        {
          "output_type": "execute_result",
          "data": {
            "text/plain": [
              "                           Coefficients\n",
              "code_type_local            51847.129233\n",
              "surface_reelle_bati          380.226323\n",
              "nombre_pieces_principales   5507.698118\n",
              "surface_terrain               26.910134"
            ],
            "text/html": [
              "\n",
              "  <div id=\"df-d57be66f-6354-479c-adae-b7c68cf5d1e6\">\n",
              "    <div class=\"colab-df-container\">\n",
              "      <div>\n",
              "<style scoped>\n",
              "    .dataframe tbody tr th:only-of-type {\n",
              "        vertical-align: middle;\n",
              "    }\n",
              "\n",
              "    .dataframe tbody tr th {\n",
              "        vertical-align: top;\n",
              "    }\n",
              "\n",
              "    .dataframe thead th {\n",
              "        text-align: right;\n",
              "    }\n",
              "</style>\n",
              "<table border=\"1\" class=\"dataframe\">\n",
              "  <thead>\n",
              "    <tr style=\"text-align: right;\">\n",
              "      <th></th>\n",
              "      <th>Coefficients</th>\n",
              "    </tr>\n",
              "  </thead>\n",
              "  <tbody>\n",
              "    <tr>\n",
              "      <th>code_type_local</th>\n",
              "      <td>51847.129233</td>\n",
              "    </tr>\n",
              "    <tr>\n",
              "      <th>surface_reelle_bati</th>\n",
              "      <td>380.226323</td>\n",
              "    </tr>\n",
              "    <tr>\n",
              "      <th>nombre_pieces_principales</th>\n",
              "      <td>5507.698118</td>\n",
              "    </tr>\n",
              "    <tr>\n",
              "      <th>surface_terrain</th>\n",
              "      <td>26.910134</td>\n",
              "    </tr>\n",
              "  </tbody>\n",
              "</table>\n",
              "</div>\n",
              "      <button class=\"colab-df-convert\" onclick=\"convertToInteractive('df-d57be66f-6354-479c-adae-b7c68cf5d1e6')\"\n",
              "              title=\"Convert this dataframe to an interactive table.\"\n",
              "              style=\"display:none;\">\n",
              "        \n",
              "  <svg xmlns=\"http://www.w3.org/2000/svg\" height=\"24px\"viewBox=\"0 0 24 24\"\n",
              "       width=\"24px\">\n",
              "    <path d=\"M0 0h24v24H0V0z\" fill=\"none\"/>\n",
              "    <path d=\"M18.56 5.44l.94 2.06.94-2.06 2.06-.94-2.06-.94-.94-2.06-.94 2.06-2.06.94zm-11 1L8.5 8.5l.94-2.06 2.06-.94-2.06-.94L8.5 2.5l-.94 2.06-2.06.94zm10 10l.94 2.06.94-2.06 2.06-.94-2.06-.94-.94-2.06-.94 2.06-2.06.94z\"/><path d=\"M17.41 7.96l-1.37-1.37c-.4-.4-.92-.59-1.43-.59-.52 0-1.04.2-1.43.59L10.3 9.45l-7.72 7.72c-.78.78-.78 2.05 0 2.83L4 21.41c.39.39.9.59 1.41.59.51 0 1.02-.2 1.41-.59l7.78-7.78 2.81-2.81c.8-.78.8-2.07 0-2.86zM5.41 20L4 18.59l7.72-7.72 1.47 1.35L5.41 20z\"/>\n",
              "  </svg>\n",
              "      </button>\n",
              "      \n",
              "  <style>\n",
              "    .colab-df-container {\n",
              "      display:flex;\n",
              "      flex-wrap:wrap;\n",
              "      gap: 12px;\n",
              "    }\n",
              "\n",
              "    .colab-df-convert {\n",
              "      background-color: #E8F0FE;\n",
              "      border: none;\n",
              "      border-radius: 50%;\n",
              "      cursor: pointer;\n",
              "      display: none;\n",
              "      fill: #1967D2;\n",
              "      height: 32px;\n",
              "      padding: 0 0 0 0;\n",
              "      width: 32px;\n",
              "    }\n",
              "\n",
              "    .colab-df-convert:hover {\n",
              "      background-color: #E2EBFA;\n",
              "      box-shadow: 0px 1px 2px rgba(60, 64, 67, 0.3), 0px 1px 3px 1px rgba(60, 64, 67, 0.15);\n",
              "      fill: #174EA6;\n",
              "    }\n",
              "\n",
              "    [theme=dark] .colab-df-convert {\n",
              "      background-color: #3B4455;\n",
              "      fill: #D2E3FC;\n",
              "    }\n",
              "\n",
              "    [theme=dark] .colab-df-convert:hover {\n",
              "      background-color: #434B5C;\n",
              "      box-shadow: 0px 1px 3px 1px rgba(0, 0, 0, 0.15);\n",
              "      filter: drop-shadow(0px 1px 2px rgba(0, 0, 0, 0.3));\n",
              "      fill: #FFFFFF;\n",
              "    }\n",
              "  </style>\n",
              "\n",
              "      <script>\n",
              "        const buttonEl =\n",
              "          document.querySelector('#df-d57be66f-6354-479c-adae-b7c68cf5d1e6 button.colab-df-convert');\n",
              "        buttonEl.style.display =\n",
              "          google.colab.kernel.accessAllowed ? 'block' : 'none';\n",
              "\n",
              "        async function convertToInteractive(key) {\n",
              "          const element = document.querySelector('#df-d57be66f-6354-479c-adae-b7c68cf5d1e6');\n",
              "          const dataTable =\n",
              "            await google.colab.kernel.invokeFunction('convertToInteractive',\n",
              "                                                     [key], {});\n",
              "          if (!dataTable) return;\n",
              "\n",
              "          const docLinkHtml = 'Like what you see? Visit the ' +\n",
              "            '<a target=\"_blank\" href=https://colab.research.google.com/notebooks/data_table.ipynb>data table notebook</a>'\n",
              "            + ' to learn more about interactive tables.';\n",
              "          element.innerHTML = '';\n",
              "          dataTable['output_type'] = 'display_data';\n",
              "          await google.colab.output.renderOutput(dataTable, element);\n",
              "          const docLink = document.createElement('div');\n",
              "          docLink.innerHTML = docLinkHtml;\n",
              "          element.appendChild(docLink);\n",
              "        }\n",
              "      </script>\n",
              "    </div>\n",
              "  </div>\n",
              "  "
            ]
          },
          "metadata": {},
          "execution_count": 10
        }
      ]
    },
    {
      "cell_type": "code",
      "source": [
        "n = X_train.shape[0]\n",
        "k = X_train.shape[1]\n",
        "dfN = n-k\n",
        "\n",
        "train_pred=lm.predict(X_train)\n",
        "train_error = np.square(train_pred - y_train)\n",
        "sum_error=np.sum(train_error)\n",
        "se=[0,0,0,0]\n",
        "for i in range(k):\n",
        "  r = (sum_error/dfN)\n",
        "  r = r/np.sum(np.square(X_train[list(X_train.columns)[i]]-X_train[list(X_train.columns)[i]].mean()))\n",
        "  se[i]=np.sqrt(r)\n",
        "cdf['Standard Error']=se\n",
        "cdf['t-statistic']=cdf['Coefficients']/cdf['Standard Error']\n",
        "cdf"
      ],
      "metadata": {
        "colab": {
          "base_uri": "https://localhost:8080/",
          "height": 175
        },
        "id": "NWwZN47tzDne",
        "outputId": "b8287327-1b3d-4aae-cd21-fff3cf05955b"
      },
      "execution_count": 11,
      "outputs": [
        {
          "output_type": "execute_result",
          "data": {
            "text/plain": [
              "                           Coefficients  Standard Error  t-statistic\n",
              "code_type_local            51847.129233    15679.477119     3.306687\n",
              "surface_reelle_bati          380.226323       12.352824    30.780519\n",
              "nombre_pieces_principales   5507.698118     7691.134533     0.716110\n",
              "surface_terrain               26.910134        2.889698     9.312438"
            ],
            "text/html": [
              "\n",
              "  <div id=\"df-4aa83c5e-e219-4ce2-a35c-12b13763f450\">\n",
              "    <div class=\"colab-df-container\">\n",
              "      <div>\n",
              "<style scoped>\n",
              "    .dataframe tbody tr th:only-of-type {\n",
              "        vertical-align: middle;\n",
              "    }\n",
              "\n",
              "    .dataframe tbody tr th {\n",
              "        vertical-align: top;\n",
              "    }\n",
              "\n",
              "    .dataframe thead th {\n",
              "        text-align: right;\n",
              "    }\n",
              "</style>\n",
              "<table border=\"1\" class=\"dataframe\">\n",
              "  <thead>\n",
              "    <tr style=\"text-align: right;\">\n",
              "      <th></th>\n",
              "      <th>Coefficients</th>\n",
              "      <th>Standard Error</th>\n",
              "      <th>t-statistic</th>\n",
              "    </tr>\n",
              "  </thead>\n",
              "  <tbody>\n",
              "    <tr>\n",
              "      <th>code_type_local</th>\n",
              "      <td>51847.129233</td>\n",
              "      <td>15679.477119</td>\n",
              "      <td>3.306687</td>\n",
              "    </tr>\n",
              "    <tr>\n",
              "      <th>surface_reelle_bati</th>\n",
              "      <td>380.226323</td>\n",
              "      <td>12.352824</td>\n",
              "      <td>30.780519</td>\n",
              "    </tr>\n",
              "    <tr>\n",
              "      <th>nombre_pieces_principales</th>\n",
              "      <td>5507.698118</td>\n",
              "      <td>7691.134533</td>\n",
              "      <td>0.716110</td>\n",
              "    </tr>\n",
              "    <tr>\n",
              "      <th>surface_terrain</th>\n",
              "      <td>26.910134</td>\n",
              "      <td>2.889698</td>\n",
              "      <td>9.312438</td>\n",
              "    </tr>\n",
              "  </tbody>\n",
              "</table>\n",
              "</div>\n",
              "      <button class=\"colab-df-convert\" onclick=\"convertToInteractive('df-4aa83c5e-e219-4ce2-a35c-12b13763f450')\"\n",
              "              title=\"Convert this dataframe to an interactive table.\"\n",
              "              style=\"display:none;\">\n",
              "        \n",
              "  <svg xmlns=\"http://www.w3.org/2000/svg\" height=\"24px\"viewBox=\"0 0 24 24\"\n",
              "       width=\"24px\">\n",
              "    <path d=\"M0 0h24v24H0V0z\" fill=\"none\"/>\n",
              "    <path d=\"M18.56 5.44l.94 2.06.94-2.06 2.06-.94-2.06-.94-.94-2.06-.94 2.06-2.06.94zm-11 1L8.5 8.5l.94-2.06 2.06-.94-2.06-.94L8.5 2.5l-.94 2.06-2.06.94zm10 10l.94 2.06.94-2.06 2.06-.94-2.06-.94-.94-2.06-.94 2.06-2.06.94z\"/><path d=\"M17.41 7.96l-1.37-1.37c-.4-.4-.92-.59-1.43-.59-.52 0-1.04.2-1.43.59L10.3 9.45l-7.72 7.72c-.78.78-.78 2.05 0 2.83L4 21.41c.39.39.9.59 1.41.59.51 0 1.02-.2 1.41-.59l7.78-7.78 2.81-2.81c.8-.78.8-2.07 0-2.86zM5.41 20L4 18.59l7.72-7.72 1.47 1.35L5.41 20z\"/>\n",
              "  </svg>\n",
              "      </button>\n",
              "      \n",
              "  <style>\n",
              "    .colab-df-container {\n",
              "      display:flex;\n",
              "      flex-wrap:wrap;\n",
              "      gap: 12px;\n",
              "    }\n",
              "\n",
              "    .colab-df-convert {\n",
              "      background-color: #E8F0FE;\n",
              "      border: none;\n",
              "      border-radius: 50%;\n",
              "      cursor: pointer;\n",
              "      display: none;\n",
              "      fill: #1967D2;\n",
              "      height: 32px;\n",
              "      padding: 0 0 0 0;\n",
              "      width: 32px;\n",
              "    }\n",
              "\n",
              "    .colab-df-convert:hover {\n",
              "      background-color: #E2EBFA;\n",
              "      box-shadow: 0px 1px 2px rgba(60, 64, 67, 0.3), 0px 1px 3px 1px rgba(60, 64, 67, 0.15);\n",
              "      fill: #174EA6;\n",
              "    }\n",
              "\n",
              "    [theme=dark] .colab-df-convert {\n",
              "      background-color: #3B4455;\n",
              "      fill: #D2E3FC;\n",
              "    }\n",
              "\n",
              "    [theme=dark] .colab-df-convert:hover {\n",
              "      background-color: #434B5C;\n",
              "      box-shadow: 0px 1px 3px 1px rgba(0, 0, 0, 0.15);\n",
              "      filter: drop-shadow(0px 1px 2px rgba(0, 0, 0, 0.3));\n",
              "      fill: #FFFFFF;\n",
              "    }\n",
              "  </style>\n",
              "\n",
              "      <script>\n",
              "        const buttonEl =\n",
              "          document.querySelector('#df-4aa83c5e-e219-4ce2-a35c-12b13763f450 button.colab-df-convert');\n",
              "        buttonEl.style.display =\n",
              "          google.colab.kernel.accessAllowed ? 'block' : 'none';\n",
              "\n",
              "        async function convertToInteractive(key) {\n",
              "          const element = document.querySelector('#df-4aa83c5e-e219-4ce2-a35c-12b13763f450');\n",
              "          const dataTable =\n",
              "            await google.colab.kernel.invokeFunction('convertToInteractive',\n",
              "                                                     [key], {});\n",
              "          if (!dataTable) return;\n",
              "\n",
              "          const docLinkHtml = 'Like what you see? Visit the ' +\n",
              "            '<a target=\"_blank\" href=https://colab.research.google.com/notebooks/data_table.ipynb>data table notebook</a>'\n",
              "            + ' to learn more about interactive tables.';\n",
              "          element.innerHTML = '';\n",
              "          dataTable['output_type'] = 'display_data';\n",
              "          await google.colab.output.renderOutput(dataTable, element);\n",
              "          const docLink = document.createElement('div');\n",
              "          docLink.innerHTML = docLinkHtml;\n",
              "          element.appendChild(docLink);\n",
              "        }\n",
              "      </script>\n",
              "    </div>\n",
              "  </div>\n",
              "  "
            ]
          },
          "metadata": {},
          "execution_count": 11
        }
      ]
    },
    {
      "cell_type": "code",
      "source": [
        "# l=list(cdf.sort_values('t-statistic',ascending=False).index)\n",
        "# print(' > \\n'.join(l))\n",
        "\n",
        "print(\"\\n Valeur R-carré:\",round(metrics.r2_score(y_train,train_pred),3))"
      ],
      "metadata": {
        "colab": {
          "base_uri": "https://localhost:8080/"
        },
        "id": "ifpedWfHzwPH",
        "outputId": "48cdf437-30f1-4426-b0ec-474cf305b83f"
      },
      "execution_count": 12,
      "outputs": [
        {
          "output_type": "stream",
          "name": "stdout",
          "text": [
            "\n",
            " Valor del R cuadrado de este ajuste: 0.605\n"
          ]
        }
      ]
    },
    {
      "cell_type": "code",
      "source": [
        "predictions = lm.predict(X_test)\n",
        "# print(predictions)\n",
        "plt.figure(figsize=(10,7))\n",
        "plt.title(\"prix réels vs. prédits\",fontsize=25)\n",
        "plt.xlabel(\"Prix réels\",fontsize=18)\n",
        "plt.ylabel(\"Prix prédits\", fontsize=18)\n",
        "plt.scatter(x=y_test,y=predictions)\n",
        "plt.plot([y.min(), 0.5*1e6], [y.min(), 0.5*1e6], color='red',lw=3)\n",
        "\n",
        "# plt.plot(X_test,predictions, 'r')"
      ],
      "metadata": {
        "colab": {
          "base_uri": "https://localhost:8080/",
          "height": 494
        },
        "id": "1ui97cp-z47P",
        "outputId": "00d7f2a3-f009-49fd-cd15-95195a08472f"
      },
      "execution_count": 15,
      "outputs": [
        {
          "output_type": "execute_result",
          "data": {
            "text/plain": [
              "[<matplotlib.lines.Line2D at 0x7fc17025d6d0>]"
            ]
          },
          "metadata": {},
          "execution_count": 15
        },
        {
          "output_type": "display_data",
          "data": {
            "text/plain": [
              "<Figure size 720x504 with 1 Axes>"
            ],
            "image/png": "[encoded data removed]"
          },
          "metadata": {
            "needs_background": "light"
          }
        }
      ]
    },
    {
      "cell_type": "code",
      "source": [
        "# print(X_test, type(X_test))\n",
        "# print(y_test, len(y_test))\n",
        "# print(predictions, len(predictions))\n",
        "print(y_test, predictions)"
      ],
      "metadata": {
        "id": "m22u08sXiEf-"
      },
      "execution_count": null,
      "outputs": []
    },
    {
      "cell_type": "code",
      "source": [
        "print(\"Valeur R-carré prédite:\",round(metrics.r2_score(y_test,predictions),3))"
      ],
      "metadata": {
        "colab": {
          "base_uri": "https://localhost:8080/"
        },
        "id": "mYLxNWuv0GH2",
        "outputId": "18aef42d-f80b-453f-ec1f-4f11ff2dd0bb"
      },
      "execution_count": 16,
      "outputs": [
        {
          "output_type": "stream",
          "name": "stdout",
          "text": [
            "Valor R-squared de las predicciones: -0.828\n"
          ]
        }
      ]
    },
    {
      "cell_type": "code",
      "source": [
        "# code_type_local, surface_reelle_bati, nombre_pieces_principales, surface_terrain\n",
        "prueba = lm.predict([[1,60,3,20]])\n",
        "print(np.round(prueba, 3))"
      ],
      "metadata": {
        "colab": {
          "base_uri": "https://localhost:8080/"
        },
        "id": "fKQcuNFE4GtL",
        "outputId": "2ec2004c-50e7-4901-fbb8-28dc3dc4bf74"
      },
      "execution_count": 138,
      "outputs": [
        {
          "output_type": "stream",
          "name": "stdout",
          "text": [
            "[153688.698]\n"
          ]
        },
        {
          "output_type": "stream",
          "name": "stderr",
          "text": [
            "/usr/local/lib/python3.8/dist-packages/sklearn/base.py:450: UserWarning: X does not have valid feature names, but LinearRegression was fitted with feature names\n",
            "  warnings.warn(\n"
          ]
        }
      ]
    },
    {
      "cell_type": "markdown",
      "source": [
        "### Lasso"
      ],
      "metadata": {
        "id": "P0HMUMS6ZP0k"
      }
    },
    {
      "cell_type": "code",
      "source": [
        "from sklearn.linear_model import Lasso\n",
        "modelL = Lasso(alpha=1.0)\n",
        "modelL.fit(X_train, y_train)\n",
        "predictions = modelL.predict(X_test)\n",
        "print(\"Mean square error (MSE):\", metrics.mean_squared_error(y_test,predictions))\n",
        "print(\"Root mean square error (RMSE):\", np.sqrt(metrics.mean_squared_error(y_test,predictions)))\n",
        "print(\"Valor R-squared de las predicciones:\",round(metrics.r2_score(y_test,predictions),3))"
      ],
      "metadata": {
        "colab": {
          "base_uri": "https://localhost:8080/"
        },
        "id": "sw329VzGGe1L",
        "outputId": "c903c6e9-243c-42dc-b825-3dc8e6e31de5"
      },
      "execution_count": 224,
      "outputs": [
        {
          "output_type": "stream",
          "name": "stdout",
          "text": [
            "Mean square error (MSE): 1776157175.0651925\n",
            "Root mean square error (RMSE): 42144.47976977759\n",
            "Valor R-squared de las predicciones: 0.477\n"
          ]
        }
      ]
    },
    {
      "cell_type": "markdown",
      "source": [
        "### Polinomial Features"
      ],
      "metadata": {
        "id": "7XjVeMX7ZJIv"
      }
    },
    {
      "cell_type": "code",
      "source": [
        "from sklearn.preprocessing import PolynomialFeatures\n",
        "from sklearn.pipeline import make_pipeline\n",
        "# import statsmodels.api as sm\n",
        "\n",
        "model_pol = make_pipeline(PolynomialFeatures(4), LinearRegression())\n",
        "model_pol.fit(X_train, y_train)\n",
        "\n",
        "y_train_pred = model_pol.predict(X_train)\n",
        "y_test_pred = model_pol.predict(X_test)\n",
        "\n",
        "print(\"Valeur R-carré train:\",round(metrics.r2_score(y_train,y_train_pred),3))\n",
        "\n",
        "# pf = PolynomialFeatures(degree=3)\n",
        "# X_train_p = pf.fit_transform(X_train)\n",
        "# X_test_p = pf.fit_transform(X_test)\n",
        "# model_pol = sm.OLS(y_train, X_train_p).fit()\n",
        "# predictions = model_pol.predict(X_test_p)\n",
        "print(\"Mean square error (MSE):\", metrics.mean_squared_error(y_test,y_test_pred))\n",
        "print(\"Root mean square error (RMSE):\", np.sqrt(metrics.mean_squared_error(y_test,y_test_pred)))\n",
        "print(\"Valeur R-carré prédictions:\",round(metrics.r2_score(y_test,y_test_pred),3))\n",
        "\n",
        "plt.figure(figsize=(10,7))\n",
        "plt.title(\"prix réels vs. prédits\",fontsize=25)\n",
        "plt.xlabel(\"Prix réels\",fontsize=18)\n",
        "plt.ylabel(\"Prix prédits\", fontsize=18)\n",
        "plt.scatter(x=y_test,y=y_test_pred)\n",
        "plt.plot([y.min(), 0.5*1e6], [y.min(), 0.5*1e6], color='red',lw=3)"
      ],
      "metadata": {
        "colab": {
          "base_uri": "https://localhost:8080/",
          "height": 564
        },
        "id": "-s4vWCUXefLc",
        "outputId": "9f643599-6c85-4a7a-f5b6-93beb6d6b06d"
      },
      "execution_count": 210,
      "outputs": [
        {
          "output_type": "stream",
          "name": "stdout",
          "text": [
            "Valor R-squared de las train: -0.799\n",
            "Mean square error (MSE): 6647675580.78216\n",
            "Root mean square error (RMSE): 81533.2789772505\n",
            "Valor R-squared de las predicciones: -0.957\n"
          ]
        },
        {
          "output_type": "execute_result",
          "data": {
            "text/plain": [
              "[<matplotlib.lines.Line2D at 0x7f727113d2b0>]"
            ]
          },
          "metadata": {},
          "execution_count": 210
        },
        {
          "output_type": "display_data",
          "data": {
            "text/plain": [
              "<Figure size 720x504 with 1 Axes>"
            ],
            "image/png": "[encoded data removed]"
          },
          "metadata": {
            "needs_background": "light"
          }
        }
      ]
    },
    {
      "cell_type": "code",
      "source": [
        "print(y_test, y_test_pred)"
      ],
      "metadata": {
        "id": "gssvXKh2l8AW"
      },
      "execution_count": null,
      "outputs": []
    },
    {
      "cell_type": "code",
      "source": [
        "prueba = model_pol.predict([[1,60,3,20]])\n",
        "print(np.round(prueba, 3))"
      ],
      "metadata": {
        "colab": {
          "base_uri": "https://localhost:8080/"
        },
        "id": "_djxZBQDlOaH",
        "outputId": "a5574c57-e411-4784-dd56-509e18b293f8"
      },
      "execution_count": 211,
      "outputs": [
        {
          "output_type": "stream",
          "name": "stdout",
          "text": [
            "[40214.374]\n"
          ]
        },
        {
          "output_type": "stream",
          "name": "stderr",
          "text": [
            "/usr/local/lib/python3.8/dist-packages/sklearn/base.py:450: UserWarning: X does not have valid feature names, but PolynomialFeatures was fitted with feature names\n",
            "  warnings.warn(\n"
          ]
        }
      ]
    },
    {
      "cell_type": "markdown",
      "source": [
        "# ONNX"
      ],
      "metadata": {
        "id": "UNnlo0AdZU7M"
      }
    },
    {
      "cell_type": "code",
      "source": [
        "pip install skl2onnx"
      ],
      "metadata": {
        "id": "9sY5RUn7ZS4k"
      },
      "execution_count": null,
      "outputs": []
    },
    {
      "cell_type": "code",
      "source": [
        "pip install onnxruntime"
      ],
      "metadata": {
        "id": "6JEUjC_GdMdv"
      },
      "execution_count": null,
      "outputs": []
    },
    {
      "cell_type": "code",
      "source": [
        "from skl2onnx import convert_sklearn\n",
        "from skl2onnx.common.data_types import FloatTensorType\n",
        "\n",
        "# Specify an initial type for the model ( similar to input shape for the model )\n",
        "initial_type = [ \n",
        "    ( 'x_new' , FloatTensorType( [None,1] ) )\n",
        "]\n",
        "\n",
        "# Write the ONNX model to disk\n",
        "converted_model = convert_sklearn( lm , initial_types=initial_type )\n",
        "with open( \"model_immobiliere.onnx\", \"wb\" ) as f:\n",
        "    f.write( converted_model.SerializeToString() )"
      ],
      "metadata": {
        "id": "MTxXwjsCZu1g"
      },
      "execution_count": 215,
      "outputs": []
    },
    {
      "cell_type": "code",
      "source": [
        "!python -m onnxruntime.tools.convert_onnx_models_to_ort /content/model_immobiliere.onnx"
      ],
      "metadata": {
        "colab": {
          "base_uri": "https://localhost:8080/"
        },
        "id": "5WLviZmxdXBw",
        "outputId": "0b995f76-a56f-4837-8e0e-17e2e3b30ee5"
      },
      "execution_count": 218,
      "outputs": [
        {
          "output_type": "stream",
          "name": "stdout",
          "text": [
            "Converting models with optimization style 'Fixed' and level 'all'\n",
            "Converting optimized ONNX model /content/model_immobiliere.onnx to ORT format model /content/model_immobiliere.ort\n",
            "Converted 1/1 models successfully.\n",
            "Generating config file from ORT format models with optimization style 'Fixed' and level 'all'\n",
            "2023-01-05 15:04:23,879 ort_format_model.utils [INFO] - Created config in /content/model_immobiliere.required_operators.config\n",
            "Converting models with optimization style 'Runtime' and level 'all'\n",
            "Converting optimized ONNX model /content/model_immobiliere.onnx to ORT format model /content/model_immobiliere.with_runtime_opt.ort\n",
            "Converted 1/1 models successfully.\n",
            "Converting models again without runtime optimizations to generate a complete config file. These converted models are temporary and will be deleted.\n",
            "Converting optimized ONNX model /content/model_immobiliere.onnx to ORT format model /content/tmp3ecq4hrn.without_runtime_opt/model_immobiliere.ort\n",
            "Converted 1/1 models successfully.\n",
            "Generating config file from ORT format models with optimization style 'Runtime' and level 'all'\n",
            "2023-01-05 15:04:23,882 ort_format_model.utils [INFO] - Created config in /content/model_immobiliere.required_operators.with_runtime_opt.config\n"
          ]
        }
      ]
    },
    {
      "cell_type": "markdown",
      "source": [
        "# Caso: remplazando valores nuelos por simpleimputer"
      ],
      "metadata": {
        "id": "1rWR5p6Wo3k8"
      }
    },
    {
      "cell_type": "code",
      "source": [
        "data_2 = data.copy()\n",
        "data_2 = data_2.replace('None', np.nan)\n",
        "data_2['code_type_local'] = data_2['code_type_local'].astype('float64')\n",
        "valeur_null = data_2['valeur_fonciere'].isnull().sum()\n",
        "print(len(data_2), valeur_null)"
      ],
      "metadata": {
        "colab": {
          "base_uri": "https://localhost:8080/"
        },
        "id": "JrMEqzSppKYH",
        "outputId": "2d92f288-6598-4c02-dcd2-5a3829132046"
      },
      "execution_count": 322,
      "outputs": [
        {
          "output_type": "stream",
          "name": "stdout",
          "text": [
            "2972 50\n"
          ]
        }
      ]
    },
    {
      "cell_type": "code",
      "source": [
        "data_all = data_2[data_2['valeur_fonciere'].notna()]\n",
        "data_all.isnull().sum()"
      ],
      "metadata": {
        "colab": {
          "base_uri": "https://localhost:8080/"
        },
        "id": "J6knTzs6qPPS",
        "outputId": "700359bd-41f1-41e3-b3ef-7ac7aef17ab9"
      },
      "execution_count": 324,
      "outputs": [
        {
          "output_type": "execute_result",
          "data": {
            "text/plain": [
              "valeur_fonciere                 0\n",
              "code_type_local               723\n",
              "surface_reelle_bati          1309\n",
              "nombre_pieces_principales     725\n",
              "surface_terrain               457\n",
              "dtype: int64"
            ]
          },
          "metadata": {},
          "execution_count": 324
        }
      ]
    },
    {
      "cell_type": "code",
      "source": [
        "data_all"
      ],
      "metadata": {
        "colab": {
          "base_uri": "https://localhost:8080/",
          "height": 424
        },
        "id": "vgZm9Sf9vD7x",
        "outputId": "a28d5299-6dae-41d6-c04f-217b2b8917ad"
      },
      "execution_count": 330,
      "outputs": [
        {
          "output_type": "execute_result",
          "data": {
            "text/plain": [
              "      valeur_fonciere  code_type_local  surface_reelle_bati  \\\n",
              "0            260000.0              1.0                129.0   \n",
              "1            260000.0              3.0                  NaN   \n",
              "2            160000.0              1.0                 64.0   \n",
              "3            174000.0              1.0                 64.0   \n",
              "4            174000.0              3.0                  NaN   \n",
              "...               ...              ...                  ...   \n",
              "2967          56460.0              4.0              11002.0   \n",
              "2968        1000000.0              2.0                 87.0   \n",
              "2969        1000000.0              4.0               1048.0   \n",
              "2970         165600.0              NaN                  NaN   \n",
              "2971         665000.0              4.0                600.0   \n",
              "\n",
              "      nombre_pieces_principales  surface_terrain  \n",
              "0                           4.0            351.0  \n",
              "1                           0.0            351.0  \n",
              "2                           4.0            452.0  \n",
              "3                           4.0            498.0  \n",
              "4                           0.0            498.0  \n",
              "...                         ...              ...  \n",
              "2967                        0.0          29103.0  \n",
              "2968                        3.0           3973.0  \n",
              "2969                        0.0           3973.0  \n",
              "2970                        NaN           1465.0  \n",
              "2971                        0.0           2112.0  \n",
              "\n",
              "[2922 rows x 5 columns]"
            ],
            "text/html": [
              "\n",
              "  <div id=\"df-4321a90c-4f94-4c58-aeb1-b0c62fc7ee21\">\n",
              "    <div class=\"colab-df-container\">\n",
              "      <div>\n",
              "<style scoped>\n",
              "    .dataframe tbody tr th:only-of-type {\n",
              "        vertical-align: middle;\n",
              "    }\n",
              "\n",
              "    .dataframe tbody tr th {\n",
              "        vertical-align: top;\n",
              "    }\n",
              "\n",
              "    .dataframe thead th {\n",
              "        text-align: right;\n",
              "    }\n",
              "</style>\n",
              "<table border=\"1\" class=\"dataframe\">\n",
              "  <thead>\n",
              "    <tr style=\"text-align: right;\">\n",
              "      <th></th>\n",
              "      <th>valeur_fonciere</th>\n",
              "      <th>code_type_local</th>\n",
              "      <th>surface_reelle_bati</th>\n",
              "      <th>nombre_pieces_principales</th>\n",
              "      <th>surface_terrain</th>\n",
              "    </tr>\n",
              "  </thead>\n",
              "  <tbody>\n",
              "    <tr>\n",
              "      <th>0</th>\n",
              "      <td>260000.0</td>\n",
              "      <td>1.0</td>\n",
              "      <td>129.0</td>\n",
              "      <td>4.0</td>\n",
              "      <td>351.0</td>\n",
              "    </tr>\n",
              "    <tr>\n",
              "      <th>1</th>\n",
              "      <td>260000.0</td>\n",
              "      <td>3.0</td>\n",
              "      <td>NaN</td>\n",
              "      <td>0.0</td>\n",
              "      <td>351.0</td>\n",
              "    </tr>\n",
              "    <tr>\n",
              "      <th>2</th>\n",
              "      <td>160000.0</td>\n",
              "      <td>1.0</td>\n",
              "      <td>64.0</td>\n",
              "      <td>4.0</td>\n",
              "      <td>452.0</td>\n",
              "    </tr>\n",
              "    <tr>\n",
              "      <th>3</th>\n",
              "      <td>174000.0</td>\n",
              "      <td>1.0</td>\n",
              "      <td>64.0</td>\n",
              "      <td>4.0</td>\n",
              "      <td>498.0</td>\n",
              "    </tr>\n",
              "    <tr>\n",
              "      <th>4</th>\n",
              "      <td>174000.0</td>\n",
              "      <td>3.0</td>\n",
              "      <td>NaN</td>\n",
              "      <td>0.0</td>\n",
              "      <td>498.0</td>\n",
              "    </tr>\n",
              "    <tr>\n",
              "      <th>...</th>\n",
              "      <td>...</td>\n",
              "      <td>...</td>\n",
              "      <td>...</td>\n",
              "      <td>...</td>\n",
              "      <td>...</td>\n",
              "    </tr>\n",
              "    <tr>\n",
              "      <th>2967</th>\n",
              "      <td>56460.0</td>\n",
              "      <td>4.0</td>\n",
              "      <td>11002.0</td>\n",
              "      <td>0.0</td>\n",
              "      <td>29103.0</td>\n",
              "    </tr>\n",
              "    <tr>\n",
              "      <th>2968</th>\n",
              "      <td>1000000.0</td>\n",
              "      <td>2.0</td>\n",
              "      <td>87.0</td>\n",
              "      <td>3.0</td>\n",
              "      <td>3973.0</td>\n",
              "    </tr>\n",
              "    <tr>\n",
              "      <th>2969</th>\n",
              "      <td>1000000.0</td>\n",
              "      <td>4.0</td>\n",
              "      <td>1048.0</td>\n",
              "      <td>0.0</td>\n",
              "      <td>3973.0</td>\n",
              "    </tr>\n",
              "    <tr>\n",
              "      <th>2970</th>\n",
              "      <td>165600.0</td>\n",
              "      <td>NaN</td>\n",
              "      <td>NaN</td>\n",
              "      <td>NaN</td>\n",
              "      <td>1465.0</td>\n",
              "    </tr>\n",
              "    <tr>\n",
              "      <th>2971</th>\n",
              "      <td>665000.0</td>\n",
              "      <td>4.0</td>\n",
              "      <td>600.0</td>\n",
              "      <td>0.0</td>\n",
              "      <td>2112.0</td>\n",
              "    </tr>\n",
              "  </tbody>\n",
              "</table>\n",
              "<p>2922 rows × 5 columns</p>\n",
              "</div>\n",
              "      <button class=\"colab-df-convert\" onclick=\"convertToInteractive('df-4321a90c-4f94-4c58-aeb1-b0c62fc7ee21')\"\n",
              "              title=\"Convert this dataframe to an interactive table.\"\n",
              "              style=\"display:none;\">\n",
              "        \n",
              "  <svg xmlns=\"http://www.w3.org/2000/svg\" height=\"24px\"viewBox=\"0 0 24 24\"\n",
              "       width=\"24px\">\n",
              "    <path d=\"M0 0h24v24H0V0z\" fill=\"none\"/>\n",
              "    <path d=\"M18.56 5.44l.94 2.06.94-2.06 2.06-.94-2.06-.94-.94-2.06-.94 2.06-2.06.94zm-11 1L8.5 8.5l.94-2.06 2.06-.94-2.06-.94L8.5 2.5l-.94 2.06-2.06.94zm10 10l.94 2.06.94-2.06 2.06-.94-2.06-.94-.94-2.06-.94 2.06-2.06.94z\"/><path d=\"M17.41 7.96l-1.37-1.37c-.4-.4-.92-.59-1.43-.59-.52 0-1.04.2-1.43.59L10.3 9.45l-7.72 7.72c-.78.78-.78 2.05 0 2.83L4 21.41c.39.39.9.59 1.41.59.51 0 1.02-.2 1.41-.59l7.78-7.78 2.81-2.81c.8-.78.8-2.07 0-2.86zM5.41 20L4 18.59l7.72-7.72 1.47 1.35L5.41 20z\"/>\n",
              "  </svg>\n",
              "      </button>\n",
              "      \n",
              "  <style>\n",
              "    .colab-df-container {\n",
              "      display:flex;\n",
              "      flex-wrap:wrap;\n",
              "      gap: 12px;\n",
              "    }\n",
              "\n",
              "    .colab-df-convert {\n",
              "      background-color: #E8F0FE;\n",
              "      border: none;\n",
              "      border-radius: 50%;\n",
              "      cursor: pointer;\n",
              "      display: none;\n",
              "      fill: #1967D2;\n",
              "      height: 32px;\n",
              "      padding: 0 0 0 0;\n",
              "      width: 32px;\n",
              "    }\n",
              "\n",
              "    .colab-df-convert:hover {\n",
              "      background-color: #E2EBFA;\n",
              "      box-shadow: 0px 1px 2px rgba(60, 64, 67, 0.3), 0px 1px 3px 1px rgba(60, 64, 67, 0.15);\n",
              "      fill: #174EA6;\n",
              "    }\n",
              "\n",
              "    [theme=dark] .colab-df-convert {\n",
              "      background-color: #3B4455;\n",
              "      fill: #D2E3FC;\n",
              "    }\n",
              "\n",
              "    [theme=dark] .colab-df-convert:hover {\n",
              "      background-color: #434B5C;\n",
              "      box-shadow: 0px 1px 3px 1px rgba(0, 0, 0, 0.15);\n",
              "      filter: drop-shadow(0px 1px 2px rgba(0, 0, 0, 0.3));\n",
              "      fill: #FFFFFF;\n",
              "    }\n",
              "  </style>\n",
              "\n",
              "      <script>\n",
              "        const buttonEl =\n",
              "          document.querySelector('#df-4321a90c-4f94-4c58-aeb1-b0c62fc7ee21 button.colab-df-convert');\n",
              "        buttonEl.style.display =\n",
              "          google.colab.kernel.accessAllowed ? 'block' : 'none';\n",
              "\n",
              "        async function convertToInteractive(key) {\n",
              "          const element = document.querySelector('#df-4321a90c-4f94-4c58-aeb1-b0c62fc7ee21');\n",
              "          const dataTable =\n",
              "            await google.colab.kernel.invokeFunction('convertToInteractive',\n",
              "                                                     [key], {});\n",
              "          if (!dataTable) return;\n",
              "\n",
              "          const docLinkHtml = 'Like what you see? Visit the ' +\n",
              "            '<a target=\"_blank\" href=https://colab.research.google.com/notebooks/data_table.ipynb>data table notebook</a>'\n",
              "            + ' to learn more about interactive tables.';\n",
              "          element.innerHTML = '';\n",
              "          dataTable['output_type'] = 'display_data';\n",
              "          await google.colab.output.renderOutput(dataTable, element);\n",
              "          const docLink = document.createElement('div');\n",
              "          docLink.innerHTML = docLinkHtml;\n",
              "          element.appendChild(docLink);\n",
              "        }\n",
              "      </script>\n",
              "    </div>\n",
              "  </div>\n",
              "  "
            ]
          },
          "metadata": {},
          "execution_count": 330
        }
      ]
    },
    {
      "cell_type": "code",
      "source": [
        "na_variables = data_all.columns[data_all.isnull().any()].tolist()\n",
        "na_variables"
      ],
      "metadata": {
        "colab": {
          "base_uri": "https://localhost:8080/"
        },
        "id": "lAcFDvdFqwpF",
        "outputId": "b3528cd5-f6cb-40a6-b021-fbc26f48ea58"
      },
      "execution_count": 331,
      "outputs": [
        {
          "output_type": "execute_result",
          "data": {
            "text/plain": [
              "['code_type_local',\n",
              " 'surface_reelle_bati',\n",
              " 'nombre_pieces_principales',\n",
              " 'surface_terrain']"
            ]
          },
          "metadata": {},
          "execution_count": 331
        }
      ]
    },
    {
      "cell_type": "code",
      "source": [
        "def show_distr(df):\n",
        "  print(\"missing values : \\n{}\".format(df.isna().sum()))\n",
        "  # boxplot = df.boxplot(column=na_variables)  \n",
        "  hist = df[na_variables].hist(bins=20)\n",
        "  print(\"\\n -------------------------\")"
      ],
      "metadata": {
        "id": "HMGlvDKWt1ne"
      },
      "execution_count": 332,
      "outputs": []
    },
    {
      "cell_type": "code",
      "source": [
        "show_distr(data_all[na_variables])"
      ],
      "metadata": {
        "colab": {
          "base_uri": "https://localhost:8080/",
          "height": 420
        },
        "id": "TVjQi5PQt_z3",
        "outputId": "baaa84a2-b9d0-4218-9929-0db386774c55"
      },
      "execution_count": 333,
      "outputs": [
        {
          "output_type": "stream",
          "name": "stdout",
          "text": [
            "missing values : \n",
            "code_type_local               723\n",
            "surface_reelle_bati          1309\n",
            "nombre_pieces_principales     725\n",
            "surface_terrain               457\n",
            "dtype: int64\n",
            "\n",
            " -------------------------\n"
          ]
        },
        {
          "output_type": "display_data",
          "data": {
            "text/plain": [
              "<Figure size 432x288 with 4 Axes>"
            ],
            "image/png": "[encoded data removed]"
          },
          "metadata": {
            "needs_background": "light"
          }
        }
      ]
    },
    {
      "cell_type": "code",
      "source": [
        "from sklearn.impute import SimpleImputer\n",
        "imputer = SimpleImputer()\n",
        "df_imp = imputer.fit_transform(data_all[na_variables])\n",
        "df_imp = pd.DataFrame(df_imp, columns = na_variables)\n",
        "# print(df_imp, len(df_imp))\n",
        "# print(data_all, len(data_all))\n",
        "for j in range(len(na_variables)):\n",
        "  data_all[na_variables[j]] = df_imp[na_variables[j]]\n",
        "\n",
        "data_all"
      ],
      "metadata": {
        "colab": {
          "base_uri": "https://localhost:8080/",
          "height": 424
        },
        "id": "1NhyrJ7Yucyu",
        "outputId": "454b59c6-0591-4b81-81e6-8463ff0dc93e"
      },
      "execution_count": 335,
      "outputs": [
        {
          "output_type": "execute_result",
          "data": {
            "text/plain": [
              "      valeur_fonciere  code_type_local  surface_reelle_bati  \\\n",
              "0            260000.0              1.0           129.000000   \n",
              "1            260000.0              3.0           182.208308   \n",
              "2            160000.0              1.0            64.000000   \n",
              "3            174000.0              1.0            64.000000   \n",
              "4            174000.0              3.0           182.208308   \n",
              "...               ...              ...                  ...   \n",
              "2967          56460.0              NaN                  NaN   \n",
              "2968        1000000.0              NaN                  NaN   \n",
              "2969        1000000.0              NaN                  NaN   \n",
              "2970         165600.0              NaN                  NaN   \n",
              "2971         665000.0              NaN                  NaN   \n",
              "\n",
              "      nombre_pieces_principales  surface_terrain  \n",
              "0                           4.0            351.0  \n",
              "1                           0.0            351.0  \n",
              "2                           4.0            452.0  \n",
              "3                           4.0            498.0  \n",
              "4                           0.0            498.0  \n",
              "...                         ...              ...  \n",
              "2967                        NaN              NaN  \n",
              "2968                        NaN              NaN  \n",
              "2969                        NaN              NaN  \n",
              "2970                        NaN              NaN  \n",
              "2971                        NaN              NaN  \n",
              "\n",
              "[2922 rows x 5 columns]"
            ],
            "text/html": [
              "\n",
              "  <div id=\"df-57d91fa8-a367-415e-8541-bebea172fdce\">\n",
              "    <div class=\"colab-df-container\">\n",
              "      <div>\n",
              "<style scoped>\n",
              "    .dataframe tbody tr th:only-of-type {\n",
              "        vertical-align: middle;\n",
              "    }\n",
              "\n",
              "    .dataframe tbody tr th {\n",
              "        vertical-align: top;\n",
              "    }\n",
              "\n",
              "    .dataframe thead th {\n",
              "        text-align: right;\n",
              "    }\n",
              "</style>\n",
              "<table border=\"1\" class=\"dataframe\">\n",
              "  <thead>\n",
              "    <tr style=\"text-align: right;\">\n",
              "      <th></th>\n",
              "      <th>valeur_fonciere</th>\n",
              "      <th>code_type_local</th>\n",
              "      <th>surface_reelle_bati</th>\n",
              "      <th>nombre_pieces_principales</th>\n",
              "      <th>surface_terrain</th>\n",
              "    </tr>\n",
              "  </thead>\n",
              "  <tbody>\n",
              "    <tr>\n",
              "      <th>0</th>\n",
              "      <td>260000.0</td>\n",
              "      <td>1.0</td>\n",
              "      <td>129.000000</td>\n",
              "      <td>4.0</td>\n",
              "      <td>351.0</td>\n",
              "    </tr>\n",
              "    <tr>\n",
              "      <th>1</th>\n",
              "      <td>260000.0</td>\n",
              "      <td>3.0</td>\n",
              "      <td>182.208308</td>\n",
              "      <td>0.0</td>\n",
              "      <td>351.0</td>\n",
              "    </tr>\n",
              "    <tr>\n",
              "      <th>2</th>\n",
              "      <td>160000.0</td>\n",
              "      <td>1.0</td>\n",
              "      <td>64.000000</td>\n",
              "      <td>4.0</td>\n",
              "      <td>452.0</td>\n",
              "    </tr>\n",
              "    <tr>\n",
              "      <th>3</th>\n",
              "      <td>174000.0</td>\n",
              "      <td>1.0</td>\n",
              "      <td>64.000000</td>\n",
              "      <td>4.0</td>\n",
              "      <td>498.0</td>\n",
              "    </tr>\n",
              "    <tr>\n",
              "      <th>4</th>\n",
              "      <td>174000.0</td>\n",
              "      <td>3.0</td>\n",
              "      <td>182.208308</td>\n",
              "      <td>0.0</td>\n",
              "      <td>498.0</td>\n",
              "    </tr>\n",
              "    <tr>\n",
              "      <th>...</th>\n",
              "      <td>...</td>\n",
              "      <td>...</td>\n",
              "      <td>...</td>\n",
              "      <td>...</td>\n",
              "      <td>...</td>\n",
              "    </tr>\n",
              "    <tr>\n",
              "      <th>2967</th>\n",
              "      <td>56460.0</td>\n",
              "      <td>NaN</td>\n",
              "      <td>NaN</td>\n",
              "      <td>NaN</td>\n",
              "      <td>NaN</td>\n",
              "    </tr>\n",
              "    <tr>\n",
              "      <th>2968</th>\n",
              "      <td>1000000.0</td>\n",
              "      <td>NaN</td>\n",
              "      <td>NaN</td>\n",
              "      <td>NaN</td>\n",
              "      <td>NaN</td>\n",
              "    </tr>\n",
              "    <tr>\n",
              "      <th>2969</th>\n",
              "      <td>1000000.0</td>\n",
              "      <td>NaN</td>\n",
              "      <td>NaN</td>\n",
              "      <td>NaN</td>\n",
              "      <td>NaN</td>\n",
              "    </tr>\n",
              "    <tr>\n",
              "      <th>2970</th>\n",
              "      <td>165600.0</td>\n",
              "      <td>NaN</td>\n",
              "      <td>NaN</td>\n",
              "      <td>NaN</td>\n",
              "      <td>NaN</td>\n",
              "    </tr>\n",
              "    <tr>\n",
              "      <th>2971</th>\n",
              "      <td>665000.0</td>\n",
              "      <td>NaN</td>\n",
              "      <td>NaN</td>\n",
              "      <td>NaN</td>\n",
              "      <td>NaN</td>\n",
              "    </tr>\n",
              "  </tbody>\n",
              "</table>\n",
              "<p>2922 rows × 5 columns</p>\n",
              "</div>\n",
              "      <button class=\"colab-df-convert\" onclick=\"convertToInteractive('df-57d91fa8-a367-415e-8541-bebea172fdce')\"\n",
              "              title=\"Convert this dataframe to an interactive table.\"\n",
              "              style=\"display:none;\">\n",
              "        \n",
              "  <svg xmlns=\"http://www.w3.org/2000/svg\" height=\"24px\"viewBox=\"0 0 24 24\"\n",
              "       width=\"24px\">\n",
              "    <path d=\"M0 0h24v24H0V0z\" fill=\"none\"/>\n",
              "    <path d=\"M18.56 5.44l.94 2.06.94-2.06 2.06-.94-2.06-.94-.94-2.06-.94 2.06-2.06.94zm-11 1L8.5 8.5l.94-2.06 2.06-.94-2.06-.94L8.5 2.5l-.94 2.06-2.06.94zm10 10l.94 2.06.94-2.06 2.06-.94-2.06-.94-.94-2.06-.94 2.06-2.06.94z\"/><path d=\"M17.41 7.96l-1.37-1.37c-.4-.4-.92-.59-1.43-.59-.52 0-1.04.2-1.43.59L10.3 9.45l-7.72 7.72c-.78.78-.78 2.05 0 2.83L4 21.41c.39.39.9.59 1.41.59.51 0 1.02-.2 1.41-.59l7.78-7.78 2.81-2.81c.8-.78.8-2.07 0-2.86zM5.41 20L4 18.59l7.72-7.72 1.47 1.35L5.41 20z\"/>\n",
              "  </svg>\n",
              "      </button>\n",
              "      \n",
              "  <style>\n",
              "    .colab-df-container {\n",
              "      display:flex;\n",
              "      flex-wrap:wrap;\n",
              "      gap: 12px;\n",
              "    }\n",
              "\n",
              "    .colab-df-convert {\n",
              "      background-color: #E8F0FE;\n",
              "      border: none;\n",
              "      border-radius: 50%;\n",
              "      cursor: pointer;\n",
              "      display: none;\n",
              "      fill: #1967D2;\n",
              "      height: 32px;\n",
              "      padding: 0 0 0 0;\n",
              "      width: 32px;\n",
              "    }\n",
              "\n",
              "    .colab-df-convert:hover {\n",
              "      background-color: #E2EBFA;\n",
              "      box-shadow: 0px 1px 2px rgba(60, 64, 67, 0.3), 0px 1px 3px 1px rgba(60, 64, 67, 0.15);\n",
              "      fill: #174EA6;\n",
              "    }\n",
              "\n",
              "    [theme=dark] .colab-df-convert {\n",
              "      background-color: #3B4455;\n",
              "      fill: #D2E3FC;\n",
              "    }\n",
              "\n",
              "    [theme=dark] .colab-df-convert:hover {\n",
              "      background-color: #434B5C;\n",
              "      box-shadow: 0px 1px 3px 1px rgba(0, 0, 0, 0.15);\n",
              "      filter: drop-shadow(0px 1px 2px rgba(0, 0, 0, 0.3));\n",
              "      fill: #FFFFFF;\n",
              "    }\n",
              "  </style>\n",
              "\n",
              "      <script>\n",
              "        const buttonEl =\n",
              "          document.querySelector('#df-57d91fa8-a367-415e-8541-bebea172fdce button.colab-df-convert');\n",
              "        buttonEl.style.display =\n",
              "          google.colab.kernel.accessAllowed ? 'block' : 'none';\n",
              "\n",
              "        async function convertToInteractive(key) {\n",
              "          const element = document.querySelector('#df-57d91fa8-a367-415e-8541-bebea172fdce');\n",
              "          const dataTable =\n",
              "            await google.colab.kernel.invokeFunction('convertToInteractive',\n",
              "                                                     [key], {});\n",
              "          if (!dataTable) return;\n",
              "\n",
              "          const docLinkHtml = 'Like what you see? Visit the ' +\n",
              "            '<a target=\"_blank\" href=https://colab.research.google.com/notebooks/data_table.ipynb>data table notebook</a>'\n",
              "            + ' to learn more about interactive tables.';\n",
              "          element.innerHTML = '';\n",
              "          dataTable['output_type'] = 'display_data';\n",
              "          await google.colab.output.renderOutput(dataTable, element);\n",
              "          const docLink = document.createElement('div');\n",
              "          docLink.innerHTML = docLinkHtml;\n",
              "          element.appendChild(docLink);\n",
              "        }\n",
              "      </script>\n",
              "    </div>\n",
              "  </div>\n",
              "  "
            ]
          },
          "metadata": {},
          "execution_count": 335
        }
      ]
    },
    {
      "cell_type": "code",
      "source": [
        "data_all= data_all.dropna()"
      ],
      "metadata": {
        "id": "EZ4xSwJJujiw"
      },
      "execution_count": 341,
      "outputs": []
    },
    {
      "cell_type": "code",
      "source": [
        "data_all.isnull().any()"
      ],
      "metadata": {
        "colab": {
          "base_uri": "https://localhost:8080/"
        },
        "id": "Hy2YmCIZu0N6",
        "outputId": "b004e2cb-9e7a-4c1c-f3f3-9fa257fa3fc2"
      },
      "execution_count": 342,
      "outputs": [
        {
          "output_type": "execute_result",
          "data": {
            "text/plain": [
              "valeur_fonciere              False\n",
              "code_type_local              False\n",
              "surface_reelle_bati          False\n",
              "nombre_pieces_principales    False\n",
              "surface_terrain              False\n",
              "dtype: bool"
            ]
          },
          "metadata": {},
          "execution_count": 342
        }
      ]
    },
    {
      "cell_type": "code",
      "source": [
        "sns.pairplot(data_all)"
      ],
      "metadata": {
        "colab": {
          "base_uri": "https://localhost:8080/",
          "height": 920
        },
        "id": "3ViFE5ejxoe1",
        "outputId": "381b8422-1a1a-4001-95e6-e1704a5a93d0"
      },
      "execution_count": 343,
      "outputs": [
        {
          "output_type": "execute_result",
          "data": {
            "text/plain": [
              "<seaborn.axisgrid.PairGrid at 0x7f82bc7fe790>"
            ]
          },
          "metadata": {},
          "execution_count": 343
        },
        {
          "output_type": "display_data",
          "data": {
            "text/plain": [
              "<Figure size 900x900 with 30 Axes>"
            ],
            "image/png": "[encoded data removed]"
          },
          "metadata": {
            "needs_background": "light"
          }
        }
      ]
    },
    {
      "cell_type": "code",
      "source": [
        "for column in features_:\n",
        "  print(data_all[column].value_counts())\n",
        "  data_all[column].plot.box(figsize=(8,4), vert=False)\n",
        "  plt.show()"
      ],
      "metadata": {
        "colab": {
          "base_uri": "https://localhost:8080/",
          "height": 1000
        },
        "id": "h7NHOBPbzjLW",
        "outputId": "390e9eba-07c6-4557-f1ba-079bc4a10292"
      },
      "execution_count": 355,
      "outputs": [
        {
          "output_type": "stream",
          "name": "stdout",
          "text": [
            "1.000000    1060\n",
            "1.907231     699\n",
            "3.000000     567\n",
            "2.000000     394\n",
            "4.000000     120\n",
            "1.893390      41\n",
            "Name: code_type_local, dtype: int64\n"
          ]
        },
        {
          "output_type": "display_data",
          "data": {
            "text/plain": [
              "<Figure size 576x288 with 1 Axes>"
            ],
            "image/png": "[encoded data removed]"
          },
          "metadata": {
            "needs_background": "light"
          }
        },
        {
          "output_type": "stream",
          "name": "stdout",
          "text": [
            "182.208308     1283\n",
            "80.000000       139\n",
            "63.000000        59\n",
            "78.000000        52\n",
            "60.000000        51\n",
            "               ... \n",
            "8.000000          1\n",
            "699.000000        1\n",
            "10.000000         1\n",
            "12.000000         1\n",
            "1200.000000       1\n",
            "Name: surface_reelle_bati, Length: 207, dtype: int64\n"
          ]
        },
        {
          "output_type": "display_data",
          "data": {
            "text/plain": [
              "<Figure size 576x288 with 1 Axes>"
            ],
            "image/png": "[encoded data removed]"
          },
          "metadata": {
            "needs_background": "light"
          }
        },
        {
          "output_type": "stream",
          "name": "stdout",
          "text": [
            "2.623578     701\n",
            "0.000000     685\n",
            "4.000000     510\n",
            "3.000000     324\n",
            "5.000000     321\n",
            "2.000000     119\n",
            "6.000000      89\n",
            "1.000000      64\n",
            "2.638618      41\n",
            "7.000000      19\n",
            "8.000000       7\n",
            "22.000000      1\n",
            "Name: nombre_pieces_principales, dtype: int64\n"
          ]
        },
        {
          "output_type": "display_data",
          "data": {
            "text/plain": [
              "<Figure size 576x288 with 1 Axes>"
            ],
            "image/png": "[encoded data removed]"
          },
          "metadata": {
            "needs_background": "light"
          }
        },
        {
          "output_type": "stream",
          "name": "stdout",
          "text": [
            "977.183367      428\n",
            "500.000000      105\n",
            "956.313698       41\n",
            "15640.000000     40\n",
            "386.000000       38\n",
            "               ... \n",
            "571.000000        1\n",
            "529.000000        1\n",
            "576.000000        1\n",
            "673.000000        1\n",
            "542.000000        1\n",
            "Name: surface_terrain, Length: 743, dtype: int64\n"
          ]
        },
        {
          "output_type": "display_data",
          "data": {
            "text/plain": [
              "<Figure size 576x288 with 1 Axes>"
            ],
            "image/png": "[encoded data removed]"
          },
          "metadata": {
            "needs_background": "light"
          }
        }
      ]
    },
    {
      "cell_type": "code",
      "source": [
        "from sklearn.model_selection import train_test_split\n",
        "X = data_all[features_]\n",
        "y = data_all[\"valeur_fonciere\"]\n",
        "\n",
        "X_train, X_test, y_train, y_test = train_test_split(X, y, test_size=0.3, random_state=1)\n",
        "print(\"X_train:\",X_train.shape)\n",
        "print(\"X_test:\",X_test.shape)\n",
        "print(\"y_train:\",y_train.shape)\n",
        "print(\"y_test:\",y_test.shape)"
      ],
      "metadata": {
        "colab": {
          "base_uri": "https://localhost:8080/"
        },
        "id": "_C05td3QyBTO",
        "outputId": "849a44f3-bc3a-443d-c599-f4bc8416362c"
      },
      "execution_count": 348,
      "outputs": [
        {
          "output_type": "stream",
          "name": "stdout",
          "text": [
            "X_train: (2016, 4)\n",
            "X_test: (865, 4)\n",
            "y_train: (2016,)\n",
            "y_test: (865,)\n"
          ]
        }
      ]
    },
    {
      "cell_type": "code",
      "source": [
        "from sklearn.linear_model import LinearRegression\n",
        "from sklearn import metrics  \n",
        "\n",
        "lm = LinearRegression()\n",
        "lm.fit(X_train,y_train)\n",
        "\n",
        "cdf = pd.DataFrame(data=lm.coef_, index=X_train.columns, columns=[\"Coefficients\"])\n",
        "cdf"
      ],
      "metadata": {
        "colab": {
          "base_uri": "https://localhost:8080/",
          "height": 175
        },
        "id": "aBQQg7ANykky",
        "outputId": "c1b97bda-6c7e-493a-dfbe-56244da23d5c"
      },
      "execution_count": 350,
      "outputs": [
        {
          "output_type": "execute_result",
          "data": {
            "text/plain": [
              "                            Coefficients\n",
              "code_type_local            206943.790778\n",
              "surface_reelle_bati          -255.557224\n",
              "nombre_pieces_principales   71251.875124\n",
              "surface_terrain                72.888747"
            ],
            "text/html": [
              "\n",
              "  <div id=\"df-e795fef1-e3f4-4f73-ba80-f8e18c2f7df3\">\n",
              "    <div class=\"colab-df-container\">\n",
              "      <div>\n",
              "<style scoped>\n",
              "    .dataframe tbody tr th:only-of-type {\n",
              "        vertical-align: middle;\n",
              "    }\n",
              "\n",
              "    .dataframe tbody tr th {\n",
              "        vertical-align: top;\n",
              "    }\n",
              "\n",
              "    .dataframe thead th {\n",
              "        text-align: right;\n",
              "    }\n",
              "</style>\n",
              "<table border=\"1\" class=\"dataframe\">\n",
              "  <thead>\n",
              "    <tr style=\"text-align: right;\">\n",
              "      <th></th>\n",
              "      <th>Coefficients</th>\n",
              "    </tr>\n",
              "  </thead>\n",
              "  <tbody>\n",
              "    <tr>\n",
              "      <th>code_type_local</th>\n",
              "      <td>206943.790778</td>\n",
              "    </tr>\n",
              "    <tr>\n",
              "      <th>surface_reelle_bati</th>\n",
              "      <td>-255.557224</td>\n",
              "    </tr>\n",
              "    <tr>\n",
              "      <th>nombre_pieces_principales</th>\n",
              "      <td>71251.875124</td>\n",
              "    </tr>\n",
              "    <tr>\n",
              "      <th>surface_terrain</th>\n",
              "      <td>72.888747</td>\n",
              "    </tr>\n",
              "  </tbody>\n",
              "</table>\n",
              "</div>\n",
              "      <button class=\"colab-df-convert\" onclick=\"convertToInteractive('df-e795fef1-e3f4-4f73-ba80-f8e18c2f7df3')\"\n",
              "              title=\"Convert this dataframe to an interactive table.\"\n",
              "              style=\"display:none;\">\n",
              "        \n",
              "  <svg xmlns=\"http://www.w3.org/2000/svg\" height=\"24px\"viewBox=\"0 0 24 24\"\n",
              "       width=\"24px\">\n",
              "    <path d=\"M0 0h24v24H0V0z\" fill=\"none\"/>\n",
              "    <path d=\"M18.56 5.44l.94 2.06.94-2.06 2.06-.94-2.06-.94-.94-2.06-.94 2.06-2.06.94zm-11 1L8.5 8.5l.94-2.06 2.06-.94-2.06-.94L8.5 2.5l-.94 2.06-2.06.94zm10 10l.94 2.06.94-2.06 2.06-.94-2.06-.94-.94-2.06-.94 2.06-2.06.94z\"/><path d=\"M17.41 7.96l-1.37-1.37c-.4-.4-.92-.59-1.43-.59-.52 0-1.04.2-1.43.59L10.3 9.45l-7.72 7.72c-.78.78-.78 2.05 0 2.83L4 21.41c.39.39.9.59 1.41.59.51 0 1.02-.2 1.41-.59l7.78-7.78 2.81-2.81c.8-.78.8-2.07 0-2.86zM5.41 20L4 18.59l7.72-7.72 1.47 1.35L5.41 20z\"/>\n",
              "  </svg>\n",
              "      </button>\n",
              "      \n",
              "  <style>\n",
              "    .colab-df-container {\n",
              "      display:flex;\n",
              "      flex-wrap:wrap;\n",
              "      gap: 12px;\n",
              "    }\n",
              "\n",
              "    .colab-df-convert {\n",
              "      background-color: #E8F0FE;\n",
              "      border: none;\n",
              "      border-radius: 50%;\n",
              "      cursor: pointer;\n",
              "      display: none;\n",
              "      fill: #1967D2;\n",
              "      height: 32px;\n",
              "      padding: 0 0 0 0;\n",
              "      width: 32px;\n",
              "    }\n",
              "\n",
              "    .colab-df-convert:hover {\n",
              "      background-color: #E2EBFA;\n",
              "      box-shadow: 0px 1px 2px rgba(60, 64, 67, 0.3), 0px 1px 3px 1px rgba(60, 64, 67, 0.15);\n",
              "      fill: #174EA6;\n",
              "    }\n",
              "\n",
              "    [theme=dark] .colab-df-convert {\n",
              "      background-color: #3B4455;\n",
              "      fill: #D2E3FC;\n",
              "    }\n",
              "\n",
              "    [theme=dark] .colab-df-convert:hover {\n",
              "      background-color: #434B5C;\n",
              "      box-shadow: 0px 1px 3px 1px rgba(0, 0, 0, 0.15);\n",
              "      filter: drop-shadow(0px 1px 2px rgba(0, 0, 0, 0.3));\n",
              "      fill: #FFFFFF;\n",
              "    }\n",
              "  </style>\n",
              "\n",
              "      <script>\n",
              "        const buttonEl =\n",
              "          document.querySelector('#df-e795fef1-e3f4-4f73-ba80-f8e18c2f7df3 button.colab-df-convert');\n",
              "        buttonEl.style.display =\n",
              "          google.colab.kernel.accessAllowed ? 'block' : 'none';\n",
              "\n",
              "        async function convertToInteractive(key) {\n",
              "          const element = document.querySelector('#df-e795fef1-e3f4-4f73-ba80-f8e18c2f7df3');\n",
              "          const dataTable =\n",
              "            await google.colab.kernel.invokeFunction('convertToInteractive',\n",
              "                                                     [key], {});\n",
              "          if (!dataTable) return;\n",
              "\n",
              "          const docLinkHtml = 'Like what you see? Visit the ' +\n",
              "            '<a target=\"_blank\" href=https://colab.research.google.com/notebooks/data_table.ipynb>data table notebook</a>'\n",
              "            + ' to learn more about interactive tables.';\n",
              "          element.innerHTML = '';\n",
              "          dataTable['output_type'] = 'display_data';\n",
              "          await google.colab.output.renderOutput(dataTable, element);\n",
              "          const docLink = document.createElement('div');\n",
              "          docLink.innerHTML = docLinkHtml;\n",
              "          element.appendChild(docLink);\n",
              "        }\n",
              "      </script>\n",
              "    </div>\n",
              "  </div>\n",
              "  "
            ]
          },
          "metadata": {},
          "execution_count": 350
        }
      ]
    },
    {
      "cell_type": "code",
      "source": [
        "n = X_train.shape[0]\n",
        "k = X_train.shape[1]\n",
        "dfN = n-k\n",
        "\n",
        "train_pred=lm.predict(X_train)\n",
        "train_error = np.square(train_pred - y_train)\n",
        "sum_error=np.sum(train_error)\n",
        "se=[0,0,0,0]\n",
        "for i in range(k):\n",
        "  r = (sum_error/dfN)\n",
        "  r = r/np.sum(np.square(X_train[list(X_train.columns)[i]]-X_train[list(X_train.columns)[i]].mean()))\n",
        "  se[i]=np.sqrt(r)\n",
        "cdf['Standard Error']=se\n",
        "cdf['t-statistic']=cdf['Coefficients']/cdf['Standard Error']\n",
        "cdf"
      ],
      "metadata": {
        "colab": {
          "base_uri": "https://localhost:8080/",
          "height": 175
        },
        "id": "v-dZTdqbytMK",
        "outputId": "31ac83e6-b7a9-41e5-c914-88e46d600fb7"
      },
      "execution_count": 351,
      "outputs": [
        {
          "output_type": "execute_result",
          "data": {
            "text/plain": [
              "                            Coefficients  Standard Error  t-statistic\n",
              "code_type_local            206943.790778    38256.296490     5.409405\n",
              "surface_reelle_bati          -255.557224       58.894390    -4.339246\n",
              "nombre_pieces_principales   71251.875124    17457.416454     4.081467\n",
              "surface_terrain                72.888747       11.372811     6.409035"
            ],
            "text/html": [
              "\n",
              "  <div id=\"df-dc5a6917-c7ff-4999-aa25-9a02bcacb1b4\">\n",
              "    <div class=\"colab-df-container\">\n",
              "      <div>\n",
              "<style scoped>\n",
              "    .dataframe tbody tr th:only-of-type {\n",
              "        vertical-align: middle;\n",
              "    }\n",
              "\n",
              "    .dataframe tbody tr th {\n",
              "        vertical-align: top;\n",
              "    }\n",
              "\n",
              "    .dataframe thead th {\n",
              "        text-align: right;\n",
              "    }\n",
              "</style>\n",
              "<table border=\"1\" class=\"dataframe\">\n",
              "  <thead>\n",
              "    <tr style=\"text-align: right;\">\n",
              "      <th></th>\n",
              "      <th>Coefficients</th>\n",
              "      <th>Standard Error</th>\n",
              "      <th>t-statistic</th>\n",
              "    </tr>\n",
              "  </thead>\n",
              "  <tbody>\n",
              "    <tr>\n",
              "      <th>code_type_local</th>\n",
              "      <td>206943.790778</td>\n",
              "      <td>38256.296490</td>\n",
              "      <td>5.409405</td>\n",
              "    </tr>\n",
              "    <tr>\n",
              "      <th>surface_reelle_bati</th>\n",
              "      <td>-255.557224</td>\n",
              "      <td>58.894390</td>\n",
              "      <td>-4.339246</td>\n",
              "    </tr>\n",
              "    <tr>\n",
              "      <th>nombre_pieces_principales</th>\n",
              "      <td>71251.875124</td>\n",
              "      <td>17457.416454</td>\n",
              "      <td>4.081467</td>\n",
              "    </tr>\n",
              "    <tr>\n",
              "      <th>surface_terrain</th>\n",
              "      <td>72.888747</td>\n",
              "      <td>11.372811</td>\n",
              "      <td>6.409035</td>\n",
              "    </tr>\n",
              "  </tbody>\n",
              "</table>\n",
              "</div>\n",
              "      <button class=\"colab-df-convert\" onclick=\"convertToInteractive('df-dc5a6917-c7ff-4999-aa25-9a02bcacb1b4')\"\n",
              "              title=\"Convert this dataframe to an interactive table.\"\n",
              "              style=\"display:none;\">\n",
              "        \n",
              "  <svg xmlns=\"http://www.w3.org/2000/svg\" height=\"24px\"viewBox=\"0 0 24 24\"\n",
              "       width=\"24px\">\n",
              "    <path d=\"M0 0h24v24H0V0z\" fill=\"none\"/>\n",
              "    <path d=\"M18.56 5.44l.94 2.06.94-2.06 2.06-.94-2.06-.94-.94-2.06-.94 2.06-2.06.94zm-11 1L8.5 8.5l.94-2.06 2.06-.94-2.06-.94L8.5 2.5l-.94 2.06-2.06.94zm10 10l.94 2.06.94-2.06 2.06-.94-2.06-.94-.94-2.06-.94 2.06-2.06.94z\"/><path d=\"M17.41 7.96l-1.37-1.37c-.4-.4-.92-.59-1.43-.59-.52 0-1.04.2-1.43.59L10.3 9.45l-7.72 7.72c-.78.78-.78 2.05 0 2.83L4 21.41c.39.39.9.59 1.41.59.51 0 1.02-.2 1.41-.59l7.78-7.78 2.81-2.81c.8-.78.8-2.07 0-2.86zM5.41 20L4 18.59l7.72-7.72 1.47 1.35L5.41 20z\"/>\n",
              "  </svg>\n",
              "      </button>\n",
              "      \n",
              "  <style>\n",
              "    .colab-df-container {\n",
              "      display:flex;\n",
              "      flex-wrap:wrap;\n",
              "      gap: 12px;\n",
              "    }\n",
              "\n",
              "    .colab-df-convert {\n",
              "      background-color: #E8F0FE;\n",
              "      border: none;\n",
              "      border-radius: 50%;\n",
              "      cursor: pointer;\n",
              "      display: none;\n",
              "      fill: #1967D2;\n",
              "      height: 32px;\n",
              "      padding: 0 0 0 0;\n",
              "      width: 32px;\n",
              "    }\n",
              "\n",
              "    .colab-df-convert:hover {\n",
              "      background-color: #E2EBFA;\n",
              "      box-shadow: 0px 1px 2px rgba(60, 64, 67, 0.3), 0px 1px 3px 1px rgba(60, 64, 67, 0.15);\n",
              "      fill: #174EA6;\n",
              "    }\n",
              "\n",
              "    [theme=dark] .colab-df-convert {\n",
              "      background-color: #3B4455;\n",
              "      fill: #D2E3FC;\n",
              "    }\n",
              "\n",
              "    [theme=dark] .colab-df-convert:hover {\n",
              "      background-color: #434B5C;\n",
              "      box-shadow: 0px 1px 3px 1px rgba(0, 0, 0, 0.15);\n",
              "      filter: drop-shadow(0px 1px 2px rgba(0, 0, 0, 0.3));\n",
              "      fill: #FFFFFF;\n",
              "    }\n",
              "  </style>\n",
              "\n",
              "      <script>\n",
              "        const buttonEl =\n",
              "          document.querySelector('#df-dc5a6917-c7ff-4999-aa25-9a02bcacb1b4 button.colab-df-convert');\n",
              "        buttonEl.style.display =\n",
              "          google.colab.kernel.accessAllowed ? 'block' : 'none';\n",
              "\n",
              "        async function convertToInteractive(key) {\n",
              "          const element = document.querySelector('#df-dc5a6917-c7ff-4999-aa25-9a02bcacb1b4');\n",
              "          const dataTable =\n",
              "            await google.colab.kernel.invokeFunction('convertToInteractive',\n",
              "                                                     [key], {});\n",
              "          if (!dataTable) return;\n",
              "\n",
              "          const docLinkHtml = 'Like what you see? Visit the ' +\n",
              "            '<a target=\"_blank\" href=https://colab.research.google.com/notebooks/data_table.ipynb>data table notebook</a>'\n",
              "            + ' to learn more about interactive tables.';\n",
              "          element.innerHTML = '';\n",
              "          dataTable['output_type'] = 'display_data';\n",
              "          await google.colab.output.renderOutput(dataTable, element);\n",
              "          const docLink = document.createElement('div');\n",
              "          docLink.innerHTML = docLinkHtml;\n",
              "          element.appendChild(docLink);\n",
              "        }\n",
              "      </script>\n",
              "    </div>\n",
              "  </div>\n",
              "  "
            ]
          },
          "metadata": {},
          "execution_count": 351
        }
      ]
    },
    {
      "cell_type": "code",
      "source": [
        "# l=list(cdf.sort_values('t-statistic',ascending=False).index)\n",
        "# print(' > \\n'.join(l))\n",
        "\n",
        "print(\"\\n Valor del R cuadrado de este ajuste:\",round(metrics.r2_score(y_train,train_pred),3))"
      ],
      "metadata": {
        "colab": {
          "base_uri": "https://localhost:8080/"
        },
        "id": "snQv3oS9zHN0",
        "outputId": "ee7369e6-372d-442c-d60a-2684e6f0c047"
      },
      "execution_count": 352,
      "outputs": [
        {
          "output_type": "stream",
          "name": "stdout",
          "text": [
            "\n",
            " Valor del R cuadrado de este ajuste: 0.018\n"
          ]
        }
      ]
    },
    {
      "cell_type": "code",
      "source": [
        "predictions = lm.predict(X_test)\n",
        "# print(predictions)\n",
        "plt.figure(figsize=(10,7))\n",
        "plt.title(\"prix réels vs. prédits\",fontsize=25)\n",
        "plt.xlabel(\"Prix réels\",fontsize=18)\n",
        "plt.ylabel(\"Prix prédits\", fontsize=18)\n",
        "plt.scatter(x=y_test,y=predictions)\n",
        "plt.plot([y.min(), 0.5*1e6], [y.min(), 0.5*1e6], color='red',lw=3)"
      ],
      "metadata": {
        "colab": {
          "base_uri": "https://localhost:8080/",
          "height": 494
        },
        "id": "qGHdWHOUzVNj",
        "outputId": "705f6c1d-45dc-48b3-f872-851109faeb19"
      },
      "execution_count": 353,
      "outputs": [
        {
          "output_type": "execute_result",
          "data": {
            "text/plain": [
              "[<matplotlib.lines.Line2D at 0x7f82ba1b9af0>]"
            ]
          },
          "metadata": {},
          "execution_count": 353
        },
        {
          "output_type": "display_data",
          "data": {
            "text/plain": [
              "<Figure size 720x504 with 1 Axes>"
            ],
            "image/png": "[encoded data removed]"
          },
          "metadata": {
            "needs_background": "light"
          }
        }
      ]
    },
    {
      "cell_type": "code",
      "source": [
        "from sklearn.preprocessing import PolynomialFeatures\n",
        "import statsmodels.api as sm\n",
        "\n",
        "pf = PolynomialFeatures(degree=2)\n",
        "X_train_p = pf.fit_transform(X_train)\n",
        "X_test_p = pf.fit_transform(X_test)\n",
        "model_pol = sm.OLS(y_train, X_train_p).fit()\n",
        "predictions = model_pol.predict(X_test_p)\n",
        "print(\"Mean square error (MSE):\", metrics.mean_squared_error(y_test,predictions))\n",
        "print(\"Root mean square error (RMSE):\", np.sqrt(metrics.mean_squared_error(y_test,predictions)))\n",
        "print(\"Valor R-squared de las predicciones:\",round(metrics.r2_score(y_test,predictions),3))"
      ],
      "metadata": {
        "colab": {
          "base_uri": "https://localhost:8080/"
        },
        "id": "UpEbHNALx5Rx",
        "outputId": "a53c83b4-b7fb-4253-cfad-66a39eaa1ce2"
      },
      "execution_count": 349,
      "outputs": [
        {
          "output_type": "stream",
          "name": "stdout",
          "text": [
            "Mean square error (MSE): 1969331432333.4514\n",
            "Root mean square error (RMSE): 1403328.697181616\n",
            "Valor R-squared de las predicciones: -0.03\n"
          ]
        }
      ]
    },
    {
      "cell_type": "markdown",
      "source": [
        "# Caso: remplazando valores nuelos por simpleimputer"
      ],
      "metadata": {
        "id": "0vx3M3BFRUXo"
      }
    },
    {
      "cell_type": "code",
      "source": [
        "categoricas = data.select_dtypes(include='object').columns\n",
        "categoricas"
      ],
      "metadata": {
        "colab": {
          "base_uri": "https://localhost:8080/"
        },
        "id": "DksYLgOCsfFw",
        "outputId": "913d27f3-0153-43f4-f90a-e1a3c21fd1c4"
      },
      "execution_count": null,
      "outputs": [
        {
          "output_type": "execute_result",
          "data": {
            "text/plain": [
              "Index(['nature_mutation', 'adresse_nom_voie', 'adresse_code_voie',\n",
              "       'type_local', 'code_nature_culture', 'nature_culture'],\n",
              "      dtype='object')"
            ]
          },
          "metadata": {},
          "execution_count": 6
        }
      ]
    },
    {
      "cell_type": "code",
      "source": [
        "# data_unique = data['adresse_code_voie'].unique()\n",
        "# # data.adresse_code_voie.value_counts()\n",
        "# print(data_unique)"
      ],
      "metadata": {
        "id": "ZBinUY45xsnd"
      },
      "execution_count": null,
      "outputs": []
    },
    {
      "cell_type": "code",
      "source": [
        "from sklearn.preprocessing import OrdinalEncoder\n",
        "data_2 = data.copy()\n",
        "for i in range(len(categoricas)):\n",
        "  data_unique = data[categoricas[i]].unique()\n",
        "  \n",
        "  encoder = OrdinalEncoder(categories=[data_unique])\n",
        "  encoder.fit(data_2[[categoricas[i]]])\n",
        "  data_2[categoricas[i]] = encoder.transform(data_2[[categoricas[i]]])\n",
        "\n",
        "# data_2[[\"adresse_code_voie\", \"adresse_code_voie-encoded\"]].head(50)\n",
        "# print(data_2)"
      ],
      "metadata": {
        "id": "9aBsO3If5RAK"
      },
      "execution_count": null,
      "outputs": []
    },
    {
      "cell_type": "code",
      "source": [
        "data['type_local'].hist()"
      ],
      "metadata": {
        "id": "3MF1f7EWkOOH"
      },
      "execution_count": null,
      "outputs": []
    },
    {
      "cell_type": "code",
      "source": [
        "data_2.hist(bins=20, figsize=(20,15))"
      ],
      "metadata": {
        "id": "mjywN2LOkcvm"
      },
      "execution_count": null,
      "outputs": []
    },
    {
      "cell_type": "code",
      "source": [
        "plt.figure(figsize=(10,7))\n",
        "plt.scatter(longitude, latitude, alpha=0.4)"
      ],
      "metadata": {
        "colab": {
          "base_uri": "https://localhost:8080/",
          "height": 445
        },
        "id": "qEl1ePIZkm8H",
        "outputId": "3a95e32a-77b2-4776-d2bc-2bf6507e256b"
      },
      "execution_count": null,
      "outputs": [
        {
          "output_type": "execute_result",
          "data": {
            "text/plain": [
              "<matplotlib.collections.PathCollection at 0x7f482f0398e0>"
            ]
          },
          "metadata": {},
          "execution_count": 303
        },
        {
          "output_type": "display_data",
          "data": {
            "text/plain": [
              "<Figure size 720x504 with 1 Axes>"
            ],
            "image/png": "[encoded data removed]"
          },
          "metadata": {
            "needs_background": "light"
          }
        }
      ]
    },
    {
      "cell_type": "markdown",
      "source": [
        "## correlacion"
      ],
      "metadata": {
        "id": "yB0MCF3akpLO"
      }
    },
    {
      "cell_type": "code",
      "source": [
        "np.max( data['surface_terrain'])"
      ],
      "metadata": {
        "id": "eKMYq1S7pUlk"
      },
      "execution_count": null,
      "outputs": []
    },
    {
      "cell_type": "code",
      "source": [
        "from pandas.plotting import scatter_matrix\n",
        "\n",
        "atributos = ['numero_disposition', \t'valeur_fonciere', 'adresse_numero', 'nombre_lots', 'code_type_local', 'nombre_pieces_principales', 'surface_terrain']\n",
        "\n",
        "scatter_matrix(data[atributos], figsize=(20,20))"
      ],
      "metadata": {
        "id": "ICbHsMeFktv9"
      },
      "execution_count": null,
      "outputs": []
    },
    {
      "cell_type": "code",
      "source": [
        "# atributos\n",
        "corrMatrix = data_2[atributos].corr().round(2)\n",
        "sns.heatmap(corrMatrix, annot=True, cmap='coolwarm')\n",
        "plt.show"
      ],
      "metadata": {
        "id": "osC9FFJQ-mZA"
      },
      "execution_count": null,
      "outputs": []
    },
    {
      "cell_type": "code",
      "source": [
        "# data = data.replace('None', np.nan)\n",
        "data_2.info()"
      ],
      "metadata": {
        "colab": {
          "base_uri": "https://localhost:8080/"
        },
        "id": "TF0fccNPdd2v",
        "outputId": "f20938da-99a5-45b9-ead4-4d5e79f4c6a3"
      },
      "execution_count": null,
      "outputs": [
        {
          "output_type": "stream",
          "name": "stdout",
          "text": [
            "<class 'pandas.core.frame.DataFrame'>\n",
            "RangeIndex: 2972 entries, 0 to 2971\n",
            "Data columns (total 14 columns):\n",
            " #   Column                     Non-Null Count  Dtype  \n",
            "---  ------                     --------------  -----  \n",
            " 0   numero_disposition         2972 non-null   int64  \n",
            " 1   nature_mutation            2972 non-null   float64\n",
            " 2   valeur_fonciere            2922 non-null   float64\n",
            " 3   adresse_numero             2487 non-null   float64\n",
            " 4   adresse_nom_voie           2957 non-null   float64\n",
            " 5   adresse_code_voie          2957 non-null   float64\n",
            " 6   nombre_lots                2972 non-null   int64  \n",
            " 7   code_type_local            2199 non-null   float64\n",
            " 8   type_local                 2199 non-null   float64\n",
            " 9   surface_reelle_bati        1613 non-null   float64\n",
            " 10  nombre_pieces_principales  2197 non-null   float64\n",
            " 11  code_nature_culture        2515 non-null   float64\n",
            " 12  nature_culture             2515 non-null   float64\n",
            " 13  surface_terrain            2515 non-null   float64\n",
            "dtypes: float64(12), int64(2)\n",
            "memory usage: 325.2 KB\n"
          ]
        }
      ]
    },
    {
      "cell_type": "code",
      "source": [
        "def show_distr(df):\n",
        "  print(\"missing values : \\n{}\".format(df.isna().sum()))\n",
        "  # boxplot = df.boxplot(column=na_variables)  \n",
        "  hist = df[na_variables].hist(bins=20)\n",
        "  print(\"\\n -------------------------\")"
      ],
      "metadata": {
        "id": "_-MHJMKj_t_R"
      },
      "execution_count": null,
      "outputs": []
    },
    {
      "cell_type": "code",
      "source": [
        "na_variables = data_2.columns[data.isnull().any()].tolist()\n",
        "na_variables"
      ],
      "metadata": {
        "colab": {
          "base_uri": "https://localhost:8080/"
        },
        "id": "IdKpMDf4-QtN",
        "outputId": "9352fcfa-a284-4c3d-dfd4-8422639eea45"
      },
      "execution_count": null,
      "outputs": [
        {
          "output_type": "execute_result",
          "data": {
            "text/plain": [
              "['valeur_fonciere',\n",
              " 'adresse_numero',\n",
              " 'adresse_nom_voie',\n",
              " 'adresse_code_voie',\n",
              " 'code_type_local',\n",
              " 'type_local',\n",
              " 'surface_reelle_bati',\n",
              " 'nombre_pieces_principales',\n",
              " 'code_nature_culture',\n",
              " 'nature_culture',\n",
              " 'surface_terrain']"
            ]
          },
          "metadata": {},
          "execution_count": 11
        }
      ]
    },
    {
      "cell_type": "code",
      "source": [
        "show_distr(data_2[na_variables])"
      ],
      "metadata": {
        "colab": {
          "base_uri": "https://localhost:8080/",
          "height": 541
        },
        "id": "GmW4xOQb_gp3",
        "outputId": "a24a6aae-95d4-4f1e-9c8b-3ba4c14f5bfd"
      },
      "execution_count": null,
      "outputs": [
        {
          "output_type": "stream",
          "name": "stdout",
          "text": [
            "missing values : \n",
            "valeur_fonciere                50\n",
            "adresse_numero                485\n",
            "adresse_nom_voie               15\n",
            "adresse_code_voie              15\n",
            "code_type_local               773\n",
            "type_local                    773\n",
            "surface_reelle_bati          1359\n",
            "nombre_pieces_principales     775\n",
            "code_nature_culture           457\n",
            "nature_culture                457\n",
            "surface_terrain               457\n",
            "dtype: int64\n",
            "\n",
            " -------------------------\n"
          ]
        },
        {
          "output_type": "display_data",
          "data": {
            "text/plain": [
              "<Figure size 432x288 with 12 Axes>"
            ],
            "image/png": "[encoded data removed]"
          },
          "metadata": {
            "needs_background": "light"
          }
        }
      ]
    },
    {
      "cell_type": "code",
      "source": [
        "from sklearn.impute import SimpleImputer\n",
        "imputer = SimpleImputer()\n",
        "df_imp = imputer.fit_transform(data_2[na_variables])\n",
        "df_imp = pd.DataFrame(df_imp, columns = na_variables)\n",
        "\n",
        "for j in range(len(na_variables)):\n",
        "  data_2[na_variables[j]] = df_imp[na_variables[j]]\n",
        "\n",
        "# for \n",
        "# data_2['valeur_fonciere'] = df_imp['valeur_fonciere']\n",
        "# data_2['adresse_numero'] = df_imp['adresse_numero']\n",
        "# data_2['surface_reelle_bati'] = df_imp['surface_reelle_bati']\n",
        "# data_2['nombre_pieces_principales'] = df_imp['nombre_pieces_principales']\n",
        "# data_2['surface_terrain'] = df_imp['surface_terrain']\n",
        "\n",
        "# data_2['surface_terrain'] = df_imp['surface_terrain']\n",
        "# data_2['surface_terrain'] = df_imp['surface_terrain']\n",
        "# data_2['surface_terrain'] = df_imp['surface_terrain']\n",
        "# data_2['surface_terrain'] = df_imp['surface_terrain']\n",
        "# data_2['surface_terrain'] = df_imp['surface_terrain']\n",
        "# data_2['surface_terrain'] = df_imp['surface_terrain']"
      ],
      "metadata": {
        "id": "wpV9Kk7iHKN2"
      },
      "execution_count": null,
      "outputs": []
    },
    {
      "cell_type": "code",
      "source": [
        "data_2.info()"
      ],
      "metadata": {
        "colab": {
          "base_uri": "https://localhost:8080/"
        },
        "id": "ONcrBjle56lG",
        "outputId": "c740ad71-ce3d-4e73-cd00-5438c1a4d0c6"
      },
      "execution_count": null,
      "outputs": [
        {
          "output_type": "stream",
          "name": "stdout",
          "text": [
            "<class 'pandas.core.frame.DataFrame'>\n",
            "RangeIndex: 2972 entries, 0 to 2971\n",
            "Data columns (total 14 columns):\n",
            " #   Column                     Non-Null Count  Dtype  \n",
            "---  ------                     --------------  -----  \n",
            " 0   numero_disposition         2972 non-null   int64  \n",
            " 1   nature_mutation            2972 non-null   float64\n",
            " 2   valeur_fonciere            2972 non-null   float64\n",
            " 3   adresse_numero             2972 non-null   float64\n",
            " 4   adresse_nom_voie           2972 non-null   float64\n",
            " 5   adresse_code_voie          2972 non-null   float64\n",
            " 6   nombre_lots                2972 non-null   int64  \n",
            " 7   code_type_local            2972 non-null   float64\n",
            " 8   type_local                 2972 non-null   float64\n",
            " 9   surface_reelle_bati        2972 non-null   float64\n",
            " 10  nombre_pieces_principales  2972 non-null   float64\n",
            " 11  code_nature_culture        2972 non-null   float64\n",
            " 12  nature_culture             2972 non-null   float64\n",
            " 13  surface_terrain            2972 non-null   float64\n",
            "dtypes: float64(12), int64(2)\n",
            "memory usage: 325.2 KB\n"
          ]
        }
      ]
    },
    {
      "cell_type": "code",
      "source": [
        "data_2.isnull().any()"
      ],
      "metadata": {
        "colab": {
          "base_uri": "https://localhost:8080/"
        },
        "id": "bKXP-adUHWnW",
        "outputId": "050e0b90-0d5d-42d0-84cc-1a3452e4d13f"
      },
      "execution_count": null,
      "outputs": [
        {
          "output_type": "execute_result",
          "data": {
            "text/plain": [
              "numero_disposition           False\n",
              "nature_mutation              False\n",
              "valeur_fonciere              False\n",
              "adresse_numero               False\n",
              "adresse_nom_voie             False\n",
              "adresse_code_voie            False\n",
              "nombre_lots                  False\n",
              "code_type_local              False\n",
              "type_local                   False\n",
              "surface_reelle_bati          False\n",
              "nombre_pieces_principales    False\n",
              "code_nature_culture          False\n",
              "nature_culture               False\n",
              "surface_terrain              False\n",
              "dtype: bool"
            ]
          },
          "metadata": {},
          "execution_count": 24
        }
      ]
    },
    {
      "cell_type": "code",
      "source": [
        "data_2.head(20)"
      ],
      "metadata": {
        "colab": {
          "base_uri": "https://localhost:8080/",
          "height": 740
        },
        "id": "Xb19Z4bC8MsE",
        "outputId": "2a22dabd-7a9b-4113-b275-194bac167ab2"
      },
      "execution_count": null,
      "outputs": [
        {
          "output_type": "execute_result",
          "data": {
            "text/plain": [
              "    numero_disposition  nature_mutation  valeur_fonciere  adresse_numero  \\\n",
              "0                    1              0.0         260000.0       26.000000   \n",
              "1                    1              0.0         260000.0       26.000000   \n",
              "2                    1              0.0         160000.0       13.000000   \n",
              "3                    1              0.0         174000.0       21.000000   \n",
              "4                    1              0.0         174000.0       21.000000   \n",
              "5                    1              0.0         200000.0        2.000000   \n",
              "6                    1              0.0         200000.0        2.000000   \n",
              "7                    1              0.0         180000.0       28.000000   \n",
              "8                    1              0.0         188000.0       38.000000   \n",
              "9                    1              0.0          20000.0      986.122236   \n",
              "10                   1              0.0         147000.0       26.000000   \n",
              "11                   1              0.0         136000.0       19.000000   \n",
              "12                   1              0.0         820000.0        1.000000   \n",
              "13                   1              0.0         820000.0        1.000000   \n",
              "14                   1              0.0         125000.0       18.000000   \n",
              "15                   1              0.0         242000.0        6.000000   \n",
              "16                   1              0.0         427600.0        2.000000   \n",
              "17                   1              0.0         427600.0        2.000000   \n",
              "18                   1              0.0         427600.0        2.000000   \n",
              "19                   1              0.0         427600.0        2.000000   \n",
              "\n",
              "    adresse_nom_voie  adresse_code_voie  nombre_lots  code_type_local  \\\n",
              "0                0.0                0.0            0         1.000000   \n",
              "1                0.0                0.0            0         3.000000   \n",
              "2                1.0                1.0            0         1.000000   \n",
              "3                2.0                2.0            0         1.000000   \n",
              "4                2.0                2.0            0         3.000000   \n",
              "5                3.0                3.0            0         2.000000   \n",
              "6                3.0                3.0            0         4.000000   \n",
              "7                0.0                0.0            0         1.000000   \n",
              "8                0.0                0.0            0         1.000000   \n",
              "9                4.0                4.0            0         1.907231   \n",
              "10               1.0                1.0            0         1.000000   \n",
              "11               1.0                1.0            0         1.000000   \n",
              "12               5.0                5.0            0         2.000000   \n",
              "13               5.0                5.0            0         4.000000   \n",
              "14               1.0                1.0            0         1.000000   \n",
              "15               1.0                1.0            0         1.000000   \n",
              "16               6.0                6.0            0         2.000000   \n",
              "17               6.0                6.0            0         2.000000   \n",
              "18               6.0                6.0            0         2.000000   \n",
              "19               6.0                6.0            0         2.000000   \n",
              "\n",
              "    type_local  surface_reelle_bati  nombre_pieces_principales  \\\n",
              "0     0.000000           129.000000                   4.000000   \n",
              "1     1.000000           182.208308                   0.000000   \n",
              "2     0.000000            64.000000                   4.000000   \n",
              "3     0.000000            64.000000                   4.000000   \n",
              "4     1.000000           182.208308                   0.000000   \n",
              "5     2.000000            18.000000                   1.000000   \n",
              "6     3.000000            68.000000                   0.000000   \n",
              "7     0.000000           108.000000                   5.000000   \n",
              "8     0.000000            74.000000                   5.000000   \n",
              "9     0.830832           182.208308                   2.623578   \n",
              "10    0.000000            64.000000                   4.000000   \n",
              "11    0.000000            64.000000                   4.000000   \n",
              "12    2.000000            77.000000                   3.000000   \n",
              "13    3.000000           797.000000                   0.000000   \n",
              "14    0.000000            77.000000                   5.000000   \n",
              "15    0.000000           116.000000                   5.000000   \n",
              "16    2.000000            30.000000                   1.000000   \n",
              "17    2.000000            41.000000                   2.000000   \n",
              "18    2.000000            84.000000                   3.000000   \n",
              "19    2.000000            89.000000                   3.000000   \n",
              "\n",
              "    code_nature_culture  nature_culture  surface_terrain  \n",
              "0                   0.0             0.0            351.0  \n",
              "1                   0.0             0.0            351.0  \n",
              "2                   0.0             0.0            452.0  \n",
              "3                   0.0             0.0            498.0  \n",
              "4                   0.0             0.0            498.0  \n",
              "5                   0.0             0.0            105.0  \n",
              "6                   0.0             0.0            105.0  \n",
              "7                   0.0             0.0            348.0  \n",
              "8                   0.0             0.0            377.0  \n",
              "9                   0.0             0.0           3182.0  \n",
              "10                  0.0             0.0            499.0  \n",
              "11                  0.0             0.0            453.0  \n",
              "12                  0.0             0.0           2847.0  \n",
              "13                  0.0             0.0           2847.0  \n",
              "14                  0.0             0.0            537.0  \n",
              "15                  0.0             0.0            608.0  \n",
              "16                  0.0             0.0            767.0  \n",
              "17                  0.0             0.0            767.0  \n",
              "18                  0.0             0.0            767.0  \n",
              "19                  0.0             0.0            767.0  "
            ],
            "text/html": [
              "\n",
              "  <div id=\"df-ea5e5f4f-9d11-408e-980d-d4d8a55b7b56\">\n",
              "    <div class=\"colab-df-container\">\n",
              "      <div>\n",
              "<style scoped>\n",
              "    .dataframe tbody tr th:only-of-type {\n",
              "        vertical-align: middle;\n",
              "    }\n",
              "\n",
              "    .dataframe tbody tr th {\n",
              "        vertical-align: top;\n",
              "    }\n",
              "\n",
              "    .dataframe thead th {\n",
              "        text-align: right;\n",
              "    }\n",
              "</style>\n",
              "<table border=\"1\" class=\"dataframe\">\n",
              "  <thead>\n",
              "    <tr style=\"text-align: right;\">\n",
              "      <th></th>\n",
              "      <th>numero_disposition</th>\n",
              "      <th>nature_mutation</th>\n",
              "      <th>valeur_fonciere</th>\n",
              "      <th>adresse_numero</th>\n",
              "      <th>adresse_nom_voie</th>\n",
              "      <th>adresse_code_voie</th>\n",
              "      <th>nombre_lots</th>\n",
              "      <th>code_type_local</th>\n",
              "      <th>type_local</th>\n",
              "      <th>surface_reelle_bati</th>\n",
              "      <th>nombre_pieces_principales</th>\n",
              "      <th>code_nature_culture</th>\n",
              "      <th>nature_culture</th>\n",
              "      <th>surface_terrain</th>\n",
              "    </tr>\n",
              "  </thead>\n",
              "  <tbody>\n",
              "    <tr>\n",
              "      <th>0</th>\n",
              "      <td>1</td>\n",
              "      <td>0.0</td>\n",
              "      <td>260000.0</td>\n",
              "      <td>26.000000</td>\n",
              "      <td>0.0</td>\n",
              "      <td>0.0</td>\n",
              "      <td>0</td>\n",
              "      <td>1.000000</td>\n",
              "      <td>0.000000</td>\n",
              "      <td>129.000000</td>\n",
              "      <td>4.000000</td>\n",
              "      <td>0.0</td>\n",
              "      <td>0.0</td>\n",
              "      <td>351.0</td>\n",
              "    </tr>\n",
              "    <tr>\n",
              "      <th>1</th>\n",
              "      <td>1</td>\n",
              "      <td>0.0</td>\n",
              "      <td>260000.0</td>\n",
              "      <td>26.000000</td>\n",
              "      <td>0.0</td>\n",
              "      <td>0.0</td>\n",
              "      <td>0</td>\n",
              "      <td>3.000000</td>\n",
              "      <td>1.000000</td>\n",
              "      <td>182.208308</td>\n",
              "      <td>0.000000</td>\n",
              "      <td>0.0</td>\n",
              "      <td>0.0</td>\n",
              "      <td>351.0</td>\n",
              "    </tr>\n",
              "    <tr>\n",
              "      <th>2</th>\n",
              "      <td>1</td>\n",
              "      <td>0.0</td>\n",
              "      <td>160000.0</td>\n",
              "      <td>13.000000</td>\n",
              "      <td>1.0</td>\n",
              "      <td>1.0</td>\n",
              "      <td>0</td>\n",
              "      <td>1.000000</td>\n",
              "      <td>0.000000</td>\n",
              "      <td>64.000000</td>\n",
              "      <td>4.000000</td>\n",
              "      <td>0.0</td>\n",
              "      <td>0.0</td>\n",
              "      <td>452.0</td>\n",
              "    </tr>\n",
              "    <tr>\n",
              "      <th>3</th>\n",
              "      <td>1</td>\n",
              "      <td>0.0</td>\n",
              "      <td>174000.0</td>\n",
              "      <td>21.000000</td>\n",
              "      <td>2.0</td>\n",
              "      <td>2.0</td>\n",
              "      <td>0</td>\n",
              "      <td>1.000000</td>\n",
              "      <td>0.000000</td>\n",
              "      <td>64.000000</td>\n",
              "      <td>4.000000</td>\n",
              "      <td>0.0</td>\n",
              "      <td>0.0</td>\n",
              "      <td>498.0</td>\n",
              "    </tr>\n",
              "    <tr>\n",
              "      <th>4</th>\n",
              "      <td>1</td>\n",
              "      <td>0.0</td>\n",
              "      <td>174000.0</td>\n",
              "      <td>21.000000</td>\n",
              "      <td>2.0</td>\n",
              "      <td>2.0</td>\n",
              "      <td>0</td>\n",
              "      <td>3.000000</td>\n",
              "      <td>1.000000</td>\n",
              "      <td>182.208308</td>\n",
              "      <td>0.000000</td>\n",
              "      <td>0.0</td>\n",
              "      <td>0.0</td>\n",
              "      <td>498.0</td>\n",
              "    </tr>\n",
              "    <tr>\n",
              "      <th>5</th>\n",
              "      <td>1</td>\n",
              "      <td>0.0</td>\n",
              "      <td>200000.0</td>\n",
              "      <td>2.000000</td>\n",
              "      <td>3.0</td>\n",
              "      <td>3.0</td>\n",
              "      <td>0</td>\n",
              "      <td>2.000000</td>\n",
              "      <td>2.000000</td>\n",
              "      <td>18.000000</td>\n",
              "      <td>1.000000</td>\n",
              "      <td>0.0</td>\n",
              "      <td>0.0</td>\n",
              "      <td>105.0</td>\n",
              "    </tr>\n",
              "    <tr>\n",
              "      <th>6</th>\n",
              "      <td>1</td>\n",
              "      <td>0.0</td>\n",
              "      <td>200000.0</td>\n",
              "      <td>2.000000</td>\n",
              "      <td>3.0</td>\n",
              "      <td>3.0</td>\n",
              "      <td>0</td>\n",
              "      <td>4.000000</td>\n",
              "      <td>3.000000</td>\n",
              "      <td>68.000000</td>\n",
              "      <td>0.000000</td>\n",
              "      <td>0.0</td>\n",
              "      <td>0.0</td>\n",
              "      <td>105.0</td>\n",
              "    </tr>\n",
              "    <tr>\n",
              "      <th>7</th>\n",
              "      <td>1</td>\n",
              "      <td>0.0</td>\n",
              "      <td>180000.0</td>\n",
              "      <td>28.000000</td>\n",
              "      <td>0.0</td>\n",
              "      <td>0.0</td>\n",
              "      <td>0</td>\n",
              "      <td>1.000000</td>\n",
              "      <td>0.000000</td>\n",
              "      <td>108.000000</td>\n",
              "      <td>5.000000</td>\n",
              "      <td>0.0</td>\n",
              "      <td>0.0</td>\n",
              "      <td>348.0</td>\n",
              "    </tr>\n",
              "    <tr>\n",
              "      <th>8</th>\n",
              "      <td>1</td>\n",
              "      <td>0.0</td>\n",
              "      <td>188000.0</td>\n",
              "      <td>38.000000</td>\n",
              "      <td>0.0</td>\n",
              "      <td>0.0</td>\n",
              "      <td>0</td>\n",
              "      <td>1.000000</td>\n",
              "      <td>0.000000</td>\n",
              "      <td>74.000000</td>\n",
              "      <td>5.000000</td>\n",
              "      <td>0.0</td>\n",
              "      <td>0.0</td>\n",
              "      <td>377.0</td>\n",
              "    </tr>\n",
              "    <tr>\n",
              "      <th>9</th>\n",
              "      <td>1</td>\n",
              "      <td>0.0</td>\n",
              "      <td>20000.0</td>\n",
              "      <td>986.122236</td>\n",
              "      <td>4.0</td>\n",
              "      <td>4.0</td>\n",
              "      <td>0</td>\n",
              "      <td>1.907231</td>\n",
              "      <td>0.830832</td>\n",
              "      <td>182.208308</td>\n",
              "      <td>2.623578</td>\n",
              "      <td>0.0</td>\n",
              "      <td>0.0</td>\n",
              "      <td>3182.0</td>\n",
              "    </tr>\n",
              "    <tr>\n",
              "      <th>10</th>\n",
              "      <td>1</td>\n",
              "      <td>0.0</td>\n",
              "      <td>147000.0</td>\n",
              "      <td>26.000000</td>\n",
              "      <td>1.0</td>\n",
              "      <td>1.0</td>\n",
              "      <td>0</td>\n",
              "      <td>1.000000</td>\n",
              "      <td>0.000000</td>\n",
              "      <td>64.000000</td>\n",
              "      <td>4.000000</td>\n",
              "      <td>0.0</td>\n",
              "      <td>0.0</td>\n",
              "      <td>499.0</td>\n",
              "    </tr>\n",
              "    <tr>\n",
              "      <th>11</th>\n",
              "      <td>1</td>\n",
              "      <td>0.0</td>\n",
              "      <td>136000.0</td>\n",
              "      <td>19.000000</td>\n",
              "      <td>1.0</td>\n",
              "      <td>1.0</td>\n",
              "      <td>0</td>\n",
              "      <td>1.000000</td>\n",
              "      <td>0.000000</td>\n",
              "      <td>64.000000</td>\n",
              "      <td>4.000000</td>\n",
              "      <td>0.0</td>\n",
              "      <td>0.0</td>\n",
              "      <td>453.0</td>\n",
              "    </tr>\n",
              "    <tr>\n",
              "      <th>12</th>\n",
              "      <td>1</td>\n",
              "      <td>0.0</td>\n",
              "      <td>820000.0</td>\n",
              "      <td>1.000000</td>\n",
              "      <td>5.0</td>\n",
              "      <td>5.0</td>\n",
              "      <td>0</td>\n",
              "      <td>2.000000</td>\n",
              "      <td>2.000000</td>\n",
              "      <td>77.000000</td>\n",
              "      <td>3.000000</td>\n",
              "      <td>0.0</td>\n",
              "      <td>0.0</td>\n",
              "      <td>2847.0</td>\n",
              "    </tr>\n",
              "    <tr>\n",
              "      <th>13</th>\n",
              "      <td>1</td>\n",
              "      <td>0.0</td>\n",
              "      <td>820000.0</td>\n",
              "      <td>1.000000</td>\n",
              "      <td>5.0</td>\n",
              "      <td>5.0</td>\n",
              "      <td>0</td>\n",
              "      <td>4.000000</td>\n",
              "      <td>3.000000</td>\n",
              "      <td>797.000000</td>\n",
              "      <td>0.000000</td>\n",
              "      <td>0.0</td>\n",
              "      <td>0.0</td>\n",
              "      <td>2847.0</td>\n",
              "    </tr>\n",
              "    <tr>\n",
              "      <th>14</th>\n",
              "      <td>1</td>\n",
              "      <td>0.0</td>\n",
              "      <td>125000.0</td>\n",
              "      <td>18.000000</td>\n",
              "      <td>1.0</td>\n",
              "      <td>1.0</td>\n",
              "      <td>0</td>\n",
              "      <td>1.000000</td>\n",
              "      <td>0.000000</td>\n",
              "      <td>77.000000</td>\n",
              "      <td>5.000000</td>\n",
              "      <td>0.0</td>\n",
              "      <td>0.0</td>\n",
              "      <td>537.0</td>\n",
              "    </tr>\n",
              "    <tr>\n",
              "      <th>15</th>\n",
              "      <td>1</td>\n",
              "      <td>0.0</td>\n",
              "      <td>242000.0</td>\n",
              "      <td>6.000000</td>\n",
              "      <td>1.0</td>\n",
              "      <td>1.0</td>\n",
              "      <td>0</td>\n",
              "      <td>1.000000</td>\n",
              "      <td>0.000000</td>\n",
              "      <td>116.000000</td>\n",
              "      <td>5.000000</td>\n",
              "      <td>0.0</td>\n",
              "      <td>0.0</td>\n",
              "      <td>608.0</td>\n",
              "    </tr>\n",
              "    <tr>\n",
              "      <th>16</th>\n",
              "      <td>1</td>\n",
              "      <td>0.0</td>\n",
              "      <td>427600.0</td>\n",
              "      <td>2.000000</td>\n",
              "      <td>6.0</td>\n",
              "      <td>6.0</td>\n",
              "      <td>0</td>\n",
              "      <td>2.000000</td>\n",
              "      <td>2.000000</td>\n",
              "      <td>30.000000</td>\n",
              "      <td>1.000000</td>\n",
              "      <td>0.0</td>\n",
              "      <td>0.0</td>\n",
              "      <td>767.0</td>\n",
              "    </tr>\n",
              "    <tr>\n",
              "      <th>17</th>\n",
              "      <td>1</td>\n",
              "      <td>0.0</td>\n",
              "      <td>427600.0</td>\n",
              "      <td>2.000000</td>\n",
              "      <td>6.0</td>\n",
              "      <td>6.0</td>\n",
              "      <td>0</td>\n",
              "      <td>2.000000</td>\n",
              "      <td>2.000000</td>\n",
              "      <td>41.000000</td>\n",
              "      <td>2.000000</td>\n",
              "      <td>0.0</td>\n",
              "      <td>0.0</td>\n",
              "      <td>767.0</td>\n",
              "    </tr>\n",
              "    <tr>\n",
              "      <th>18</th>\n",
              "      <td>1</td>\n",
              "      <td>0.0</td>\n",
              "      <td>427600.0</td>\n",
              "      <td>2.000000</td>\n",
              "      <td>6.0</td>\n",
              "      <td>6.0</td>\n",
              "      <td>0</td>\n",
              "      <td>2.000000</td>\n",
              "      <td>2.000000</td>\n",
              "      <td>84.000000</td>\n",
              "      <td>3.000000</td>\n",
              "      <td>0.0</td>\n",
              "      <td>0.0</td>\n",
              "      <td>767.0</td>\n",
              "    </tr>\n",
              "    <tr>\n",
              "      <th>19</th>\n",
              "      <td>1</td>\n",
              "      <td>0.0</td>\n",
              "      <td>427600.0</td>\n",
              "      <td>2.000000</td>\n",
              "      <td>6.0</td>\n",
              "      <td>6.0</td>\n",
              "      <td>0</td>\n",
              "      <td>2.000000</td>\n",
              "      <td>2.000000</td>\n",
              "      <td>89.000000</td>\n",
              "      <td>3.000000</td>\n",
              "      <td>0.0</td>\n",
              "      <td>0.0</td>\n",
              "      <td>767.0</td>\n",
              "    </tr>\n",
              "  </tbody>\n",
              "</table>\n",
              "</div>\n",
              "      <button class=\"colab-df-convert\" onclick=\"convertToInteractive('df-ea5e5f4f-9d11-408e-980d-d4d8a55b7b56')\"\n",
              "              title=\"Convert this dataframe to an interactive table.\"\n",
              "              style=\"display:none;\">\n",
              "        \n",
              "  <svg xmlns=\"http://www.w3.org/2000/svg\" height=\"24px\"viewBox=\"0 0 24 24\"\n",
              "       width=\"24px\">\n",
              "    <path d=\"M0 0h24v24H0V0z\" fill=\"none\"/>\n",
              "    <path d=\"M18.56 5.44l.94 2.06.94-2.06 2.06-.94-2.06-.94-.94-2.06-.94 2.06-2.06.94zm-11 1L8.5 8.5l.94-2.06 2.06-.94-2.06-.94L8.5 2.5l-.94 2.06-2.06.94zm10 10l.94 2.06.94-2.06 2.06-.94-2.06-.94-.94-2.06-.94 2.06-2.06.94z\"/><path d=\"M17.41 7.96l-1.37-1.37c-.4-.4-.92-.59-1.43-.59-.52 0-1.04.2-1.43.59L10.3 9.45l-7.72 7.72c-.78.78-.78 2.05 0 2.83L4 21.41c.39.39.9.59 1.41.59.51 0 1.02-.2 1.41-.59l7.78-7.78 2.81-2.81c.8-.78.8-2.07 0-2.86zM5.41 20L4 18.59l7.72-7.72 1.47 1.35L5.41 20z\"/>\n",
              "  </svg>\n",
              "      </button>\n",
              "      \n",
              "  <style>\n",
              "    .colab-df-container {\n",
              "      display:flex;\n",
              "      flex-wrap:wrap;\n",
              "      gap: 12px;\n",
              "    }\n",
              "\n",
              "    .colab-df-convert {\n",
              "      background-color: #E8F0FE;\n",
              "      border: none;\n",
              "      border-radius: 50%;\n",
              "      cursor: pointer;\n",
              "      display: none;\n",
              "      fill: #1967D2;\n",
              "      height: 32px;\n",
              "      padding: 0 0 0 0;\n",
              "      width: 32px;\n",
              "    }\n",
              "\n",
              "    .colab-df-convert:hover {\n",
              "      background-color: #E2EBFA;\n",
              "      box-shadow: 0px 1px 2px rgba(60, 64, 67, 0.3), 0px 1px 3px 1px rgba(60, 64, 67, 0.15);\n",
              "      fill: #174EA6;\n",
              "    }\n",
              "\n",
              "    [theme=dark] .colab-df-convert {\n",
              "      background-color: #3B4455;\n",
              "      fill: #D2E3FC;\n",
              "    }\n",
              "\n",
              "    [theme=dark] .colab-df-convert:hover {\n",
              "      background-color: #434B5C;\n",
              "      box-shadow: 0px 1px 3px 1px rgba(0, 0, 0, 0.15);\n",
              "      filter: drop-shadow(0px 1px 2px rgba(0, 0, 0, 0.3));\n",
              "      fill: #FFFFFF;\n",
              "    }\n",
              "  </style>\n",
              "\n",
              "      <script>\n",
              "        const buttonEl =\n",
              "          document.querySelector('#df-ea5e5f4f-9d11-408e-980d-d4d8a55b7b56 button.colab-df-convert');\n",
              "        buttonEl.style.display =\n",
              "          google.colab.kernel.accessAllowed ? 'block' : 'none';\n",
              "\n",
              "        async function convertToInteractive(key) {\n",
              "          const element = document.querySelector('#df-ea5e5f4f-9d11-408e-980d-d4d8a55b7b56');\n",
              "          const dataTable =\n",
              "            await google.colab.kernel.invokeFunction('convertToInteractive',\n",
              "                                                     [key], {});\n",
              "          if (!dataTable) return;\n",
              "\n",
              "          const docLinkHtml = 'Like what you see? Visit the ' +\n",
              "            '<a target=\"_blank\" href=https://colab.research.google.com/notebooks/data_table.ipynb>data table notebook</a>'\n",
              "            + ' to learn more about interactive tables.';\n",
              "          element.innerHTML = '';\n",
              "          dataTable['output_type'] = 'display_data';\n",
              "          await google.colab.output.renderOutput(dataTable, element);\n",
              "          const docLink = document.createElement('div');\n",
              "          docLink.innerHTML = docLinkHtml;\n",
              "          element.appendChild(docLink);\n",
              "        }\n",
              "      </script>\n",
              "    </div>\n",
              "  </div>\n",
              "  "
            ]
          },
          "metadata": {},
          "execution_count": 26
        }
      ]
    }
  ]
}