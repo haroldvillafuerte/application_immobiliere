{
  "nbformat": 4,
  "nbformat_minor": 0,
  "metadata": {
    "colab": {
      "provenance": []
    },
    "kernelspec": {
      "name": "python3",
      "display_name": "Python 3"
    },
    "language_info": {
      "name": "python"
    }
  },
  "cells": [
    {
      "cell_type": "markdown",
      "source": [
        "# Chargement des données"
      ],
      "metadata": {
        "id": "Gvf8p5tQJ9u8"
      }
    },
    {
      "cell_type": "code",
      "execution_count": null,
      "metadata": {
        "colab": {
          "base_uri": "https://localhost:8080/",
          "height": 352
        },
        "id": "xzoTTKL3onuX",
        "outputId": "27ded543-6cf4-44ba-949c-59a7e980ecf8"
      },
      "outputs": [
        {
          "output_type": "execute_result",
          "data": {
            "text/plain": [
              "    id_mutation date_mutation  numero_disposition nature_mutation  \\\n",
              "0   2022-360375    21/04/2022                   1           Vente   \n",
              "1   2022-360375    21/04/2022                   1           Vente   \n",
              "2  2021-1180016    10/05/2021                   1           Vente   \n",
              "3  2021-1177880    14/01/2021                   1           Vente   \n",
              "4  2021-1177880    14/01/2021                   1           Vente   \n",
              "\n",
              "   valeur_fonciere  adresse_numero adresse_suffixe      adresse_nom_voie  \\\n",
              "0         260000.0            26.0             NaN           RUE DELILLE   \n",
              "1         260000.0            26.0             NaN           RUE DELILLE   \n",
              "2         160000.0            13.0             NaN  RUE ALFRED DE MUSSET   \n",
              "3         174000.0            21.0             NaN     RUE PAUL VERLAINE   \n",
              "4         174000.0            21.0             NaN     RUE PAUL VERLAINE   \n",
              "\n",
              "  adresse_code_voie code_postal  ...  surface_reelle_bati  \\\n",
              "0               582       76800  ...                129.0   \n",
              "1               582       76800  ...                  NaN   \n",
              "2                40       76800  ...                 64.0   \n",
              "3              1920       76800  ...                 64.0   \n",
              "4              1920       76800  ...                  NaN   \n",
              "\n",
              "  nombre_pieces_principales  code_nature_culture  nature_culture  \\\n",
              "0                       4.0                    S            sols   \n",
              "1                       0.0                    S            sols   \n",
              "2                       4.0                    S            sols   \n",
              "3                       4.0                    S            sols   \n",
              "4                       0.0                    S            sols   \n",
              "\n",
              "   code_nature_culture_speciale nature_culture_speciale  surface_terrain  \\\n",
              "0                           NaN                     NaN            351.0   \n",
              "1                           NaN                     NaN            351.0   \n",
              "2                           NaN                     NaN            452.0   \n",
              "3                           NaN                     NaN            498.0   \n",
              "4                           NaN                     NaN            498.0   \n",
              "\n",
              "  longitude   latitude section_prefixe  \n",
              "0  1.071855  49.401886           000AB  \n",
              "1  1.071855  49.401886           000AB  \n",
              "2  1.070963  49.402764           000AB  \n",
              "3  1.070475  49.403622           000AB  \n",
              "4  1.070475  49.403622           000AB  \n",
              "\n",
              "[5 rows x 41 columns]"
            ],
            "text/html": [
              "\n",
              "  <div id=\"df-8f0cd94b-239a-486b-9604-bfb736e67fb9\">\n",
              "    <div class=\"colab-df-container\">\n",
              "      <div>\n",
              "<style scoped>\n",
              "    .dataframe tbody tr th:only-of-type {\n",
              "        vertical-align: middle;\n",
              "    }\n",
              "\n",
              "    .dataframe tbody tr th {\n",
              "        vertical-align: top;\n",
              "    }\n",
              "\n",
              "    .dataframe thead th {\n",
              "        text-align: right;\n",
              "    }\n",
              "</style>\n",
              "<table border=\"1\" class=\"dataframe\">\n",
              "  <thead>\n",
              "    <tr style=\"text-align: right;\">\n",
              "      <th></th>\n",
              "      <th>id_mutation</th>\n",
              "      <th>date_mutation</th>\n",
              "      <th>numero_disposition</th>\n",
              "      <th>nature_mutation</th>\n",
              "      <th>valeur_fonciere</th>\n",
              "      <th>adresse_numero</th>\n",
              "      <th>adresse_suffixe</th>\n",
              "      <th>adresse_nom_voie</th>\n",
              "      <th>adresse_code_voie</th>\n",
              "      <th>code_postal</th>\n",
              "      <th>...</th>\n",
              "      <th>surface_reelle_bati</th>\n",
              "      <th>nombre_pieces_principales</th>\n",
              "      <th>code_nature_culture</th>\n",
              "      <th>nature_culture</th>\n",
              "      <th>code_nature_culture_speciale</th>\n",
              "      <th>nature_culture_speciale</th>\n",
              "      <th>surface_terrain</th>\n",
              "      <th>longitude</th>\n",
              "      <th>latitude</th>\n",
              "      <th>section_prefixe</th>\n",
              "    </tr>\n",
              "  </thead>\n",
              "  <tbody>\n",
              "    <tr>\n",
              "      <th>0</th>\n",
              "      <td>2022-360375</td>\n",
              "      <td>21/04/2022</td>\n",
              "      <td>1</td>\n",
              "      <td>Vente</td>\n",
              "      <td>260000.0</td>\n",
              "      <td>26.0</td>\n",
              "      <td>NaN</td>\n",
              "      <td>RUE DELILLE</td>\n",
              "      <td>582</td>\n",
              "      <td>76800</td>\n",
              "      <td>...</td>\n",
              "      <td>129.0</td>\n",
              "      <td>4.0</td>\n",
              "      <td>S</td>\n",
              "      <td>sols</td>\n",
              "      <td>NaN</td>\n",
              "      <td>NaN</td>\n",
              "      <td>351.0</td>\n",
              "      <td>1.071855</td>\n",
              "      <td>49.401886</td>\n",
              "      <td>000AB</td>\n",
              "    </tr>\n",
              "    <tr>\n",
              "      <th>1</th>\n",
              "      <td>2022-360375</td>\n",
              "      <td>21/04/2022</td>\n",
              "      <td>1</td>\n",
              "      <td>Vente</td>\n",
              "      <td>260000.0</td>\n",
              "      <td>26.0</td>\n",
              "      <td>NaN</td>\n",
              "      <td>RUE DELILLE</td>\n",
              "      <td>582</td>\n",
              "      <td>76800</td>\n",
              "      <td>...</td>\n",
              "      <td>NaN</td>\n",
              "      <td>0.0</td>\n",
              "      <td>S</td>\n",
              "      <td>sols</td>\n",
              "      <td>NaN</td>\n",
              "      <td>NaN</td>\n",
              "      <td>351.0</td>\n",
              "      <td>1.071855</td>\n",
              "      <td>49.401886</td>\n",
              "      <td>000AB</td>\n",
              "    </tr>\n",
              "    <tr>\n",
              "      <th>2</th>\n",
              "      <td>2021-1180016</td>\n",
              "      <td>10/05/2021</td>\n",
              "      <td>1</td>\n",
              "      <td>Vente</td>\n",
              "      <td>160000.0</td>\n",
              "      <td>13.0</td>\n",
              "      <td>NaN</td>\n",
              "      <td>RUE ALFRED DE MUSSET</td>\n",
              "      <td>40</td>\n",
              "      <td>76800</td>\n",
              "      <td>...</td>\n",
              "      <td>64.0</td>\n",
              "      <td>4.0</td>\n",
              "      <td>S</td>\n",
              "      <td>sols</td>\n",
              "      <td>NaN</td>\n",
              "      <td>NaN</td>\n",
              "      <td>452.0</td>\n",
              "      <td>1.070963</td>\n",
              "      <td>49.402764</td>\n",
              "      <td>000AB</td>\n",
              "    </tr>\n",
              "    <tr>\n",
              "      <th>3</th>\n",
              "      <td>2021-1177880</td>\n",
              "      <td>14/01/2021</td>\n",
              "      <td>1</td>\n",
              "      <td>Vente</td>\n",
              "      <td>174000.0</td>\n",
              "      <td>21.0</td>\n",
              "      <td>NaN</td>\n",
              "      <td>RUE PAUL VERLAINE</td>\n",
              "      <td>1920</td>\n",
              "      <td>76800</td>\n",
              "      <td>...</td>\n",
              "      <td>64.0</td>\n",
              "      <td>4.0</td>\n",
              "      <td>S</td>\n",
              "      <td>sols</td>\n",
              "      <td>NaN</td>\n",
              "      <td>NaN</td>\n",
              "      <td>498.0</td>\n",
              "      <td>1.070475</td>\n",
              "      <td>49.403622</td>\n",
              "      <td>000AB</td>\n",
              "    </tr>\n",
              "    <tr>\n",
              "      <th>4</th>\n",
              "      <td>2021-1177880</td>\n",
              "      <td>14/01/2021</td>\n",
              "      <td>1</td>\n",
              "      <td>Vente</td>\n",
              "      <td>174000.0</td>\n",
              "      <td>21.0</td>\n",
              "      <td>NaN</td>\n",
              "      <td>RUE PAUL VERLAINE</td>\n",
              "      <td>1920</td>\n",
              "      <td>76800</td>\n",
              "      <td>...</td>\n",
              "      <td>NaN</td>\n",
              "      <td>0.0</td>\n",
              "      <td>S</td>\n",
              "      <td>sols</td>\n",
              "      <td>NaN</td>\n",
              "      <td>NaN</td>\n",
              "      <td>498.0</td>\n",
              "      <td>1.070475</td>\n",
              "      <td>49.403622</td>\n",
              "      <td>000AB</td>\n",
              "    </tr>\n",
              "  </tbody>\n",
              "</table>\n",
              "<p>5 rows × 41 columns</p>\n",
              "</div>\n",
              "      <button class=\"colab-df-convert\" onclick=\"convertToInteractive('df-8f0cd94b-239a-486b-9604-bfb736e67fb9')\"\n",
              "              title=\"Convert this dataframe to an interactive table.\"\n",
              "              style=\"display:none;\">\n",
              "        \n",
              "  <svg xmlns=\"http://www.w3.org/2000/svg\" height=\"24px\"viewBox=\"0 0 24 24\"\n",
              "       width=\"24px\">\n",
              "    <path d=\"M0 0h24v24H0V0z\" fill=\"none\"/>\n",
              "    <path d=\"M18.56 5.44l.94 2.06.94-2.06 2.06-.94-2.06-.94-.94-2.06-.94 2.06-2.06.94zm-11 1L8.5 8.5l.94-2.06 2.06-.94-2.06-.94L8.5 2.5l-.94 2.06-2.06.94zm10 10l.94 2.06.94-2.06 2.06-.94-2.06-.94-.94-2.06-.94 2.06-2.06.94z\"/><path d=\"M17.41 7.96l-1.37-1.37c-.4-.4-.92-.59-1.43-.59-.52 0-1.04.2-1.43.59L10.3 9.45l-7.72 7.72c-.78.78-.78 2.05 0 2.83L4 21.41c.39.39.9.59 1.41.59.51 0 1.02-.2 1.41-.59l7.78-7.78 2.81-2.81c.8-.78.8-2.07 0-2.86zM5.41 20L4 18.59l7.72-7.72 1.47 1.35L5.41 20z\"/>\n",
              "  </svg>\n",
              "      </button>\n",
              "      \n",
              "  <style>\n",
              "    .colab-df-container {\n",
              "      display:flex;\n",
              "      flex-wrap:wrap;\n",
              "      gap: 12px;\n",
              "    }\n",
              "\n",
              "    .colab-df-convert {\n",
              "      background-color: #E8F0FE;\n",
              "      border: none;\n",
              "      border-radius: 50%;\n",
              "      cursor: pointer;\n",
              "      display: none;\n",
              "      fill: #1967D2;\n",
              "      height: 32px;\n",
              "      padding: 0 0 0 0;\n",
              "      width: 32px;\n",
              "    }\n",
              "\n",
              "    .colab-df-convert:hover {\n",
              "      background-color: #E2EBFA;\n",
              "      box-shadow: 0px 1px 2px rgba(60, 64, 67, 0.3), 0px 1px 3px 1px rgba(60, 64, 67, 0.15);\n",
              "      fill: #174EA6;\n",
              "    }\n",
              "\n",
              "    [theme=dark] .colab-df-convert {\n",
              "      background-color: #3B4455;\n",
              "      fill: #D2E3FC;\n",
              "    }\n",
              "\n",
              "    [theme=dark] .colab-df-convert:hover {\n",
              "      background-color: #434B5C;\n",
              "      box-shadow: 0px 1px 3px 1px rgba(0, 0, 0, 0.15);\n",
              "      filter: drop-shadow(0px 1px 2px rgba(0, 0, 0, 0.3));\n",
              "      fill: #FFFFFF;\n",
              "    }\n",
              "  </style>\n",
              "\n",
              "      <script>\n",
              "        const buttonEl =\n",
              "          document.querySelector('#df-8f0cd94b-239a-486b-9604-bfb736e67fb9 button.colab-df-convert');\n",
              "        buttonEl.style.display =\n",
              "          google.colab.kernel.accessAllowed ? 'block' : 'none';\n",
              "\n",
              "        async function convertToInteractive(key) {\n",
              "          const element = document.querySelector('#df-8f0cd94b-239a-486b-9604-bfb736e67fb9');\n",
              "          const dataTable =\n",
              "            await google.colab.kernel.invokeFunction('convertToInteractive',\n",
              "                                                     [key], {});\n",
              "          if (!dataTable) return;\n",
              "\n",
              "          const docLinkHtml = 'Like what you see? Visit the ' +\n",
              "            '<a target=\"_blank\" href=https://colab.research.google.com/notebooks/data_table.ipynb>data table notebook</a>'\n",
              "            + ' to learn more about interactive tables.';\n",
              "          element.innerHTML = '';\n",
              "          dataTable['output_type'] = 'display_data';\n",
              "          await google.colab.output.renderOutput(dataTable, element);\n",
              "          const docLink = document.createElement('div');\n",
              "          docLink.innerHTML = docLinkHtml;\n",
              "          element.appendChild(docLink);\n",
              "        }\n",
              "      </script>\n",
              "    </div>\n",
              "  </div>\n",
              "  "
            ]
          },
          "metadata": {},
          "execution_count": 273
        }
      ],
      "source": [
        "import numpy as np\n",
        "import pandas as pd\n",
        "import matplotlib.pyplot as plt\n",
        "import seaborn as sns\n",
        "\n",
        "data = pd.read_csv('/content/drive/MyDrive/Universite/Project SD/donnees/merge.csv', sep=\";\")\n",
        "data = data.replace('None', np.nan)\n",
        "data.head()"
      ]
    },
    {
      "cell_type": "markdown",
      "source": [
        "# Analyse exploratoire des données"
      ],
      "metadata": {
        "id": "TL3HMSW1puDo"
      }
    },
    {
      "cell_type": "markdown",
      "source": [
        "Afficher le nombre de données et de caractéristiques"
      ],
      "metadata": {
        "id": "JmMw3_hPpB6D"
      }
    },
    {
      "cell_type": "code",
      "source": [
        "data.shape"
      ],
      "metadata": {
        "colab": {
          "base_uri": "https://localhost:8080/"
        },
        "id": "BAA-5uGUo7qI",
        "outputId": "6c076bad-6d79-4b5f-aa8f-e8d9663d342e"
      },
      "execution_count": null,
      "outputs": [
        {
          "output_type": "execute_result",
          "data": {
            "text/plain": [
              "(2972, 41)"
            ]
          },
          "metadata": {},
          "execution_count": 274
        }
      ]
    },
    {
      "cell_type": "markdown",
      "source": [
        "Nous analysons la description de chaque caractéristique, dans laquelle nous pouvons obtenir le type de données et le nombre de valeurs nulles."
      ],
      "metadata": {
        "id": "Cks8k3ZfpNX5"
      }
    },
    {
      "cell_type": "code",
      "source": [
        "data.info()"
      ],
      "metadata": {
        "colab": {
          "base_uri": "https://localhost:8080/"
        },
        "id": "A_sN34nwpWEk",
        "outputId": "414afd0c-e2e5-488c-ee85-44125ba0b065"
      },
      "execution_count": null,
      "outputs": [
        {
          "output_type": "stream",
          "name": "stdout",
          "text": [
            "<class 'pandas.core.frame.DataFrame'>\n",
            "RangeIndex: 2972 entries, 0 to 2971\n",
            "Data columns (total 41 columns):\n",
            " #   Column                        Non-Null Count  Dtype  \n",
            "---  ------                        --------------  -----  \n",
            " 0   id_mutation                   2972 non-null   object \n",
            " 1   date_mutation                 2972 non-null   object \n",
            " 2   numero_disposition            2972 non-null   int64  \n",
            " 3   nature_mutation               2972 non-null   object \n",
            " 4   valeur_fonciere               2922 non-null   float64\n",
            " 5   adresse_numero                2487 non-null   float64\n",
            " 6   adresse_suffixe               117 non-null    object \n",
            " 7   adresse_nom_voie              2957 non-null   object \n",
            " 8   adresse_code_voie             2957 non-null   object \n",
            " 9   code_postal                   2957 non-null   object \n",
            " 10  code_commune                  2972 non-null   int64  \n",
            " 11  nom_commune                   2972 non-null   object \n",
            " 12  code_departement              2972 non-null   int64  \n",
            " 13  ancien_code_commune           0 non-null      float64\n",
            " 14  ancien_nom_commune            0 non-null      float64\n",
            " 15  id_parcelle                   2972 non-null   object \n",
            " 16  ancien_id_parcelle            0 non-null      float64\n",
            " 17  numero_volume                 6 non-null      object \n",
            " 18  lot1_numero                   447 non-null    object \n",
            " 19  lot1_surface_carrez           164 non-null    object \n",
            " 20  lot2_numero                   163 non-null    object \n",
            " 21  lot2_surface_carrez           34 non-null     object \n",
            " 22  lot3_numero                   62 non-null     object \n",
            " 23  lot3_surface_carrez           10 non-null     object \n",
            " 24  lot4_numero                   4 non-null      object \n",
            " 25  lot4_surface_carrez           0 non-null      float64\n",
            " 26  lot5_numero                   4 non-null      object \n",
            " 27  lot5_surface_carrez           0 non-null      float64\n",
            " 28  nombre_lots                   2972 non-null   int64  \n",
            " 29  code_type_local               2199 non-null   object \n",
            " 30  type_local                    2199 non-null   object \n",
            " 31  surface_reelle_bati           1613 non-null   float64\n",
            " 32  nombre_pieces_principales     2197 non-null   float64\n",
            " 33  code_nature_culture           2515 non-null   object \n",
            " 34  nature_culture                2515 non-null   object \n",
            " 35  code_nature_culture_speciale  88 non-null     object \n",
            " 36  nature_culture_speciale       88 non-null     object \n",
            " 37  surface_terrain               2515 non-null   float64\n",
            " 38  longitude                     2945 non-null   float64\n",
            " 39  latitude                      2945 non-null   float64\n",
            " 40  section_prefixe               2972 non-null   object \n",
            "dtypes: float64(12), int64(4), object(25)\n",
            "memory usage: 952.1+ KB\n"
          ]
        }
      ]
    },
    {
      "cell_type": "code",
      "source": [
        "data.isnull().sum()"
      ],
      "metadata": {
        "colab": {
          "base_uri": "https://localhost:8080/"
        },
        "id": "3PJoWDMsp1aY",
        "outputId": "9de90ee6-bb6a-4f42-e5ad-679df2f3bb40"
      },
      "execution_count": null,
      "outputs": [
        {
          "output_type": "execute_result",
          "data": {
            "text/plain": [
              "id_mutation                        0\n",
              "date_mutation                      0\n",
              "numero_disposition                 0\n",
              "nature_mutation                    0\n",
              "valeur_fonciere                   50\n",
              "adresse_numero                   485\n",
              "adresse_suffixe                 2855\n",
              "adresse_nom_voie                  15\n",
              "adresse_code_voie                 15\n",
              "code_postal                       15\n",
              "code_commune                       0\n",
              "nom_commune                        0\n",
              "code_departement                   0\n",
              "ancien_code_commune             2972\n",
              "ancien_nom_commune              2972\n",
              "id_parcelle                        0\n",
              "ancien_id_parcelle              2972\n",
              "numero_volume                   2966\n",
              "lot1_numero                     2525\n",
              "lot1_surface_carrez             2808\n",
              "lot2_numero                     2809\n",
              "lot2_surface_carrez             2938\n",
              "lot3_numero                     2910\n",
              "lot3_surface_carrez             2962\n",
              "lot4_numero                     2968\n",
              "lot4_surface_carrez             2972\n",
              "lot5_numero                     2968\n",
              "lot5_surface_carrez             2972\n",
              "nombre_lots                        0\n",
              "code_type_local                  773\n",
              "type_local                       773\n",
              "surface_reelle_bati             1359\n",
              "nombre_pieces_principales        775\n",
              "code_nature_culture              457\n",
              "nature_culture                   457\n",
              "code_nature_culture_speciale    2884\n",
              "nature_culture_speciale         2884\n",
              "surface_terrain                  457\n",
              "longitude                         27\n",
              "latitude                          27\n",
              "section_prefixe                    0\n",
              "dtype: int64"
            ]
          },
          "metadata": {},
          "execution_count": 5
        }
      ]
    },
    {
      "cell_type": "markdown",
      "source": [
        "Nous examinons les données et la quantité contenue dans chaque jour."
      ],
      "metadata": {
        "id": "oqPAgHyNp8Ws"
      }
    },
    {
      "cell_type": "code",
      "source": [
        "print(data['code_type_local'].value_counts())\n",
        "print(data['type_local'].value_counts())"
      ],
      "metadata": {
        "colab": {
          "base_uri": "https://localhost:8080/"
        },
        "id": "YG5nPjRBp8Bt",
        "outputId": "24aafa2d-ccd6-4703-eb5d-eb43e0444ed9"
      },
      "execution_count": null,
      "outputs": [
        {
          "output_type": "stream",
          "name": "stdout",
          "text": [
            "1    1077\n",
            "3     569\n",
            "2     401\n",
            "4     152\n",
            "Name: code_type_local, dtype: int64\n",
            "Maison                                      1077\n",
            "Dépendance                                   569\n",
            "Appartement                                  401\n",
            "Local industriel. commercial ou assimilé     152\n",
            "Name: type_local, dtype: int64\n"
          ]
        }
      ]
    },
    {
      "cell_type": "markdown",
      "source": [
        "# Sélection des caractéristiques"
      ],
      "metadata": {
        "id": "bF5gjqJkqu1j"
      }
    },
    {
      "cell_type": "markdown",
      "source": [
        "A partir de l'analyse précédente des caractéristiques et des données, nous sélectionnons les plus importantes pour la préparation du modèle."
      ],
      "metadata": {
        "id": "ezjU1aa7q2Pi"
      }
    },
    {
      "cell_type": "code",
      "source": [
        "array_delete = ['id_mutation', 'date_mutation', 'adresse_suffixe', 'code_postal', 'code_commune', 'nom_commune', 'code_departement', 'ancien_code_commune', 'ancien_nom_commune', 'id_parcelle', 'ancien_id_parcelle', 'numero_volume', 'lot1_numero', 'lot1_surface_carrez', 'lot2_numero', 'lot2_surface_carrez', 'lot3_numero', 'lot3_surface_carrez', 'lot4_numero', 'lot4_surface_carrez', 'lot5_numero', 'lot5_surface_carrez', 'code_nature_culture_speciale', 'nature_culture_speciale', 'section_prefixe', 'numero_disposition', 'nature_mutation', 'adresse_numero', 'adresse_nom_voie', 'adresse_code_voie', 'nombre_lots', 'type_local', 'code_nature_culture', 'nature_culture', 'longitude','latitude']\n",
        "longitude = data['longitude'].to_numpy()\n",
        "latitude = data['latitude'].to_numpy()\n",
        "data.drop(columns = array_delete, inplace = True)"
      ],
      "metadata": {
        "id": "CYNMJeN5rOni"
      },
      "execution_count": null,
      "outputs": []
    },
    {
      "cell_type": "code",
      "source": [
        "data"
      ],
      "metadata": {
        "colab": {
          "base_uri": "https://localhost:8080/",
          "height": 424
        },
        "id": "-2TDIDWwrTZl",
        "outputId": "d642375d-9bd0-4d35-f64f-3c335da29d6d"
      },
      "execution_count": null,
      "outputs": [
        {
          "output_type": "execute_result",
          "data": {
            "text/plain": [
              "      valeur_fonciere code_type_local  surface_reelle_bati  \\\n",
              "0            260000.0               1                129.0   \n",
              "1            260000.0               3                  NaN   \n",
              "2            160000.0               1                 64.0   \n",
              "3            174000.0               1                 64.0   \n",
              "4            174000.0               3                  NaN   \n",
              "...               ...             ...                  ...   \n",
              "2967          56460.0               4              11002.0   \n",
              "2968        1000000.0               2                 87.0   \n",
              "2969        1000000.0               4               1048.0   \n",
              "2970         165600.0             NaN                  NaN   \n",
              "2971         665000.0               4                600.0   \n",
              "\n",
              "      nombre_pieces_principales  surface_terrain  \n",
              "0                           4.0            351.0  \n",
              "1                           0.0            351.0  \n",
              "2                           4.0            452.0  \n",
              "3                           4.0            498.0  \n",
              "4                           0.0            498.0  \n",
              "...                         ...              ...  \n",
              "2967                        0.0          29103.0  \n",
              "2968                        3.0           3973.0  \n",
              "2969                        0.0           3973.0  \n",
              "2970                        NaN           1465.0  \n",
              "2971                        0.0           2112.0  \n",
              "\n",
              "[2972 rows x 5 columns]"
            ],
            "text/html": [
              "\n",
              "  <div id=\"df-0accce77-00fc-4dfb-8bf2-c54a56e171e4\">\n",
              "    <div class=\"colab-df-container\">\n",
              "      <div>\n",
              "<style scoped>\n",
              "    .dataframe tbody tr th:only-of-type {\n",
              "        vertical-align: middle;\n",
              "    }\n",
              "\n",
              "    .dataframe tbody tr th {\n",
              "        vertical-align: top;\n",
              "    }\n",
              "\n",
              "    .dataframe thead th {\n",
              "        text-align: right;\n",
              "    }\n",
              "</style>\n",
              "<table border=\"1\" class=\"dataframe\">\n",
              "  <thead>\n",
              "    <tr style=\"text-align: right;\">\n",
              "      <th></th>\n",
              "      <th>valeur_fonciere</th>\n",
              "      <th>code_type_local</th>\n",
              "      <th>surface_reelle_bati</th>\n",
              "      <th>nombre_pieces_principales</th>\n",
              "      <th>surface_terrain</th>\n",
              "    </tr>\n",
              "  </thead>\n",
              "  <tbody>\n",
              "    <tr>\n",
              "      <th>0</th>\n",
              "      <td>260000.0</td>\n",
              "      <td>1</td>\n",
              "      <td>129.0</td>\n",
              "      <td>4.0</td>\n",
              "      <td>351.0</td>\n",
              "    </tr>\n",
              "    <tr>\n",
              "      <th>1</th>\n",
              "      <td>260000.0</td>\n",
              "      <td>3</td>\n",
              "      <td>NaN</td>\n",
              "      <td>0.0</td>\n",
              "      <td>351.0</td>\n",
              "    </tr>\n",
              "    <tr>\n",
              "      <th>2</th>\n",
              "      <td>160000.0</td>\n",
              "      <td>1</td>\n",
              "      <td>64.0</td>\n",
              "      <td>4.0</td>\n",
              "      <td>452.0</td>\n",
              "    </tr>\n",
              "    <tr>\n",
              "      <th>3</th>\n",
              "      <td>174000.0</td>\n",
              "      <td>1</td>\n",
              "      <td>64.0</td>\n",
              "      <td>4.0</td>\n",
              "      <td>498.0</td>\n",
              "    </tr>\n",
              "    <tr>\n",
              "      <th>4</th>\n",
              "      <td>174000.0</td>\n",
              "      <td>3</td>\n",
              "      <td>NaN</td>\n",
              "      <td>0.0</td>\n",
              "      <td>498.0</td>\n",
              "    </tr>\n",
              "    <tr>\n",
              "      <th>...</th>\n",
              "      <td>...</td>\n",
              "      <td>...</td>\n",
              "      <td>...</td>\n",
              "      <td>...</td>\n",
              "      <td>...</td>\n",
              "    </tr>\n",
              "    <tr>\n",
              "      <th>2967</th>\n",
              "      <td>56460.0</td>\n",
              "      <td>4</td>\n",
              "      <td>11002.0</td>\n",
              "      <td>0.0</td>\n",
              "      <td>29103.0</td>\n",
              "    </tr>\n",
              "    <tr>\n",
              "      <th>2968</th>\n",
              "      <td>1000000.0</td>\n",
              "      <td>2</td>\n",
              "      <td>87.0</td>\n",
              "      <td>3.0</td>\n",
              "      <td>3973.0</td>\n",
              "    </tr>\n",
              "    <tr>\n",
              "      <th>2969</th>\n",
              "      <td>1000000.0</td>\n",
              "      <td>4</td>\n",
              "      <td>1048.0</td>\n",
              "      <td>0.0</td>\n",
              "      <td>3973.0</td>\n",
              "    </tr>\n",
              "    <tr>\n",
              "      <th>2970</th>\n",
              "      <td>165600.0</td>\n",
              "      <td>NaN</td>\n",
              "      <td>NaN</td>\n",
              "      <td>NaN</td>\n",
              "      <td>1465.0</td>\n",
              "    </tr>\n",
              "    <tr>\n",
              "      <th>2971</th>\n",
              "      <td>665000.0</td>\n",
              "      <td>4</td>\n",
              "      <td>600.0</td>\n",
              "      <td>0.0</td>\n",
              "      <td>2112.0</td>\n",
              "    </tr>\n",
              "  </tbody>\n",
              "</table>\n",
              "<p>2972 rows × 5 columns</p>\n",
              "</div>\n",
              "      <button class=\"colab-df-convert\" onclick=\"convertToInteractive('df-0accce77-00fc-4dfb-8bf2-c54a56e171e4')\"\n",
              "              title=\"Convert this dataframe to an interactive table.\"\n",
              "              style=\"display:none;\">\n",
              "        \n",
              "  <svg xmlns=\"http://www.w3.org/2000/svg\" height=\"24px\"viewBox=\"0 0 24 24\"\n",
              "       width=\"24px\">\n",
              "    <path d=\"M0 0h24v24H0V0z\" fill=\"none\"/>\n",
              "    <path d=\"M18.56 5.44l.94 2.06.94-2.06 2.06-.94-2.06-.94-.94-2.06-.94 2.06-2.06.94zm-11 1L8.5 8.5l.94-2.06 2.06-.94-2.06-.94L8.5 2.5l-.94 2.06-2.06.94zm10 10l.94 2.06.94-2.06 2.06-.94-2.06-.94-.94-2.06-.94 2.06-2.06.94z\"/><path d=\"M17.41 7.96l-1.37-1.37c-.4-.4-.92-.59-1.43-.59-.52 0-1.04.2-1.43.59L10.3 9.45l-7.72 7.72c-.78.78-.78 2.05 0 2.83L4 21.41c.39.39.9.59 1.41.59.51 0 1.02-.2 1.41-.59l7.78-7.78 2.81-2.81c.8-.78.8-2.07 0-2.86zM5.41 20L4 18.59l7.72-7.72 1.47 1.35L5.41 20z\"/>\n",
              "  </svg>\n",
              "      </button>\n",
              "      \n",
              "  <style>\n",
              "    .colab-df-container {\n",
              "      display:flex;\n",
              "      flex-wrap:wrap;\n",
              "      gap: 12px;\n",
              "    }\n",
              "\n",
              "    .colab-df-convert {\n",
              "      background-color: #E8F0FE;\n",
              "      border: none;\n",
              "      border-radius: 50%;\n",
              "      cursor: pointer;\n",
              "      display: none;\n",
              "      fill: #1967D2;\n",
              "      height: 32px;\n",
              "      padding: 0 0 0 0;\n",
              "      width: 32px;\n",
              "    }\n",
              "\n",
              "    .colab-df-convert:hover {\n",
              "      background-color: #E2EBFA;\n",
              "      box-shadow: 0px 1px 2px rgba(60, 64, 67, 0.3), 0px 1px 3px 1px rgba(60, 64, 67, 0.15);\n",
              "      fill: #174EA6;\n",
              "    }\n",
              "\n",
              "    [theme=dark] .colab-df-convert {\n",
              "      background-color: #3B4455;\n",
              "      fill: #D2E3FC;\n",
              "    }\n",
              "\n",
              "    [theme=dark] .colab-df-convert:hover {\n",
              "      background-color: #434B5C;\n",
              "      box-shadow: 0px 1px 3px 1px rgba(0, 0, 0, 0.15);\n",
              "      filter: drop-shadow(0px 1px 2px rgba(0, 0, 0, 0.3));\n",
              "      fill: #FFFFFF;\n",
              "    }\n",
              "  </style>\n",
              "\n",
              "      <script>\n",
              "        const buttonEl =\n",
              "          document.querySelector('#df-0accce77-00fc-4dfb-8bf2-c54a56e171e4 button.colab-df-convert');\n",
              "        buttonEl.style.display =\n",
              "          google.colab.kernel.accessAllowed ? 'block' : 'none';\n",
              "\n",
              "        async function convertToInteractive(key) {\n",
              "          const element = document.querySelector('#df-0accce77-00fc-4dfb-8bf2-c54a56e171e4');\n",
              "          const dataTable =\n",
              "            await google.colab.kernel.invokeFunction('convertToInteractive',\n",
              "                                                     [key], {});\n",
              "          if (!dataTable) return;\n",
              "\n",
              "          const docLinkHtml = 'Like what you see? Visit the ' +\n",
              "            '<a target=\"_blank\" href=https://colab.research.google.com/notebooks/data_table.ipynb>data table notebook</a>'\n",
              "            + ' to learn more about interactive tables.';\n",
              "          element.innerHTML = '';\n",
              "          dataTable['output_type'] = 'display_data';\n",
              "          await google.colab.output.renderOutput(dataTable, element);\n",
              "          const docLink = document.createElement('div');\n",
              "          docLink.innerHTML = docLinkHtml;\n",
              "          element.appendChild(docLink);\n",
              "        }\n",
              "      </script>\n",
              "    </div>\n",
              "  </div>\n",
              "  "
            ]
          },
          "metadata": {},
          "execution_count": 276
        }
      ]
    },
    {
      "cell_type": "markdown",
      "source": [
        "Nous vérifions si les colonnes que nous avons choisies ont des valeurs nulles et si c'est le cas, nous procédons à leur suppression."
      ],
      "metadata": {
        "id": "NeP8shdgrYB3"
      }
    },
    {
      "cell_type": "code",
      "source": [
        "data.isnull().sum()"
      ],
      "metadata": {
        "colab": {
          "base_uri": "https://localhost:8080/"
        },
        "id": "GadHJbtTrjoS",
        "outputId": "433750f3-b538-403c-b3dc-786b1e7345c3"
      },
      "execution_count": null,
      "outputs": [
        {
          "output_type": "execute_result",
          "data": {
            "text/plain": [
              "valeur_fonciere                50\n",
              "code_type_local               773\n",
              "surface_reelle_bati          1359\n",
              "nombre_pieces_principales     775\n",
              "surface_terrain               457\n",
              "dtype: int64"
            ]
          },
          "metadata": {},
          "execution_count": 277
        }
      ]
    },
    {
      "cell_type": "code",
      "source": [
        "data_1 = data.copy()\n",
        "data_1 = data_1.dropna()"
      ],
      "metadata": {
        "id": "_OvuyLeIrsJZ"
      },
      "execution_count": null,
      "outputs": []
    },
    {
      "cell_type": "code",
      "source": [
        "data_1['code_type_local'] = data_1['code_type_local'].astype('float64')\n",
        "data_1"
      ],
      "metadata": {
        "colab": {
          "base_uri": "https://localhost:8080/",
          "height": 424
        },
        "id": "-D6uRO45r2rd",
        "outputId": "c69165df-63bc-4ec4-a31b-4e305906ef5b"
      },
      "execution_count": null,
      "outputs": [
        {
          "output_type": "execute_result",
          "data": {
            "text/plain": [
              "      valeur_fonciere  code_type_local  surface_reelle_bati  \\\n",
              "0            260000.0              1.0                129.0   \n",
              "2            160000.0              1.0                 64.0   \n",
              "3            174000.0              1.0                 64.0   \n",
              "5            200000.0              2.0                 18.0   \n",
              "6            200000.0              4.0                 68.0   \n",
              "...               ...              ...                  ...   \n",
              "2966          56460.0              4.0                919.0   \n",
              "2967          56460.0              4.0              11002.0   \n",
              "2968        1000000.0              2.0                 87.0   \n",
              "2969        1000000.0              4.0               1048.0   \n",
              "2971         665000.0              4.0                600.0   \n",
              "\n",
              "      nombre_pieces_principales  surface_terrain  \n",
              "0                           4.0            351.0  \n",
              "2                           4.0            452.0  \n",
              "3                           4.0            498.0  \n",
              "5                           1.0            105.0  \n",
              "6                           0.0            105.0  \n",
              "...                         ...              ...  \n",
              "2966                        0.0          29103.0  \n",
              "2967                        0.0          29103.0  \n",
              "2968                        3.0           3973.0  \n",
              "2969                        0.0           3973.0  \n",
              "2971                        0.0           2112.0  \n",
              "\n",
              "[1332 rows x 5 columns]"
            ],
            "text/html": [
              "\n",
              "  <div id=\"df-4476e4cd-526a-459b-a1f7-d856fcdbb46d\">\n",
              "    <div class=\"colab-df-container\">\n",
              "      <div>\n",
              "<style scoped>\n",
              "    .dataframe tbody tr th:only-of-type {\n",
              "        vertical-align: middle;\n",
              "    }\n",
              "\n",
              "    .dataframe tbody tr th {\n",
              "        vertical-align: top;\n",
              "    }\n",
              "\n",
              "    .dataframe thead th {\n",
              "        text-align: right;\n",
              "    }\n",
              "</style>\n",
              "<table border=\"1\" class=\"dataframe\">\n",
              "  <thead>\n",
              "    <tr style=\"text-align: right;\">\n",
              "      <th></th>\n",
              "      <th>valeur_fonciere</th>\n",
              "      <th>code_type_local</th>\n",
              "      <th>surface_reelle_bati</th>\n",
              "      <th>nombre_pieces_principales</th>\n",
              "      <th>surface_terrain</th>\n",
              "    </tr>\n",
              "  </thead>\n",
              "  <tbody>\n",
              "    <tr>\n",
              "      <th>0</th>\n",
              "      <td>260000.0</td>\n",
              "      <td>1.0</td>\n",
              "      <td>129.0</td>\n",
              "      <td>4.0</td>\n",
              "      <td>351.0</td>\n",
              "    </tr>\n",
              "    <tr>\n",
              "      <th>2</th>\n",
              "      <td>160000.0</td>\n",
              "      <td>1.0</td>\n",
              "      <td>64.0</td>\n",
              "      <td>4.0</td>\n",
              "      <td>452.0</td>\n",
              "    </tr>\n",
              "    <tr>\n",
              "      <th>3</th>\n",
              "      <td>174000.0</td>\n",
              "      <td>1.0</td>\n",
              "      <td>64.0</td>\n",
              "      <td>4.0</td>\n",
              "      <td>498.0</td>\n",
              "    </tr>\n",
              "    <tr>\n",
              "      <th>5</th>\n",
              "      <td>200000.0</td>\n",
              "      <td>2.0</td>\n",
              "      <td>18.0</td>\n",
              "      <td>1.0</td>\n",
              "      <td>105.0</td>\n",
              "    </tr>\n",
              "    <tr>\n",
              "      <th>6</th>\n",
              "      <td>200000.0</td>\n",
              "      <td>4.0</td>\n",
              "      <td>68.0</td>\n",
              "      <td>0.0</td>\n",
              "      <td>105.0</td>\n",
              "    </tr>\n",
              "    <tr>\n",
              "      <th>...</th>\n",
              "      <td>...</td>\n",
              "      <td>...</td>\n",
              "      <td>...</td>\n",
              "      <td>...</td>\n",
              "      <td>...</td>\n",
              "    </tr>\n",
              "    <tr>\n",
              "      <th>2966</th>\n",
              "      <td>56460.0</td>\n",
              "      <td>4.0</td>\n",
              "      <td>919.0</td>\n",
              "      <td>0.0</td>\n",
              "      <td>29103.0</td>\n",
              "    </tr>\n",
              "    <tr>\n",
              "      <th>2967</th>\n",
              "      <td>56460.0</td>\n",
              "      <td>4.0</td>\n",
              "      <td>11002.0</td>\n",
              "      <td>0.0</td>\n",
              "      <td>29103.0</td>\n",
              "    </tr>\n",
              "    <tr>\n",
              "      <th>2968</th>\n",
              "      <td>1000000.0</td>\n",
              "      <td>2.0</td>\n",
              "      <td>87.0</td>\n",
              "      <td>3.0</td>\n",
              "      <td>3973.0</td>\n",
              "    </tr>\n",
              "    <tr>\n",
              "      <th>2969</th>\n",
              "      <td>1000000.0</td>\n",
              "      <td>4.0</td>\n",
              "      <td>1048.0</td>\n",
              "      <td>0.0</td>\n",
              "      <td>3973.0</td>\n",
              "    </tr>\n",
              "    <tr>\n",
              "      <th>2971</th>\n",
              "      <td>665000.0</td>\n",
              "      <td>4.0</td>\n",
              "      <td>600.0</td>\n",
              "      <td>0.0</td>\n",
              "      <td>2112.0</td>\n",
              "    </tr>\n",
              "  </tbody>\n",
              "</table>\n",
              "<p>1332 rows × 5 columns</p>\n",
              "</div>\n",
              "      <button class=\"colab-df-convert\" onclick=\"convertToInteractive('df-4476e4cd-526a-459b-a1f7-d856fcdbb46d')\"\n",
              "              title=\"Convert this dataframe to an interactive table.\"\n",
              "              style=\"display:none;\">\n",
              "        \n",
              "  <svg xmlns=\"http://www.w3.org/2000/svg\" height=\"24px\"viewBox=\"0 0 24 24\"\n",
              "       width=\"24px\">\n",
              "    <path d=\"M0 0h24v24H0V0z\" fill=\"none\"/>\n",
              "    <path d=\"M18.56 5.44l.94 2.06.94-2.06 2.06-.94-2.06-.94-.94-2.06-.94 2.06-2.06.94zm-11 1L8.5 8.5l.94-2.06 2.06-.94-2.06-.94L8.5 2.5l-.94 2.06-2.06.94zm10 10l.94 2.06.94-2.06 2.06-.94-2.06-.94-.94-2.06-.94 2.06-2.06.94z\"/><path d=\"M17.41 7.96l-1.37-1.37c-.4-.4-.92-.59-1.43-.59-.52 0-1.04.2-1.43.59L10.3 9.45l-7.72 7.72c-.78.78-.78 2.05 0 2.83L4 21.41c.39.39.9.59 1.41.59.51 0 1.02-.2 1.41-.59l7.78-7.78 2.81-2.81c.8-.78.8-2.07 0-2.86zM5.41 20L4 18.59l7.72-7.72 1.47 1.35L5.41 20z\"/>\n",
              "  </svg>\n",
              "      </button>\n",
              "      \n",
              "  <style>\n",
              "    .colab-df-container {\n",
              "      display:flex;\n",
              "      flex-wrap:wrap;\n",
              "      gap: 12px;\n",
              "    }\n",
              "\n",
              "    .colab-df-convert {\n",
              "      background-color: #E8F0FE;\n",
              "      border: none;\n",
              "      border-radius: 50%;\n",
              "      cursor: pointer;\n",
              "      display: none;\n",
              "      fill: #1967D2;\n",
              "      height: 32px;\n",
              "      padding: 0 0 0 0;\n",
              "      width: 32px;\n",
              "    }\n",
              "\n",
              "    .colab-df-convert:hover {\n",
              "      background-color: #E2EBFA;\n",
              "      box-shadow: 0px 1px 2px rgba(60, 64, 67, 0.3), 0px 1px 3px 1px rgba(60, 64, 67, 0.15);\n",
              "      fill: #174EA6;\n",
              "    }\n",
              "\n",
              "    [theme=dark] .colab-df-convert {\n",
              "      background-color: #3B4455;\n",
              "      fill: #D2E3FC;\n",
              "    }\n",
              "\n",
              "    [theme=dark] .colab-df-convert:hover {\n",
              "      background-color: #434B5C;\n",
              "      box-shadow: 0px 1px 3px 1px rgba(0, 0, 0, 0.15);\n",
              "      filter: drop-shadow(0px 1px 2px rgba(0, 0, 0, 0.3));\n",
              "      fill: #FFFFFF;\n",
              "    }\n",
              "  </style>\n",
              "\n",
              "      <script>\n",
              "        const buttonEl =\n",
              "          document.querySelector('#df-4476e4cd-526a-459b-a1f7-d856fcdbb46d button.colab-df-convert');\n",
              "        buttonEl.style.display =\n",
              "          google.colab.kernel.accessAllowed ? 'block' : 'none';\n",
              "\n",
              "        async function convertToInteractive(key) {\n",
              "          const element = document.querySelector('#df-4476e4cd-526a-459b-a1f7-d856fcdbb46d');\n",
              "          const dataTable =\n",
              "            await google.colab.kernel.invokeFunction('convertToInteractive',\n",
              "                                                     [key], {});\n",
              "          if (!dataTable) return;\n",
              "\n",
              "          const docLinkHtml = 'Like what you see? Visit the ' +\n",
              "            '<a target=\"_blank\" href=https://colab.research.google.com/notebooks/data_table.ipynb>data table notebook</a>'\n",
              "            + ' to learn more about interactive tables.';\n",
              "          element.innerHTML = '';\n",
              "          dataTable['output_type'] = 'display_data';\n",
              "          await google.colab.output.renderOutput(dataTable, element);\n",
              "          const docLink = document.createElement('div');\n",
              "          docLink.innerHTML = docLinkHtml;\n",
              "          element.appendChild(docLink);\n",
              "        }\n",
              "      </script>\n",
              "    </div>\n",
              "  </div>\n",
              "  "
            ]
          },
          "metadata": {},
          "execution_count": 279
        }
      ]
    },
    {
      "cell_type": "markdown",
      "source": [
        "Nous vérifions si après le nettoyage il y a des valeurs nulles."
      ],
      "metadata": {
        "id": "-zbu2qXtsg3K"
      }
    },
    {
      "cell_type": "code",
      "source": [
        "data_1.info()"
      ],
      "metadata": {
        "colab": {
          "base_uri": "https://localhost:8080/"
        },
        "id": "VaxCsJ9fsA5Z",
        "outputId": "1cda4080-1a3a-4bef-f7e3-f47709ce9fc4"
      },
      "execution_count": null,
      "outputs": [
        {
          "output_type": "stream",
          "name": "stdout",
          "text": [
            "<class 'pandas.core.frame.DataFrame'>\n",
            "Int64Index: 1332 entries, 0 to 2971\n",
            "Data columns (total 5 columns):\n",
            " #   Column                     Non-Null Count  Dtype  \n",
            "---  ------                     --------------  -----  \n",
            " 0   valeur_fonciere            1332 non-null   float64\n",
            " 1   code_type_local            1332 non-null   float64\n",
            " 2   surface_reelle_bati        1332 non-null   float64\n",
            " 3   nombre_pieces_principales  1332 non-null   float64\n",
            " 4   surface_terrain            1332 non-null   float64\n",
            "dtypes: float64(5)\n",
            "memory usage: 62.4 KB\n"
          ]
        }
      ]
    },
    {
      "cell_type": "markdown",
      "source": [
        "Nous montrons la corrélation des variables par rapport à la variable cible au moyen d'un nuage de points."
      ],
      "metadata": {
        "id": "ixKZ-l3psrvi"
      }
    },
    {
      "cell_type": "code",
      "source": [
        "sns.pairplot(data_1)"
      ],
      "metadata": {
        "colab": {
          "base_uri": "https://localhost:8080/",
          "height": 920
        },
        "id": "3XW68WRKsm0H",
        "outputId": "3f3835df-42a8-4a29-eb70-dd0f584f2779"
      },
      "execution_count": null,
      "outputs": [
        {
          "output_type": "execute_result",
          "data": {
            "text/plain": [
              "<seaborn.axisgrid.PairGrid at 0x7f741e065370>"
            ]
          },
          "metadata": {},
          "execution_count": 22
        },
        {
          "output_type": "display_data",
          "data": {
            "text/plain": [
              "<Figure size 900x900 with 30 Axes>"
            ],
            "image/png": "[encoded data removed]"
          },
          "metadata": {
            "needs_background": "light"
          }
        }
      ]
    },
    {
      "cell_type": "code",
      "source": [
        "plt.figure(figsize=(10,7))\n",
        "sns.heatmap(data_1.corr(),annot=True,linewidths=2)"
      ],
      "metadata": {
        "colab": {
          "base_uri": "https://localhost:8080/",
          "height": 574
        },
        "id": "J1xRaGHjtLkY",
        "outputId": "9e2aa491-61e8-4fe3-fe42-e593186044e1"
      },
      "execution_count": null,
      "outputs": [
        {
          "output_type": "execute_result",
          "data": {
            "text/plain": [
              "<matplotlib.axes._subplots.AxesSubplot at 0x7f74116c7fd0>"
            ]
          },
          "metadata": {},
          "execution_count": 281
        },
        {
          "output_type": "display_data",
          "data": {
            "text/plain": [
              "<Figure size 720x504 with 2 Axes>"
            ],
            "image/png": "[encoded data removed]"
          },
          "metadata": {
            "needs_background": "light"
          }
        }
      ]
    },
    {
      "cell_type": "markdown",
      "source": [
        "Nous pouvons également obtenir l'analyse statistique de chaque variable."
      ],
      "metadata": {
        "id": "mUGq1NiPtUxO"
      }
    },
    {
      "cell_type": "code",
      "source": [
        "features_ = ['code_type_local', 'surface_reelle_bati', 'nombre_pieces_principales', 'surface_terrain']\n",
        "data_1.describe()"
      ],
      "metadata": {
        "colab": {
          "base_uri": "https://localhost:8080/",
          "height": 300
        },
        "id": "ISp_oa1Ita2M",
        "outputId": "d9f6417e-9c71-49d6-8fe3-96149cc3e6d5"
      },
      "execution_count": null,
      "outputs": [
        {
          "output_type": "execute_result",
          "data": {
            "text/plain": [
              "       valeur_fonciere  code_type_local  surface_reelle_bati  \\\n",
              "count     1.332000e+03      1332.000000          1332.000000   \n",
              "mean      2.536535e+05         1.327327           205.201201   \n",
              "std       5.569614e+05         0.785521          1012.042427   \n",
              "min       1.500000e-01         1.000000             8.000000   \n",
              "25%       1.242625e+05         1.000000            64.000000   \n",
              "50%       1.695250e+05         1.000000            80.000000   \n",
              "75%       2.260000e+05         1.000000            99.000000   \n",
              "max       1.372000e+07         4.000000         16673.000000   \n",
              "\n",
              "       nombre_pieces_principales  surface_terrain  \n",
              "count                1332.000000      1332.000000  \n",
              "mean                    3.716216      1214.577327  \n",
              "std                     1.659780      4182.077100  \n",
              "min                     0.000000        14.000000  \n",
              "25%                     3.000000       222.750000  \n",
              "50%                     4.000000       385.000000  \n",
              "75%                     5.000000       549.250000  \n",
              "max                    22.000000     65177.000000  "
            ],
            "text/html": [
              "\n",
              "  <div id=\"df-b1511d8b-c0c9-4fef-8950-23612d742c24\">\n",
              "    <div class=\"colab-df-container\">\n",
              "      <div>\n",
              "<style scoped>\n",
              "    .dataframe tbody tr th:only-of-type {\n",
              "        vertical-align: middle;\n",
              "    }\n",
              "\n",
              "    .dataframe tbody tr th {\n",
              "        vertical-align: top;\n",
              "    }\n",
              "\n",
              "    .dataframe thead th {\n",
              "        text-align: right;\n",
              "    }\n",
              "</style>\n",
              "<table border=\"1\" class=\"dataframe\">\n",
              "  <thead>\n",
              "    <tr style=\"text-align: right;\">\n",
              "      <th></th>\n",
              "      <th>valeur_fonciere</th>\n",
              "      <th>code_type_local</th>\n",
              "      <th>surface_reelle_bati</th>\n",
              "      <th>nombre_pieces_principales</th>\n",
              "      <th>surface_terrain</th>\n",
              "    </tr>\n",
              "  </thead>\n",
              "  <tbody>\n",
              "    <tr>\n",
              "      <th>count</th>\n",
              "      <td>1.332000e+03</td>\n",
              "      <td>1332.000000</td>\n",
              "      <td>1332.000000</td>\n",
              "      <td>1332.000000</td>\n",
              "      <td>1332.000000</td>\n",
              "    </tr>\n",
              "    <tr>\n",
              "      <th>mean</th>\n",
              "      <td>2.536535e+05</td>\n",
              "      <td>1.327327</td>\n",
              "      <td>205.201201</td>\n",
              "      <td>3.716216</td>\n",
              "      <td>1214.577327</td>\n",
              "    </tr>\n",
              "    <tr>\n",
              "      <th>std</th>\n",
              "      <td>5.569614e+05</td>\n",
              "      <td>0.785521</td>\n",
              "      <td>1012.042427</td>\n",
              "      <td>1.659780</td>\n",
              "      <td>4182.077100</td>\n",
              "    </tr>\n",
              "    <tr>\n",
              "      <th>min</th>\n",
              "      <td>1.500000e-01</td>\n",
              "      <td>1.000000</td>\n",
              "      <td>8.000000</td>\n",
              "      <td>0.000000</td>\n",
              "      <td>14.000000</td>\n",
              "    </tr>\n",
              "    <tr>\n",
              "      <th>25%</th>\n",
              "      <td>1.242625e+05</td>\n",
              "      <td>1.000000</td>\n",
              "      <td>64.000000</td>\n",
              "      <td>3.000000</td>\n",
              "      <td>222.750000</td>\n",
              "    </tr>\n",
              "    <tr>\n",
              "      <th>50%</th>\n",
              "      <td>1.695250e+05</td>\n",
              "      <td>1.000000</td>\n",
              "      <td>80.000000</td>\n",
              "      <td>4.000000</td>\n",
              "      <td>385.000000</td>\n",
              "    </tr>\n",
              "    <tr>\n",
              "      <th>75%</th>\n",
              "      <td>2.260000e+05</td>\n",
              "      <td>1.000000</td>\n",
              "      <td>99.000000</td>\n",
              "      <td>5.000000</td>\n",
              "      <td>549.250000</td>\n",
              "    </tr>\n",
              "    <tr>\n",
              "      <th>max</th>\n",
              "      <td>1.372000e+07</td>\n",
              "      <td>4.000000</td>\n",
              "      <td>16673.000000</td>\n",
              "      <td>22.000000</td>\n",
              "      <td>65177.000000</td>\n",
              "    </tr>\n",
              "  </tbody>\n",
              "</table>\n",
              "</div>\n",
              "      <button class=\"colab-df-convert\" onclick=\"convertToInteractive('df-b1511d8b-c0c9-4fef-8950-23612d742c24')\"\n",
              "              title=\"Convert this dataframe to an interactive table.\"\n",
              "              style=\"display:none;\">\n",
              "        \n",
              "  <svg xmlns=\"http://www.w3.org/2000/svg\" height=\"24px\"viewBox=\"0 0 24 24\"\n",
              "       width=\"24px\">\n",
              "    <path d=\"M0 0h24v24H0V0z\" fill=\"none\"/>\n",
              "    <path d=\"M18.56 5.44l.94 2.06.94-2.06 2.06-.94-2.06-.94-.94-2.06-.94 2.06-2.06.94zm-11 1L8.5 8.5l.94-2.06 2.06-.94-2.06-.94L8.5 2.5l-.94 2.06-2.06.94zm10 10l.94 2.06.94-2.06 2.06-.94-2.06-.94-.94-2.06-.94 2.06-2.06.94z\"/><path d=\"M17.41 7.96l-1.37-1.37c-.4-.4-.92-.59-1.43-.59-.52 0-1.04.2-1.43.59L10.3 9.45l-7.72 7.72c-.78.78-.78 2.05 0 2.83L4 21.41c.39.39.9.59 1.41.59.51 0 1.02-.2 1.41-.59l7.78-7.78 2.81-2.81c.8-.78.8-2.07 0-2.86zM5.41 20L4 18.59l7.72-7.72 1.47 1.35L5.41 20z\"/>\n",
              "  </svg>\n",
              "      </button>\n",
              "      \n",
              "  <style>\n",
              "    .colab-df-container {\n",
              "      display:flex;\n",
              "      flex-wrap:wrap;\n",
              "      gap: 12px;\n",
              "    }\n",
              "\n",
              "    .colab-df-convert {\n",
              "      background-color: #E8F0FE;\n",
              "      border: none;\n",
              "      border-radius: 50%;\n",
              "      cursor: pointer;\n",
              "      display: none;\n",
              "      fill: #1967D2;\n",
              "      height: 32px;\n",
              "      padding: 0 0 0 0;\n",
              "      width: 32px;\n",
              "    }\n",
              "\n",
              "    .colab-df-convert:hover {\n",
              "      background-color: #E2EBFA;\n",
              "      box-shadow: 0px 1px 2px rgba(60, 64, 67, 0.3), 0px 1px 3px 1px rgba(60, 64, 67, 0.15);\n",
              "      fill: #174EA6;\n",
              "    }\n",
              "\n",
              "    [theme=dark] .colab-df-convert {\n",
              "      background-color: #3B4455;\n",
              "      fill: #D2E3FC;\n",
              "    }\n",
              "\n",
              "    [theme=dark] .colab-df-convert:hover {\n",
              "      background-color: #434B5C;\n",
              "      box-shadow: 0px 1px 3px 1px rgba(0, 0, 0, 0.15);\n",
              "      filter: drop-shadow(0px 1px 2px rgba(0, 0, 0, 0.3));\n",
              "      fill: #FFFFFF;\n",
              "    }\n",
              "  </style>\n",
              "\n",
              "      <script>\n",
              "        const buttonEl =\n",
              "          document.querySelector('#df-b1511d8b-c0c9-4fef-8950-23612d742c24 button.colab-df-convert');\n",
              "        buttonEl.style.display =\n",
              "          google.colab.kernel.accessAllowed ? 'block' : 'none';\n",
              "\n",
              "        async function convertToInteractive(key) {\n",
              "          const element = document.querySelector('#df-b1511d8b-c0c9-4fef-8950-23612d742c24');\n",
              "          const dataTable =\n",
              "            await google.colab.kernel.invokeFunction('convertToInteractive',\n",
              "                                                     [key], {});\n",
              "          if (!dataTable) return;\n",
              "\n",
              "          const docLinkHtml = 'Like what you see? Visit the ' +\n",
              "            '<a target=\"_blank\" href=https://colab.research.google.com/notebooks/data_table.ipynb>data table notebook</a>'\n",
              "            + ' to learn more about interactive tables.';\n",
              "          element.innerHTML = '';\n",
              "          dataTable['output_type'] = 'display_data';\n",
              "          await google.colab.output.renderOutput(dataTable, element);\n",
              "          const docLink = document.createElement('div');\n",
              "          docLink.innerHTML = docLinkHtml;\n",
              "          element.appendChild(docLink);\n",
              "        }\n",
              "      </script>\n",
              "    </div>\n",
              "  </div>\n",
              "  "
            ]
          },
          "metadata": {},
          "execution_count": 282
        }
      ]
    },
    {
      "cell_type": "markdown",
      "source": [
        "# Analyse des valeurs aberrantes"
      ],
      "metadata": {
        "id": "OazqRBeRuDCW"
      }
    },
    {
      "cell_type": "markdown",
      "source": [
        "Nous pouvons réaliser un box plot, qui nous montre la fourchette dans laquelle se trouvent nos informations pour chaque caractéristique."
      ],
      "metadata": {
        "id": "3N7kc2QQuHKP"
      }
    },
    {
      "cell_type": "code",
      "source": [
        "for column in features_:\n",
        "  print(data_1[column].value_counts())\n",
        "  data_1[column].plot.box(figsize=(8,4), vert=False)\n",
        "  plt.show()"
      ],
      "metadata": {
        "colab": {
          "base_uri": "https://localhost:8080/",
          "height": 1000
        },
        "id": "ApPDnOhytjqi",
        "outputId": "324d8014-bf77-4242-a889-55bf80dcaabc"
      },
      "execution_count": null,
      "outputs": [
        {
          "output_type": "stream",
          "name": "stdout",
          "text": [
            "1.0    1072\n",
            "2.0     172\n",
            "4.0      88\n",
            "Name: code_type_local, dtype: int64\n"
          ]
        },
        {
          "output_type": "display_data",
          "data": {
            "text/plain": [
              "<Figure size 576x288 with 1 Axes>"
            ],
            "image/png": "[encoded data removed]"
          },
          "metadata": {
            "needs_background": "light"
          }
        },
        {
          "output_type": "stream",
          "name": "stdout",
          "text": [
            "80.0      120\n",
            "78.0       49\n",
            "60.0       42\n",
            "70.0       36\n",
            "90.0       35\n",
            "         ... \n",
            "154.0       1\n",
            "319.0       1\n",
            "424.0       1\n",
            "1961.0      1\n",
            "600.0       1\n",
            "Name: surface_reelle_bati, Length: 201, dtype: int64\n"
          ]
        },
        {
          "output_type": "display_data",
          "data": {
            "text/plain": [
              "<Figure size 576x288 with 1 Axes>"
            ],
            "image/png": "[encoded data removed]"
          },
          "metadata": {
            "needs_background": "light"
          }
        },
        {
          "output_type": "stream",
          "name": "stdout",
          "text": [
            "4.0     439\n",
            "5.0     299\n",
            "3.0     252\n",
            "0.0      88\n",
            "2.0      84\n",
            "6.0      83\n",
            "1.0      59\n",
            "7.0      20\n",
            "8.0       7\n",
            "22.0      1\n",
            "Name: nombre_pieces_principales, dtype: int64\n"
          ]
        },
        {
          "output_type": "display_data",
          "data": {
            "text/plain": [
              "<Figure size 576x288 with 1 Axes>"
            ],
            "image/png": "[encoded data removed]"
          },
          "metadata": {
            "needs_background": "light"
          }
        },
        {
          "output_type": "stream",
          "name": "stdout",
          "text": [
            "15640.0    37\n",
            "223.0      25\n",
            "500.0      21\n",
            "245.0      15\n",
            "458.0      15\n",
            "           ..\n",
            "646.0       1\n",
            "427.0       1\n",
            "331.0       1\n",
            "468.0       1\n",
            "2112.0      1\n",
            "Name: surface_terrain, Length: 605, dtype: int64\n"
          ]
        },
        {
          "output_type": "display_data",
          "data": {
            "text/plain": [
              "<Figure size 576x288 with 1 Axes>"
            ],
            "image/png": "[encoded data removed]"
          },
          "metadata": {
            "needs_background": "light"
          }
        }
      ]
    },
    {
      "cell_type": "markdown",
      "source": [
        "Nous pouvons voir qu'il y a des valeurs en dehors de la plage de données qui peuvent affecter la précision de notre modèle."
      ],
      "metadata": {
        "id": "nRQnRpBOujlF"
      }
    },
    {
      "cell_type": "markdown",
      "source": [
        "## Élimination des valeurs aberrantes"
      ],
      "metadata": {
        "id": "xG_AvSL1vAax"
      }
    },
    {
      "cell_type": "code",
      "source": [
        "not_outliers = data_1.copy()\n",
        "\n",
        "for column in features_:\n",
        "  Q1 = not_outliers[column].quantile(0.25)\n",
        "  Q3 = not_outliers[column].quantile(0.75)\n",
        "  IQR = Q3 - Q1\n",
        "\n",
        "  print('-------------',column,'---------------')\n",
        "  print('Q1:', Q1, 'Q2:', Q3, 'IQR',IQR)\n",
        "\n",
        "  upper = Q3+1.5*IQR\n",
        "  lower = Q1-1.5*IQR\n",
        "  \n",
        "  position = (not_outliers[column] < lower) | (not_outliers[column] > upper)\n",
        "  otuliers = not_outliers[position]\n",
        "\n",
        "  position_not_outliers = (not_outliers[column] >= lower) & (not_outliers[column] <= upper)\n",
        "  not_outliers = not_outliers[position_not_outliers]\n",
        "  print(not_outliers[column], len(otuliers))"
      ],
      "metadata": {
        "colab": {
          "base_uri": "https://localhost:8080/"
        },
        "id": "M82qvDCRu46L",
        "outputId": "8bef0412-282f-43de-b455-1cad8b494ee3"
      },
      "execution_count": null,
      "outputs": [
        {
          "output_type": "stream",
          "name": "stdout",
          "text": [
            "------------- code_type_local ---------------\n",
            "Q1: 1.0 Q2: 1.0 IQR 0.0\n",
            "0       1.0\n",
            "2       1.0\n",
            "3       1.0\n",
            "7       1.0\n",
            "8       1.0\n",
            "       ... \n",
            "2946    1.0\n",
            "2948    1.0\n",
            "2949    1.0\n",
            "2950    1.0\n",
            "2951    1.0\n",
            "Name: code_type_local, Length: 1072, dtype: float64 260\n",
            "------------- surface_reelle_bati ---------------\n",
            "Q1: 68.0 Q2: 99.0 IQR 31.0\n",
            "0       129.0\n",
            "2        64.0\n",
            "3        64.0\n",
            "7       108.0\n",
            "8        74.0\n",
            "        ...  \n",
            "2945     97.0\n",
            "2948     74.0\n",
            "2949    102.0\n",
            "2950     64.0\n",
            "2951     80.0\n",
            "Name: surface_reelle_bati, Length: 1020, dtype: float64 52\n",
            "------------- nombre_pieces_principales ---------------\n",
            "Q1: 3.75 Q2: 5.0 IQR 1.25\n",
            "0       4.0\n",
            "2       4.0\n",
            "3       4.0\n",
            "7       5.0\n",
            "8       5.0\n",
            "       ... \n",
            "2945    5.0\n",
            "2948    5.0\n",
            "2949    5.0\n",
            "2950    4.0\n",
            "2951    4.0\n",
            "Name: nombre_pieces_principales, Length: 996, dtype: float64 24\n",
            "------------- surface_terrain ---------------\n",
            "Q1: 200.0 Q2: 490.25 IQR 290.25\n",
            "0       351.0\n",
            "2       452.0\n",
            "3       498.0\n",
            "7       348.0\n",
            "8       377.0\n",
            "        ...  \n",
            "2945    406.0\n",
            "2948    374.0\n",
            "2949    434.0\n",
            "2950    369.0\n",
            "2951    354.0\n",
            "Name: surface_terrain, Length: 963, dtype: float64 33\n"
          ]
        }
      ]
    },
    {
      "cell_type": "markdown",
      "source": [
        "Après le nettoyage des valeurs aberrantes, nous montrons à nouveau la corrélation des variables par rapport à la variable cible au moyen d'un diagramme de dispersion."
      ],
      "metadata": {
        "id": "aaYqW2jt09g1"
      }
    },
    {
      "cell_type": "code",
      "source": [
        "sns.pairplot(not_outliers)"
      ],
      "metadata": {
        "colab": {
          "base_uri": "https://localhost:8080/",
          "height": 920
        },
        "id": "Bxd00qC10D9W",
        "outputId": "7677c0ba-f608-4e12-8b7c-2a3977c077cc"
      },
      "execution_count": null,
      "outputs": [
        {
          "output_type": "execute_result",
          "data": {
            "text/plain": [
              "<seaborn.axisgrid.PairGrid at 0x7f7419b553a0>"
            ]
          },
          "metadata": {},
          "execution_count": 38
        },
        {
          "output_type": "display_data",
          "data": {
            "text/plain": [
              "<Figure size 900x900 with 30 Axes>"
            ],
            "image/png": "[encoded data removed]"
          },
          "metadata": {
            "needs_background": "light"
          }
        }
      ]
    },
    {
      "cell_type": "code",
      "source": [
        "for column in features_:\n",
        "  print(not_outliers[column].value_counts())\n",
        "  not_outliers[column].plot.box(figsize=(8,4), vert=False)\n",
        "  plt.show()"
      ],
      "metadata": {
        "colab": {
          "base_uri": "https://localhost:8080/",
          "height": 1000
        },
        "id": "sX66bmSY1qgW",
        "outputId": "f21536d8-a57d-438e-a692-262ff8691ded"
      },
      "execution_count": null,
      "outputs": [
        {
          "output_type": "stream",
          "name": "stdout",
          "text": [
            "1.0    963\n",
            "Name: code_type_local, dtype: int64\n"
          ]
        },
        {
          "output_type": "display_data",
          "data": {
            "text/plain": [
              "<Figure size 576x288 with 1 Axes>"
            ],
            "image/png": "[encoded data removed]"
          },
          "metadata": {
            "needs_background": "light"
          }
        },
        {
          "output_type": "stream",
          "name": "stdout",
          "text": [
            "80.0     111\n",
            "78.0      39\n",
            "90.0      34\n",
            "70.0      32\n",
            "60.0      24\n",
            "        ... \n",
            "34.0       1\n",
            "37.0       1\n",
            "131.0      1\n",
            "127.0      1\n",
            "41.0       1\n",
            "Name: surface_reelle_bati, Length: 108, dtype: int64\n"
          ]
        },
        {
          "output_type": "display_data",
          "data": {
            "text/plain": [
              "<Figure size 576x288 with 1 Axes>"
            ],
            "image/png": "[encoded data removed]"
          },
          "metadata": {
            "needs_background": "light"
          }
        },
        {
          "output_type": "stream",
          "name": "stdout",
          "text": [
            "4.0    397\n",
            "5.0    276\n",
            "3.0    189\n",
            "6.0     57\n",
            "2.0     44\n",
            "Name: nombre_pieces_principales, dtype: int64\n"
          ]
        },
        {
          "output_type": "display_data",
          "data": {
            "text/plain": [
              "<Figure size 576x288 with 1 Axes>"
            ],
            "image/png": "[encoded data removed]"
          },
          "metadata": {
            "needs_background": "light"
          }
        },
        {
          "output_type": "stream",
          "name": "stdout",
          "text": [
            "95.0     10\n",
            "243.0     9\n",
            "473.0     7\n",
            "245.0     7\n",
            "117.0     6\n",
            "         ..\n",
            "512.0     1\n",
            "192.0     1\n",
            "672.0     1\n",
            "397.0     1\n",
            "613.0     1\n",
            "Name: surface_terrain, Length: 509, dtype: int64\n"
          ]
        },
        {
          "output_type": "display_data",
          "data": {
            "text/plain": [
              "<Figure size 576x288 with 1 Axes>"
            ],
            "image/png": "[encoded data removed]"
          },
          "metadata": {
            "needs_background": "light"
          }
        }
      ]
    },
    {
      "cell_type": "markdown",
      "source": [
        "# Modèle"
      ],
      "metadata": {
        "id": "BbKFqJyQ10QV"
      }
    },
    {
      "cell_type": "markdown",
      "source": [
        "Nous sélectionnons nos données dépendantes et indépendantes dans X, y"
      ],
      "metadata": {
        "id": "0G0K25-D15Ij"
      }
    },
    {
      "cell_type": "code",
      "source": [
        "X = data_1[features_]\n",
        "y = data_1[\"valeur_fonciere\"]"
      ],
      "metadata": {
        "id": "Et95AIzZ13Pv"
      },
      "execution_count": null,
      "outputs": []
    },
    {
      "cell_type": "markdown",
      "source": [
        "Nous avons divisé les données en groupes de formation et de test pour la validation croisée."
      ],
      "metadata": {
        "id": "CATzTeoE2GnO"
      }
    },
    {
      "cell_type": "code",
      "source": [
        "from sklearn.model_selection import train_test_split\n",
        "X_train, X_test, y_train, y_test = train_test_split(X, y, test_size=0.25, random_state=18) #3\n",
        "\n",
        "print(\"X_train:\",X_train.shape)\n",
        "print(\"X_test:\",X_test.shape)\n",
        "print(\"y_train:\",y_train.shape)\n",
        "print(\"y_test:\",y_test.shape)"
      ],
      "metadata": {
        "colab": {
          "base_uri": "https://localhost:8080/"
        },
        "id": "63r6m-re2FtF",
        "outputId": "89a3f5ed-5845-4e98-81b7-910fd0e7a566"
      },
      "execution_count": null,
      "outputs": [
        {
          "output_type": "stream",
          "name": "stdout",
          "text": [
            "X_train: (999, 4)\n",
            "X_test: (333, 4)\n",
            "y_train: (999,)\n",
            "y_test: (333,)\n"
          ]
        }
      ]
    },
    {
      "cell_type": "markdown",
      "source": [
        "## Régression linéaire"
      ],
      "metadata": {
        "id": "B1sCWvWt5EKe"
      }
    },
    {
      "cell_type": "markdown",
      "source": [
        "### Entraînement du modèle"
      ],
      "metadata": {
        "id": "-mBEgxjw2a3c"
      }
    },
    {
      "cell_type": "code",
      "source": [
        "from sklearn.linear_model import LinearRegression\n",
        "from sklearn import metrics  \n",
        "\n",
        "lm = LinearRegression(fit_intercept=False)\n",
        "lm.fit(X_train,y_train)\n",
        "\n",
        "cdf = pd.DataFrame(data=lm.coef_, index=X_train.columns, columns=[\"Coefficients\"])\n",
        "cdf"
      ],
      "metadata": {
        "colab": {
          "base_uri": "https://localhost:8080/",
          "height": 175
        },
        "id": "RZVEgxzN2XIL",
        "outputId": "0b6efa4f-e4b3-4149-9b2e-d848062aaba9"
      },
      "execution_count": null,
      "outputs": [
        {
          "output_type": "execute_result",
          "data": {
            "text/plain": [
              "                           Coefficients\n",
              "code_type_local            70134.638805\n",
              "surface_reelle_bati          378.173982\n",
              "nombre_pieces_principales  14557.485593\n",
              "surface_terrain               27.050549"
            ],
            "text/html": [
              "\n",
              "  <div id=\"df-48d86c3d-7b58-4d43-9f14-7b4b8c369c37\">\n",
              "    <div class=\"colab-df-container\">\n",
              "      <div>\n",
              "<style scoped>\n",
              "    .dataframe tbody tr th:only-of-type {\n",
              "        vertical-align: middle;\n",
              "    }\n",
              "\n",
              "    .dataframe tbody tr th {\n",
              "        vertical-align: top;\n",
              "    }\n",
              "\n",
              "    .dataframe thead th {\n",
              "        text-align: right;\n",
              "    }\n",
              "</style>\n",
              "<table border=\"1\" class=\"dataframe\">\n",
              "  <thead>\n",
              "    <tr style=\"text-align: right;\">\n",
              "      <th></th>\n",
              "      <th>Coefficients</th>\n",
              "    </tr>\n",
              "  </thead>\n",
              "  <tbody>\n",
              "    <tr>\n",
              "      <th>code_type_local</th>\n",
              "      <td>70134.638805</td>\n",
              "    </tr>\n",
              "    <tr>\n",
              "      <th>surface_reelle_bati</th>\n",
              "      <td>378.173982</td>\n",
              "    </tr>\n",
              "    <tr>\n",
              "      <th>nombre_pieces_principales</th>\n",
              "      <td>14557.485593</td>\n",
              "    </tr>\n",
              "    <tr>\n",
              "      <th>surface_terrain</th>\n",
              "      <td>27.050549</td>\n",
              "    </tr>\n",
              "  </tbody>\n",
              "</table>\n",
              "</div>\n",
              "      <button class=\"colab-df-convert\" onclick=\"convertToInteractive('df-48d86c3d-7b58-4d43-9f14-7b4b8c369c37')\"\n",
              "              title=\"Convert this dataframe to an interactive table.\"\n",
              "              style=\"display:none;\">\n",
              "        \n",
              "  <svg xmlns=\"http://www.w3.org/2000/svg\" height=\"24px\"viewBox=\"0 0 24 24\"\n",
              "       width=\"24px\">\n",
              "    <path d=\"M0 0h24v24H0V0z\" fill=\"none\"/>\n",
              "    <path d=\"M18.56 5.44l.94 2.06.94-2.06 2.06-.94-2.06-.94-.94-2.06-.94 2.06-2.06.94zm-11 1L8.5 8.5l.94-2.06 2.06-.94-2.06-.94L8.5 2.5l-.94 2.06-2.06.94zm10 10l.94 2.06.94-2.06 2.06-.94-2.06-.94-.94-2.06-.94 2.06-2.06.94z\"/><path d=\"M17.41 7.96l-1.37-1.37c-.4-.4-.92-.59-1.43-.59-.52 0-1.04.2-1.43.59L10.3 9.45l-7.72 7.72c-.78.78-.78 2.05 0 2.83L4 21.41c.39.39.9.59 1.41.59.51 0 1.02-.2 1.41-.59l7.78-7.78 2.81-2.81c.8-.78.8-2.07 0-2.86zM5.41 20L4 18.59l7.72-7.72 1.47 1.35L5.41 20z\"/>\n",
              "  </svg>\n",
              "      </button>\n",
              "      \n",
              "  <style>\n",
              "    .colab-df-container {\n",
              "      display:flex;\n",
              "      flex-wrap:wrap;\n",
              "      gap: 12px;\n",
              "    }\n",
              "\n",
              "    .colab-df-convert {\n",
              "      background-color: #E8F0FE;\n",
              "      border: none;\n",
              "      border-radius: 50%;\n",
              "      cursor: pointer;\n",
              "      display: none;\n",
              "      fill: #1967D2;\n",
              "      height: 32px;\n",
              "      padding: 0 0 0 0;\n",
              "      width: 32px;\n",
              "    }\n",
              "\n",
              "    .colab-df-convert:hover {\n",
              "      background-color: #E2EBFA;\n",
              "      box-shadow: 0px 1px 2px rgba(60, 64, 67, 0.3), 0px 1px 3px 1px rgba(60, 64, 67, 0.15);\n",
              "      fill: #174EA6;\n",
              "    }\n",
              "\n",
              "    [theme=dark] .colab-df-convert {\n",
              "      background-color: #3B4455;\n",
              "      fill: #D2E3FC;\n",
              "    }\n",
              "\n",
              "    [theme=dark] .colab-df-convert:hover {\n",
              "      background-color: #434B5C;\n",
              "      box-shadow: 0px 1px 3px 1px rgba(0, 0, 0, 0.15);\n",
              "      filter: drop-shadow(0px 1px 2px rgba(0, 0, 0, 0.3));\n",
              "      fill: #FFFFFF;\n",
              "    }\n",
              "  </style>\n",
              "\n",
              "      <script>\n",
              "        const buttonEl =\n",
              "          document.querySelector('#df-48d86c3d-7b58-4d43-9f14-7b4b8c369c37 button.colab-df-convert');\n",
              "        buttonEl.style.display =\n",
              "          google.colab.kernel.accessAllowed ? 'block' : 'none';\n",
              "\n",
              "        async function convertToInteractive(key) {\n",
              "          const element = document.querySelector('#df-48d86c3d-7b58-4d43-9f14-7b4b8c369c37');\n",
              "          const dataTable =\n",
              "            await google.colab.kernel.invokeFunction('convertToInteractive',\n",
              "                                                     [key], {});\n",
              "          if (!dataTable) return;\n",
              "\n",
              "          const docLinkHtml = 'Like what you see? Visit the ' +\n",
              "            '<a target=\"_blank\" href=https://colab.research.google.com/notebooks/data_table.ipynb>data table notebook</a>'\n",
              "            + ' to learn more about interactive tables.';\n",
              "          element.innerHTML = '';\n",
              "          dataTable['output_type'] = 'display_data';\n",
              "          await google.colab.output.renderOutput(dataTable, element);\n",
              "          const docLink = document.createElement('div');\n",
              "          docLink.innerHTML = docLinkHtml;\n",
              "          element.appendChild(docLink);\n",
              "        }\n",
              "      </script>\n",
              "    </div>\n",
              "  </div>\n",
              "  "
            ]
          },
          "metadata": {},
          "execution_count": 296
        }
      ]
    },
    {
      "cell_type": "code",
      "source": [
        "n = X_train.shape[0]\n",
        "k = X_train.shape[1]\n",
        "dfN = n-k\n",
        "\n",
        "train_pred=lm.predict(X_train)\n",
        "train_error = np.square(train_pred - y_train)\n",
        "sum_error=np.sum(train_error)\n",
        "se=[0,0,0,0]\n",
        "for i in range(k):\n",
        "  r = (sum_error/dfN)\n",
        "  r = r/np.sum(np.square(X_train[list(X_train.columns)[i]]-X_train[list(X_train.columns)[i]].mean()))\n",
        "  se[i]=np.sqrt(r)\n",
        "cdf['Standard Error']=se\n",
        "cdf['t-statistic']=cdf['Coefficients']/cdf['Standard Error']\n",
        "cdf"
      ],
      "metadata": {
        "colab": {
          "base_uri": "https://localhost:8080/",
          "height": 175
        },
        "id": "bguAjcU53RLl",
        "outputId": "df522a7f-1c96-4528-ebdc-9b920427d7b3"
      },
      "execution_count": null,
      "outputs": [
        {
          "output_type": "execute_result",
          "data": {
            "text/plain": [
              "                           Coefficients  Standard Error  t-statistic\n",
              "code_type_local            70134.638805    15685.620306     4.471270\n",
              "surface_reelle_bati          378.173982       12.357663    30.602385\n",
              "nombre_pieces_principales  14557.485593     7694.147904     1.892021\n",
              "surface_terrain               27.050549        2.890830     9.357363"
            ],
            "text/html": [
              "\n",
              "  <div id=\"df-a997b7c1-02c5-4a89-90c0-fee2567fade0\">\n",
              "    <div class=\"colab-df-container\">\n",
              "      <div>\n",
              "<style scoped>\n",
              "    .dataframe tbody tr th:only-of-type {\n",
              "        vertical-align: middle;\n",
              "    }\n",
              "\n",
              "    .dataframe tbody tr th {\n",
              "        vertical-align: top;\n",
              "    }\n",
              "\n",
              "    .dataframe thead th {\n",
              "        text-align: right;\n",
              "    }\n",
              "</style>\n",
              "<table border=\"1\" class=\"dataframe\">\n",
              "  <thead>\n",
              "    <tr style=\"text-align: right;\">\n",
              "      <th></th>\n",
              "      <th>Coefficients</th>\n",
              "      <th>Standard Error</th>\n",
              "      <th>t-statistic</th>\n",
              "    </tr>\n",
              "  </thead>\n",
              "  <tbody>\n",
              "    <tr>\n",
              "      <th>code_type_local</th>\n",
              "      <td>70134.638805</td>\n",
              "      <td>15685.620306</td>\n",
              "      <td>4.471270</td>\n",
              "    </tr>\n",
              "    <tr>\n",
              "      <th>surface_reelle_bati</th>\n",
              "      <td>378.173982</td>\n",
              "      <td>12.357663</td>\n",
              "      <td>30.602385</td>\n",
              "    </tr>\n",
              "    <tr>\n",
              "      <th>nombre_pieces_principales</th>\n",
              "      <td>14557.485593</td>\n",
              "      <td>7694.147904</td>\n",
              "      <td>1.892021</td>\n",
              "    </tr>\n",
              "    <tr>\n",
              "      <th>surface_terrain</th>\n",
              "      <td>27.050549</td>\n",
              "      <td>2.890830</td>\n",
              "      <td>9.357363</td>\n",
              "    </tr>\n",
              "  </tbody>\n",
              "</table>\n",
              "</div>\n",
              "      <button class=\"colab-df-convert\" onclick=\"convertToInteractive('df-a997b7c1-02c5-4a89-90c0-fee2567fade0')\"\n",
              "              title=\"Convert this dataframe to an interactive table.\"\n",
              "              style=\"display:none;\">\n",
              "        \n",
              "  <svg xmlns=\"http://www.w3.org/2000/svg\" height=\"24px\"viewBox=\"0 0 24 24\"\n",
              "       width=\"24px\">\n",
              "    <path d=\"M0 0h24v24H0V0z\" fill=\"none\"/>\n",
              "    <path d=\"M18.56 5.44l.94 2.06.94-2.06 2.06-.94-2.06-.94-.94-2.06-.94 2.06-2.06.94zm-11 1L8.5 8.5l.94-2.06 2.06-.94-2.06-.94L8.5 2.5l-.94 2.06-2.06.94zm10 10l.94 2.06.94-2.06 2.06-.94-2.06-.94-.94-2.06-.94 2.06-2.06.94z\"/><path d=\"M17.41 7.96l-1.37-1.37c-.4-.4-.92-.59-1.43-.59-.52 0-1.04.2-1.43.59L10.3 9.45l-7.72 7.72c-.78.78-.78 2.05 0 2.83L4 21.41c.39.39.9.59 1.41.59.51 0 1.02-.2 1.41-.59l7.78-7.78 2.81-2.81c.8-.78.8-2.07 0-2.86zM5.41 20L4 18.59l7.72-7.72 1.47 1.35L5.41 20z\"/>\n",
              "  </svg>\n",
              "      </button>\n",
              "      \n",
              "  <style>\n",
              "    .colab-df-container {\n",
              "      display:flex;\n",
              "      flex-wrap:wrap;\n",
              "      gap: 12px;\n",
              "    }\n",
              "\n",
              "    .colab-df-convert {\n",
              "      background-color: #E8F0FE;\n",
              "      border: none;\n",
              "      border-radius: 50%;\n",
              "      cursor: pointer;\n",
              "      display: none;\n",
              "      fill: #1967D2;\n",
              "      height: 32px;\n",
              "      padding: 0 0 0 0;\n",
              "      width: 32px;\n",
              "    }\n",
              "\n",
              "    .colab-df-convert:hover {\n",
              "      background-color: #E2EBFA;\n",
              "      box-shadow: 0px 1px 2px rgba(60, 64, 67, 0.3), 0px 1px 3px 1px rgba(60, 64, 67, 0.15);\n",
              "      fill: #174EA6;\n",
              "    }\n",
              "\n",
              "    [theme=dark] .colab-df-convert {\n",
              "      background-color: #3B4455;\n",
              "      fill: #D2E3FC;\n",
              "    }\n",
              "\n",
              "    [theme=dark] .colab-df-convert:hover {\n",
              "      background-color: #434B5C;\n",
              "      box-shadow: 0px 1px 3px 1px rgba(0, 0, 0, 0.15);\n",
              "      filter: drop-shadow(0px 1px 2px rgba(0, 0, 0, 0.3));\n",
              "      fill: #FFFFFF;\n",
              "    }\n",
              "  </style>\n",
              "\n",
              "      <script>\n",
              "        const buttonEl =\n",
              "          document.querySelector('#df-a997b7c1-02c5-4a89-90c0-fee2567fade0 button.colab-df-convert');\n",
              "        buttonEl.style.display =\n",
              "          google.colab.kernel.accessAllowed ? 'block' : 'none';\n",
              "\n",
              "        async function convertToInteractive(key) {\n",
              "          const element = document.querySelector('#df-a997b7c1-02c5-4a89-90c0-fee2567fade0');\n",
              "          const dataTable =\n",
              "            await google.colab.kernel.invokeFunction('convertToInteractive',\n",
              "                                                     [key], {});\n",
              "          if (!dataTable) return;\n",
              "\n",
              "          const docLinkHtml = 'Like what you see? Visit the ' +\n",
              "            '<a target=\"_blank\" href=https://colab.research.google.com/notebooks/data_table.ipynb>data table notebook</a>'\n",
              "            + ' to learn more about interactive tables.';\n",
              "          element.innerHTML = '';\n",
              "          dataTable['output_type'] = 'display_data';\n",
              "          await google.colab.output.renderOutput(dataTable, element);\n",
              "          const docLink = document.createElement('div');\n",
              "          docLink.innerHTML = docLinkHtml;\n",
              "          element.appendChild(docLink);\n",
              "        }\n",
              "      </script>\n",
              "    </div>\n",
              "  </div>\n",
              "  "
            ]
          },
          "metadata": {},
          "execution_count": 299
        }
      ]
    },
    {
      "cell_type": "code",
      "source": [
        "print(\"\\n Valeur R-carré train:\",round(metrics.r2_score(y_train,train_pred),3))"
      ],
      "metadata": {
        "colab": {
          "base_uri": "https://localhost:8080/"
        },
        "id": "oHojFu8n3chM",
        "outputId": "0933d64e-2a17-49b7-fae3-46008b19c8c6"
      },
      "execution_count": null,
      "outputs": [
        {
          "output_type": "stream",
          "name": "stdout",
          "text": [
            "\n",
            " Valeur R-carré train: 0.605\n"
          ]
        }
      ]
    },
    {
      "cell_type": "markdown",
      "source": [
        "### Prédiction"
      ],
      "metadata": {
        "id": "1h0vXCy23rMB"
      }
    },
    {
      "cell_type": "code",
      "source": [
        "\n",
        "predictions = lm.predict(X_test)\n",
        "print(\"Valeur R-carré prédite:\",round(metrics.r2_score(y_test,predictions),3))\n",
        "\n",
        "plt.figure(figsize=(10,7))\n",
        "plt.title(\"prix réels vs. prédits\",fontsize=25)\n",
        "plt.xlabel(\"Prix réels\",fontsize=18)\n",
        "plt.ylabel(\"Prix prédits\", fontsize=18)\n",
        "plt.scatter(x=y_test,y=predictions)\n",
        "plt.plot([y.min(), 0.5*1e6], [y.min(), 0.5*1e6], color='red',lw=3)"
      ],
      "metadata": {
        "colab": {
          "base_uri": "https://localhost:8080/",
          "height": 512
        },
        "id": "KHYTmsPp3iBt",
        "outputId": "9e047add-9717-48d2-823f-0bf58da14645"
      },
      "execution_count": null,
      "outputs": [
        {
          "output_type": "stream",
          "name": "stdout",
          "text": [
            "Valeur R-carré prédite: -0.829\n"
          ]
        },
        {
          "output_type": "execute_result",
          "data": {
            "text/plain": [
              "[<matplotlib.lines.Line2D at 0x7f7410c89c10>]"
            ]
          },
          "metadata": {},
          "execution_count": 301
        },
        {
          "output_type": "display_data",
          "data": {
            "text/plain": [
              "<Figure size 720x504 with 1 Axes>"
            ],
            "image/png": "[encoded data removed]"
          },
          "metadata": {
            "needs_background": "light"
          }
        }
      ]
    },
    {
      "cell_type": "code",
      "source": [
        "prueba = lm.predict([[1,83,4,483]])\n",
        "print(np.round(prueba, 3))"
      ],
      "metadata": {
        "colab": {
          "base_uri": "https://localhost:8080/"
        },
        "id": "0EmMN-OYCTgA",
        "outputId": "2afa43b6-03b1-4c36-cbf9-dcdb3545755c"
      },
      "execution_count": null,
      "outputs": [
        {
          "output_type": "stream",
          "name": "stdout",
          "text": [
            "[172818.437]\n"
          ]
        },
        {
          "output_type": "stream",
          "name": "stderr",
          "text": [
            "/usr/local/lib/python3.8/dist-packages/sklearn/base.py:450: UserWarning: X does not have valid feature names, but LinearRegression was fitted with feature names\n",
            "  warnings.warn(\n"
          ]
        }
      ]
    },
    {
      "cell_type": "markdown",
      "source": [
        "# ONNX"
      ],
      "metadata": {
        "id": "UNnlo0AdZU7M"
      }
    },
    {
      "cell_type": "markdown",
      "source": [
        "Nous exportons le modèle en utilisant la bibliothèque ONNX pour le lier à l'application."
      ],
      "metadata": {
        "id": "m_bsp7uwJlv4"
      }
    },
    {
      "cell_type": "code",
      "source": [
        "pip install skl2onnx"
      ],
      "metadata": {
        "colab": {
          "base_uri": "https://localhost:8080/"
        },
        "id": "9sY5RUn7ZS4k",
        "outputId": "5c5f5d70-1ac5-4278-a3a5-0b49716dc1bf"
      },
      "execution_count": null,
      "outputs": [
        {
          "output_type": "stream",
          "name": "stdout",
          "text": [
            "Looking in indexes: https://pypi.org/simple, https://us-python.pkg.dev/colab-wheels/public/simple/\n",
            "Collecting skl2onnx\n",
            "  Downloading skl2onnx-1.13-py2.py3-none-any.whl (288 kB)\n",
            "\u001b[2K     \u001b[90m━━━━━━━━━━━━━━━━━━━━━━━━━━━━━━━━━━━━━━━\u001b[0m \u001b[32m288.7/288.7 KB\u001b[0m \u001b[31m9.7 MB/s\u001b[0m eta \u001b[36m0:00:00\u001b[0m\n",
            "\u001b[?25hRequirement already satisfied: scikit-learn>=0.19 in /usr/local/lib/python3.8/dist-packages (from skl2onnx) (1.0.2)\n",
            "Collecting onnxconverter-common>=1.7.0\n",
            "  Downloading onnxconverter_common-1.13.0-py2.py3-none-any.whl (83 kB)\n",
            "\u001b[2K     \u001b[90m━━━━━━━━━━━━━━━━━━━━━━━━━━━━━━━━━━━━━━━━\u001b[0m \u001b[32m83.8/83.8 KB\u001b[0m \u001b[31m7.7 MB/s\u001b[0m eta \u001b[36m0:00:00\u001b[0m\n",
            "\u001b[?25hRequirement already satisfied: scipy>=1.0 in /usr/local/lib/python3.8/dist-packages (from skl2onnx) (1.7.3)\n",
            "Requirement already satisfied: numpy>=1.15 in /usr/local/lib/python3.8/dist-packages (from skl2onnx) (1.21.6)\n",
            "Collecting onnx>=1.2.1\n",
            "  Downloading onnx-1.13.0-cp38-cp38-manylinux_2_17_x86_64.manylinux2014_x86_64.whl (13.5 MB)\n",
            "\u001b[2K     \u001b[90m━━━━━━━━━━━━━━━━━━━━━━━━━━━━━━━━━━━━━━━━\u001b[0m \u001b[32m13.5/13.5 MB\u001b[0m \u001b[31m38.8 MB/s\u001b[0m eta \u001b[36m0:00:00\u001b[0m\n",
            "\u001b[?25hRequirement already satisfied: protobuf in /usr/local/lib/python3.8/dist-packages (from skl2onnx) (3.19.6)\n",
            "Requirement already satisfied: typing-extensions>=3.6.2.1 in /usr/local/lib/python3.8/dist-packages (from onnx>=1.2.1->skl2onnx) (4.4.0)\n",
            "Collecting protobuf\n",
            "  Downloading protobuf-3.20.3-cp38-cp38-manylinux_2_5_x86_64.manylinux1_x86_64.whl (1.0 MB)\n",
            "\u001b[2K     \u001b[90m━━━━━━━━━━━━━━━━━━━━━━━━━━━━━━━━━━━━━━━━\u001b[0m \u001b[32m1.0/1.0 MB\u001b[0m \u001b[31m49.4 MB/s\u001b[0m eta \u001b[36m0:00:00\u001b[0m\n",
            "\u001b[?25hRequirement already satisfied: packaging in /usr/local/lib/python3.8/dist-packages (from onnxconverter-common>=1.7.0->skl2onnx) (21.3)\n",
            "Requirement already satisfied: joblib>=0.11 in /usr/local/lib/python3.8/dist-packages (from scikit-learn>=0.19->skl2onnx) (1.2.0)\n",
            "Requirement already satisfied: threadpoolctl>=2.0.0 in /usr/local/lib/python3.8/dist-packages (from scikit-learn>=0.19->skl2onnx) (3.1.0)\n",
            "Requirement already satisfied: pyparsing!=3.0.5,>=2.0.2 in /usr/local/lib/python3.8/dist-packages (from packaging->onnxconverter-common>=1.7.0->skl2onnx) (3.0.9)\n",
            "Installing collected packages: protobuf, onnx, onnxconverter-common, skl2onnx\n",
            "  Attempting uninstall: protobuf\n",
            "    Found existing installation: protobuf 3.19.6\n",
            "    Uninstalling protobuf-3.19.6:\n",
            "      Successfully uninstalled protobuf-3.19.6\n",
            "\u001b[31mERROR: pip's dependency resolver does not currently take into account all the packages that are installed. This behaviour is the source of the following dependency conflicts.\n",
            "tensorflow 2.9.2 requires protobuf<3.20,>=3.9.2, but you have protobuf 3.20.3 which is incompatible.\n",
            "tensorboard 2.9.1 requires protobuf<3.20,>=3.9.2, but you have protobuf 3.20.3 which is incompatible.\u001b[0m\u001b[31m\n",
            "\u001b[0mSuccessfully installed onnx-1.13.0 onnxconverter-common-1.13.0 protobuf-3.20.3 skl2onnx-1.13\n"
          ]
        }
      ]
    },
    {
      "cell_type": "code",
      "source": [
        "pip install onnxruntime"
      ],
      "metadata": {
        "colab": {
          "base_uri": "https://localhost:8080/"
        },
        "id": "6JEUjC_GdMdv",
        "outputId": "76b0fedc-1400-4dc7-93b5-198aa88acd36"
      },
      "execution_count": null,
      "outputs": [
        {
          "output_type": "stream",
          "name": "stdout",
          "text": [
            "Looking in indexes: https://pypi.org/simple, https://us-python.pkg.dev/colab-wheels/public/simple/\n",
            "Collecting onnxruntime\n",
            "  Downloading onnxruntime-1.13.1-cp38-cp38-manylinux_2_27_x86_64.whl (4.5 MB)\n",
            "\u001b[2K     \u001b[90m━━━━━━━━━━━━━━━━━━━━━━━━━━━━━━━━━━━━━━━━\u001b[0m \u001b[32m4.5/4.5 MB\u001b[0m \u001b[31m10.3 MB/s\u001b[0m eta \u001b[36m0:00:00\u001b[0m\n",
            "\u001b[?25hRequirement already satisfied: sympy in /usr/local/lib/python3.8/dist-packages (from onnxruntime) (1.7.1)\n",
            "Requirement already satisfied: flatbuffers in /usr/local/lib/python3.8/dist-packages (from onnxruntime) (1.12)\n",
            "Requirement already satisfied: protobuf in /usr/local/lib/python3.8/dist-packages (from onnxruntime) (3.20.3)\n",
            "Requirement already satisfied: packaging in /usr/local/lib/python3.8/dist-packages (from onnxruntime) (21.3)\n",
            "Collecting coloredlogs\n",
            "  Downloading coloredlogs-15.0.1-py2.py3-none-any.whl (46 kB)\n",
            "\u001b[2K     \u001b[90m━━━━━━━━━━━━━━━━━━━━━━━━━━━━━━━━━━━━━━━━\u001b[0m \u001b[32m46.0/46.0 KB\u001b[0m \u001b[31m3.3 MB/s\u001b[0m eta \u001b[36m0:00:00\u001b[0m\n",
            "\u001b[?25hRequirement already satisfied: numpy>=1.21.6 in /usr/local/lib/python3.8/dist-packages (from onnxruntime) (1.21.6)\n",
            "Collecting humanfriendly>=9.1\n",
            "  Downloading humanfriendly-10.0-py2.py3-none-any.whl (86 kB)\n",
            "\u001b[2K     \u001b[90m━━━━━━━━━━━━━━━━━━━━━━━━━━━━━━━━━━━━━━━━\u001b[0m \u001b[32m86.8/86.8 KB\u001b[0m \u001b[31m6.3 MB/s\u001b[0m eta \u001b[36m0:00:00\u001b[0m\n",
            "\u001b[?25hRequirement already satisfied: pyparsing!=3.0.5,>=2.0.2 in /usr/local/lib/python3.8/dist-packages (from packaging->onnxruntime) (3.0.9)\n",
            "Requirement already satisfied: mpmath>=0.19 in /usr/local/lib/python3.8/dist-packages (from sympy->onnxruntime) (1.2.1)\n",
            "Installing collected packages: humanfriendly, coloredlogs, onnxruntime\n",
            "Successfully installed coloredlogs-15.0.1 humanfriendly-10.0 onnxruntime-1.13.1\n"
          ]
        }
      ]
    },
    {
      "cell_type": "code",
      "source": [
        "from skl2onnx import convert_sklearn\n",
        "from skl2onnx.common.data_types import FloatTensorType\n",
        "\n",
        "# Specify an initial type for the model ( similar to input shape for the model )\n",
        "initial_type = [ \n",
        "    ( 'x_new' , FloatTensorType( [1,4] ) )\n",
        "]\n",
        "\n",
        "# Write the ONNX model to disk\n",
        "converted_model = convert_sklearn( lm , initial_types=initial_type )\n",
        "with open( \"model_immobiliere.onnx\", \"wb\" ) as f:\n",
        "    f.write( converted_model.SerializeToString() )"
      ],
      "metadata": {
        "id": "MTxXwjsCZu1g"
      },
      "execution_count": null,
      "outputs": []
    },
    {
      "cell_type": "code",
      "source": [
        "!python -m onnxruntime.tools.convert_onnx_models_to_ort /content/model_immobiliere.onnx"
      ],
      "metadata": {
        "colab": {
          "base_uri": "https://localhost:8080/"
        },
        "id": "5WLviZmxdXBw",
        "outputId": "58e0ace9-f898-4f4b-e38d-6b538ebd0894"
      },
      "execution_count": null,
      "outputs": [
        {
          "output_type": "stream",
          "name": "stdout",
          "text": [
            "Converting models with optimization style 'Fixed' and level 'all'\n",
            "Converting optimized ONNX model /content/model_immobiliere.onnx to ORT format model /content/model_immobiliere.ort\n",
            "Converted 1/1 models successfully.\n",
            "Generating config file from ORT format models with optimization style 'Fixed' and level 'all'\n",
            "2023-01-06 17:36:17,982 ort_format_model.utils [INFO] - Created config in /content/model_immobiliere.required_operators.config\n",
            "Converting models with optimization style 'Runtime' and level 'all'\n",
            "Converting optimized ONNX model /content/model_immobiliere.onnx to ORT format model /content/model_immobiliere.with_runtime_opt.ort\n",
            "Converted 1/1 models successfully.\n",
            "Converting models again without runtime optimizations to generate a complete config file. These converted models are temporary and will be deleted.\n",
            "Converting optimized ONNX model /content/model_immobiliere.onnx to ORT format model /content/tmpxwl89jvd.without_runtime_opt/model_immobiliere.ort\n",
            "Converted 1/1 models successfully.\n",
            "Generating config file from ORT format models with optimization style 'Runtime' and level 'all'\n",
            "2023-01-06 17:36:17,986 ort_format_model.utils [INFO] - Created config in /content/model_immobiliere.required_operators.with_runtime_opt.config\n"
          ]
        }
      ]
    }
  ]
}